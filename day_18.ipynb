{
 "cells": [
  {
   "attachments": {},
   "cell_type": "markdown",
   "metadata": {},
   "source": [
    "# Day 18\n",
    "\n",
    "## Part 1\n",
    "\n",
    "- count the surface area of a lava droplet\n",
    "- the droplet is defined by a series of 1x1x1 cubes\n",
    "- the surface area is any face not immeidately connected to another cube\n",
    "\n",
    "`What is the surface area of your scanned lava droplet?`"
   ]
  },
  {
   "cell_type": "code",
   "execution_count": 1,
   "metadata": {},
   "outputs": [
    {
     "name": "stdout",
     "output_type": "stream",
     "text": [
      "[[3, 10, 12], [7, 19, 11], [19, 8, 12], [18, 17, 8], [14, 13, 5], [11, 12, 20], [20, 11, 13], [5, 9, 18], [13, 2, 11], [15, 11, 3]]\n"
     ]
    }
   ],
   "source": [
    "from utils import parse_from_file, ParseConfig\n",
    "\n",
    "parser = ParseConfig('\\n', ParseConfig(',', int))\n",
    "\n",
    "cubes = parse_from_file('day_18.txt', parser)\n",
    "\n",
    "print(cubes[:10])"
   ]
  },
  {
   "cell_type": "code",
   "execution_count": 5,
   "metadata": {},
   "outputs": [
    {
     "name": "stdout",
     "output_type": "stream",
     "text": [
      "16\n"
     ]
    }
   ],
   "source": [
    "def get_surface_area(cubes: list[list[int]]) -> int:\n",
    "    \"\"\"\n",
    "    returns the surface area of all cubes listed\n",
    "    \"\"\"\n",
    "    surface_area = 6 * len(cubes)\n",
    "\n",
    "    for cube in cubes:\n",
    "        for other_cube in cubes:\n",
    "            if cube == other_cube:\n",
    "                continue\n",
    "            for index, (a, b) in enumerate(zip(cube, other_cube)):\n",
    "                if all(\n",
    "                    [\n",
    "                        c == d for i, (c, d) in enumerate(zip(cube, other_cube))\n",
    "                        if i != index\n",
    "                    ]) and abs(a - b) <= 1:\n",
    "                    surface_area -= 1\n",
    "    return surface_area\n",
    "\n",
    "test_cubes = [\n",
    "    [1,1,1],\n",
    "    [2,1,1],\n",
    "    [4,1,1]\n",
    "]\n",
    "\n",
    "print(get_surface_area(test_cubes))"
   ]
  },
  {
   "cell_type": "code",
   "execution_count": 6,
   "metadata": {},
   "outputs": [
    {
     "name": "stdout",
     "output_type": "stream",
     "text": [
      "the total surface area of the lava droplet is: 4450!\n"
     ]
    }
   ],
   "source": [
    "total_surface_area = get_surface_area(cubes)\n",
    "\n",
    "print(f'the total surface area of the lava droplet is: {total_surface_area}!')"
   ]
  }
 ],
 "metadata": {
  "kernelspec": {
   "display_name": "advent-of-code-22",
   "language": "python",
   "name": "python3"
  },
  "language_info": {
   "codemirror_mode": {
    "name": "ipython",
    "version": 3
   },
   "file_extension": ".py",
   "mimetype": "text/x-python",
   "name": "python",
   "nbconvert_exporter": "python",
   "pygments_lexer": "ipython3",
   "version": "3.11.0"
  },
  "orig_nbformat": 4,
  "vscode": {
   "interpreter": {
    "hash": "68417e919b0e4b56d7cc53f5fb728a454fa0b7c2f4afec00c4a0958dca6f6ed0"
   }
  }
 },
 "nbformat": 4,
 "nbformat_minor": 2
}
