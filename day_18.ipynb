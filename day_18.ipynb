{
 "cells": [
  {
   "attachments": {},
   "cell_type": "markdown",
   "metadata": {},
   "source": [
    "# Day 18\n",
    "\n",
    "## Part 1\n",
    "\n",
    "- count the surface area of a lava droplet\n",
    "- the droplet is defined by a series of 1x1x1 cubes\n",
    "- the surface area is any face not immeidately connected to another cube\n",
    "\n",
    "`What is the surface area of your scanned lava droplet?`"
   ]
  },
  {
   "cell_type": "code",
   "execution_count": 1,
   "metadata": {},
   "outputs": [
    {
     "name": "stdout",
     "output_type": "stream",
     "text": [
      "[[3, 10, 12], [7, 19, 11], [19, 8, 12], [18, 17, 8], [14, 13, 5], [11, 12, 20], [20, 11, 13], [5, 9, 18], [13, 2, 11], [15, 11, 3]]\n"
     ]
    }
   ],
   "source": [
    "from copy import deepcopy\n",
    "from matplotlib import pyplot as plt\n",
    "import numpy as np\n",
    "from utils import parse_from_file, ParseConfig\n",
    "\n",
    "parser = ParseConfig('\\n', ParseConfig(',', int))\n",
    "\n",
    "cubes = parse_from_file('day_18.txt', parser)\n",
    "\n",
    "print(cubes[:10])"
   ]
  },
  {
   "cell_type": "code",
   "execution_count": 2,
   "metadata": {},
   "outputs": [
    {
     "name": "stdout",
     "output_type": "stream",
     "text": [
      "16\n"
     ]
    }
   ],
   "source": [
    "def get_surface_area(cubes: list[list[int]]) -> int:\n",
    "    \"\"\"\n",
    "    returns the surface area of all cubes listed\n",
    "    \"\"\"\n",
    "    surface_area = 6 * len(cubes)\n",
    "\n",
    "    for cube in cubes:\n",
    "        for other_cube in cubes:\n",
    "            if cube == other_cube:\n",
    "                continue\n",
    "            for index, (a, b) in enumerate(zip(cube, other_cube)):\n",
    "                if all(\n",
    "                    [\n",
    "                        c == d for i, (c, d) in enumerate(zip(cube, other_cube))\n",
    "                        if i != index\n",
    "                    ]) and abs(a - b) <= 1:\n",
    "                    surface_area -= 1\n",
    "    return surface_area\n",
    "\n",
    "test_cubes = [\n",
    "    [1,1,1],\n",
    "    [2,1,1],\n",
    "    [4,1,1]\n",
    "]\n",
    "\n",
    "print(get_surface_area(test_cubes))"
   ]
  },
  {
   "cell_type": "code",
   "execution_count": 3,
   "metadata": {},
   "outputs": [
    {
     "name": "stdout",
     "output_type": "stream",
     "text": [
      "the total surface area of the lava droplet is: 4450!\n"
     ]
    }
   ],
   "source": [
    "total_surface_area = get_surface_area(cubes)\n",
    "\n",
    "print(f'the total surface area of the lava droplet is: {total_surface_area}!')"
   ]
  },
  {
   "attachments": {},
   "cell_type": "markdown",
   "metadata": {},
   "source": [
    "## Part 2\n",
    "\n",
    "- Instead find only the surface properly on the exterior of the droplet"
   ]
  },
  {
   "cell_type": "code",
   "execution_count": 8,
   "metadata": {},
   "outputs": [
    {
     "name": "stdout",
     "output_type": "stream",
     "text": [
      "(20, 21, 21)\n"
     ]
    },
    {
     "data": {
      "text/plain": [
       "Text(0.5, 0.98, 'how lavaley')"
      ]
     },
     "execution_count": 8,
     "metadata": {},
     "output_type": "execute_result"
    },
    {
     "data": {
      "image/png": "[encoded data removed]",
      "text/plain": [
       "<Figure size 640x480 with 24 Axes>"
      ]
     },
     "metadata": {},
     "output_type": "display_data"
    }
   ],
   "source": [
    "limits = (\n",
    "    max([x for x, y, z in cubes]),\n",
    "    max([y for x, y, z in cubes]),\n",
    "    max([z for x, y, z in cubes])\n",
    ")\n",
    "\n",
    "print(limits)\n",
    "\n",
    "grid = []\n",
    "xlim, ylim, zlim = limits\n",
    "for _ in range(zlim + 2):\n",
    "    grid.append([])\n",
    "    for __ in range(ylim + 3):\n",
    "        grid[-1].append([])\n",
    "        for ___ in range(xlim + 2):\n",
    "            grid[-1][-1].append(0)\n",
    "\n",
    "for x, y, z in cubes:\n",
    "    grid[z][y + 1][x] = 1\n",
    "\n",
    "# add a little extra padding\n",
    "grid = [[[0 for _ in row] for row in grid[0]]] + grid\n",
    "\n",
    "def plot_slices(grid: list[list[list[int]]], above_to_nan: int = None) -> None:\n",
    "    \"\"\"\n",
    "    plots a series of 2d grid colour meshes for each z slice of a 3d grid\n",
    "    \"\"\"\n",
    "    copy = deepcopy(grid)\n",
    "    if above_to_nan is not None:\n",
    "        for z, z_slice in enumerate(grid):\n",
    "            for y, row in enumerate(z_slice):\n",
    "                for x, value in enumerate(row):\n",
    "                    if value >= above_to_nan:\n",
    "                        copy[z][y][x] = np.nan\n",
    "    nrows, ncols = 4, 6\n",
    "    fig, _ = plt.subplots(nrows=nrows, ncols=ncols, sharex=True, sharey=False)\n",
    "    for z_level, (ax, z_slice) in enumerate(zip(reversed(fig.axes), copy)):\n",
    "        ax.pcolormesh(z_slice)\n",
    "        ax.set_xticklabels([])\n",
    "        ax.set_yticklabels([])\n",
    "        ax.text(1, 1, z_level, color='r')\n",
    "    \n",
    "    return fig\n",
    "\n",
    "fig = plot_slices(grid)\n",
    "fig.suptitle('how lavaley')"
   ]
  },
  {
   "cell_type": "code",
   "execution_count": 9,
   "metadata": {},
   "outputs": [
    {
     "name": "stdout",
     "output_type": "stream",
     "text": [
      "[((0, 0, 0), [(0, 0, 1), (0, 1, 0), (1, 0, 0)])]\n"
     ]
    }
   ],
   "source": [
    "# let's create a net of all the positive and negative spaces\n",
    "net = {}\n",
    "\n",
    "for z, z_slice in enumerate(grid):\n",
    "    for y, row in enumerate(z_slice):\n",
    "        for x, value in enumerate(row):\n",
    "            neighbours = []\n",
    "            for ox, oy, oz in ((0, 0, 1), (0, 1, 0), (1, 0, 0), (0, 0, -1), (0, -1, 0), (-1, 0, 0)):\n",
    "                # bounds check\n",
    "                if not 0 <= x + ox < len(row):\n",
    "                    continue\n",
    "                if not 0 <= y + oy < len(z_slice):\n",
    "                    continue\n",
    "                if not 0 <= z + oz < len(grid):\n",
    "                    continue\n",
    "                if grid[z + oz][y + oy][x + ox] == value:\n",
    "                    neighbours.append((x + ox, y + oy, z + oz))\n",
    "            net.update({(x, y, z): neighbours})\n",
    "\n",
    "print(list(net.items())[:1])"
   ]
  },
  {
   "cell_type": "code",
   "execution_count": 13,
   "metadata": {},
   "outputs": [
    {
     "name": "stdout",
     "output_type": "stream",
     "text": [
      "(18, 23, 21) - 66.3%          \r"
     ]
    }
   ],
   "source": [
    "# using Dijkstra's algorithm from day 12 with a few tweaks\n",
    "def dijkstra(\n",
    "        grid: list[list[list[int]]], net: dict, start: tuple[tuple[int]],\n",
    "        end: 'tuple[tuple[int]]|None'\n",
    ") -> 'list[list[int]]':\n",
    "    \"\"\"\n",
    "    run Djikstra's algorithm to find the shortest distance from start to end\n",
    "    \"\"\"\n",
    "    # mark all nodes as unvisited\n",
    "    visited = [[[False for _ in row] for row in z_slice] for z_slice in grid]\n",
    "\n",
    "    # set all notes to a tentative max distance from start\n",
    "    max_distance = len(grid) * len(grid[0]) * len(grid[0][0])\n",
    "    distances = [\n",
    "        [[max_distance for _ in row] for row in z_slice] for z_slice in grid\n",
    "    ]\n",
    "    # ...except for our starting node which is 0s\n",
    "    x, y, z = start\n",
    "    distances[z][y][x] = 0\n",
    "\n",
    "    # set current node as the start\n",
    "    current_node = start\n",
    "\n",
    "    number_visited = 0\n",
    "    while True:\n",
    "        x, y, z = current_node\n",
    "        # iterate through each neighbour and set it's new tentative distance\n",
    "        distance_to_here = distances[z][y][x]\n",
    "        for neighbour in net[current_node]:\n",
    "            x, y, z = neighbour\n",
    "            if visited[z][y][x]:\n",
    "                continue\n",
    "            distances[z][y][x] = min(distances[z][y][x], distance_to_here + 1)\n",
    "        x, y, z = current_node\n",
    "        # mark this node as visited\n",
    "        visited[z][y][x] = True\n",
    "        number_visited += 1\n",
    "\n",
    "        # if this node is the end, we're done!\n",
    "        if current_node == end:\n",
    "            return distances\n",
    "        if number_visited % 100 == 0:\n",
    "            percent_done = 100 * number_visited / max_distance\n",
    "            print(f'{current_node} - {percent_done:.1f}%' + ' '*10, end='\\r')\n",
    "        \n",
    "        # otherwise find the node with the smallest tenative distance and\n",
    "        # repeat\n",
    "        ux, uy, uz = None, None, None\n",
    "        lowest_unvisited = max_distance\n",
    "        for z, z_slice in enumerate(visited):\n",
    "            for y, row in enumerate(z_slice):\n",
    "                for x, is_visited in enumerate(row):\n",
    "                    if is_visited:\n",
    "                        continue\n",
    "                    if distances[z][y][x] < lowest_unvisited:\n",
    "                        ux, uy, uz = x, y, z\n",
    "                        lowest_unvisited = distances[z][y][x]\n",
    "        if lowest_unvisited == max_distance:\n",
    "            # if true all reachable points have been visited\n",
    "            return distances\n",
    "        current_node = (ux, uy, uz)\n",
    "\n",
    "outer_distances = dijkstra(grid, net, (0, 0, 0), None)"
   ]
  },
  {
   "cell_type": "code",
   "execution_count": 16,
   "metadata": {},
   "outputs": [
    {
     "data": {
      "text/plain": [
       "Text(0.5, 0.98, \"we've only just touched the surface\")"
      ]
     },
     "execution_count": 16,
     "metadata": {},
     "output_type": "execute_result"
    },
    {
     "data": {
      "image/png": "[encoded data removed]",
      "text/plain": [
       "<Figure size 640x480 with 24 Axes>"
      ]
     },
     "metadata": {},
     "output_type": "display_data"
    }
   ],
   "source": [
    "max_distance = len(grid) * len(grid[0]) * len(grid[0][0])\n",
    "fig = plot_slices(outer_distances, above_to_nan = max_distance)\n",
    "fig.suptitle('we\\'ve only just touched the surface')"
   ]
  },
  {
   "cell_type": "code",
   "execution_count": 18,
   "metadata": {},
   "outputs": [
    {
     "name": "stdout",
     "output_type": "stream",
     "text": [
      "[(9, 11, 1), (10, 12, 1), (9, 8, 2), (10, 8, 2), (8, 9, 2), (10, 9, 2), (11, 9, 2), (12, 9, 2), (13, 9, 2), (10, 10, 2)]\n"
     ]
    }
   ],
   "source": [
    "# let's re-create the inpt now but with a solid core\n",
    "inner_cubes = []\n",
    "for z, z_slice in enumerate(outer_distances):\n",
    "    grid.append([])\n",
    "    for y, row in enumerate(z_slice):\n",
    "        grid[-1].append([])\n",
    "        for x, distance in enumerate(row):\n",
    "            if distance >= max_distance:\n",
    "                inner_cubes.append((x, y, z))\n",
    "\n",
    "print(inner_cubes[:10])"
   ]
  },
  {
   "cell_type": "code",
   "execution_count": 19,
   "metadata": {},
   "outputs": [],
   "source": [
    "exterior_surface_area = get_surface_area(inner_cubes)"
   ]
  },
  {
   "cell_type": "code",
   "execution_count": 20,
   "metadata": {},
   "outputs": [
    {
     "name": "stdout",
     "output_type": "stream",
     "text": [
      "the exterior suface area of the droplet is: 2564!\n"
     ]
    }
   ],
   "source": [
    "print(f'the exterior suface area of the droplet is: {exterior_surface_area}!')"
   ]
  }
 ],
 "metadata": {
  "kernelspec": {
   "display_name": "advent-of-code-22",
   "language": "python",
   "name": "python3"
  },
  "language_info": {
   "codemirror_mode": {
    "name": "ipython",
    "version": 3
   },
   "file_extension": ".py",
   "mimetype": "text/x-python",
   "name": "python",
   "nbconvert_exporter": "python",
   "pygments_lexer": "ipython3",
   "version": "3.11.0"
  },
  "orig_nbformat": 4,
  "vscode": {
   "interpreter": {
    "hash": "68417e919b0e4b56d7cc53f5fb728a454fa0b7c2f4afec00c4a0958dca6f6ed0"
   }
  }
 },
 "nbformat": 4,
 "nbformat_minor": 2
}
