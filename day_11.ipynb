{
 "cells": [
  {
   "attachments": {},
   "cell_type": "markdown",
   "metadata": {},
   "source": [
    "# Day 11\n",
    "\n",
    "## Part 1\n",
    "\n",
    "- The monkeys operate based on how worried I am about each item\n",
    "- Each monkey has the following attributes:\n",
    "    - Starting items: a list of the worry level per item\n",
    "    - Operation: how my worry level changes as the monkey inspects the item\n",
    "    - Test: How the monkey decides whether/where to throw the item next\n",
    "- After the operation but before the test the worry level is divided by 3\n",
    "- Monkeys go in order of their number. When all the monkeys have gone, that is a round.\n",
    "- Items are added to the end of a monkey slist of items.\n",
    "\n",
    "`Figure out which monkeys to chase by counting how many items they inspect over 20 rounds. What is the level of monkey business after 20 rounds of stuff-slinging simian shenanigans?`"
   ]
  },
  {
   "cell_type": "code",
   "execution_count": 42,
   "metadata": {},
   "outputs": [
    {
     "name": "stdout",
     "output_type": "stream",
     "text": [
      "Monkey 0:\n",
      "  Starting items: 76, 88, 96, 97, 58, 61, 67\n",
      "  Operation: new = old * 19\n",
      "  Test: divisible by 3\n",
      "    If true: throw to monkey 2\n",
      "    If false: throw to monkey 3\n"
     ]
    }
   ],
   "source": [
    "from utils import parse_from_file, ParseConfig\n",
    "\n",
    "parser = ParseConfig('\\n\\n', str)\n",
    "\n",
    "initial_state = parse_from_file('day_11.txt', parser)\n",
    "\n",
    "print(initial_state[0])"
   ]
  },
  {
   "cell_type": "code",
   "execution_count": 43,
   "metadata": {},
   "outputs": [
    {
     "name": "stdout",
     "output_type": "stream",
     "text": [
      "['Monkey 0:', '  Starting items: 76, 88, 96, 97, 58, 61, 67', '  Operation: new = old * 19', '  Test: divisible by 3', '    If true: throw to monkey 2', '    If false: throw to monkey 3']\n"
     ]
    }
   ],
   "source": [
    "# looks like we're in for some parser shenannigans!\n",
    "parser = ParseConfig('\\n\\n', ParseConfig('\\n', str))\n",
    "\n",
    "initial_state = parse_from_file('day_11.txt', parser)\n",
    "\n",
    "print(initial_state[0])"
   ]
  },
  {
   "cell_type": "code",
   "execution_count": 44,
   "metadata": {},
   "outputs": [
    {
     "name": "stdout",
     "output_type": "stream",
     "text": [
      "[[[0]], '  Starting items: 76, 88, 96, 97, 58, 61, 67', '  Operation: new = old * 19', '  Test: divisible by 3', '    If true: throw to monkey 2', '    If false: throw to monkey 3']\n"
     ]
    }
   ],
   "source": [
    "parser = ParseConfig('\\n\\n', ParseConfig('\\n', [\n",
    "    ParseConfig(':', [ParseConfig(' ', [None, int]), None]),\n",
    "    str, str, str, str, str\n",
    "]))\n",
    "\n",
    "initial_state = parse_from_file('day_11.txt', parser)\n",
    "\n",
    "print(initial_state[0])"
   ]
  },
  {
   "cell_type": "code",
   "execution_count": 45,
   "metadata": {},
   "outputs": [
    {
     "name": "stdout",
     "output_type": "stream",
     "text": [
      "[[[0]], [[76, 88, 96, 97, 58, 61, 67]], '  Operation: new = old * 19', '  Test: divisible by 3', '    If true: throw to monkey 2', '    If false: throw to monkey 3']\n"
     ]
    }
   ],
   "source": [
    "parser = ParseConfig('\\n\\n', ParseConfig('\\n', [\n",
    "    ParseConfig(':', [ParseConfig(' ', [None, int]), None]),  # Monkey index\n",
    "    ParseConfig('Starting items:', [None, ParseConfig(', ', int)]),\n",
    "    str, str, str, str\n",
    "]))\n",
    "\n",
    "initial_state = parse_from_file('day_11.txt', parser)\n",
    "\n",
    "print(initial_state[0])"
   ]
  },
  {
   "cell_type": "code",
   "execution_count": 46,
   "metadata": {},
   "outputs": [
    {
     "name": "stdout",
     "output_type": "stream",
     "text": [
      "[[[0]], [[76, 88, 96, 97, 58, 61, 67]], [['*', '19']], '  Test: divisible by 3', '    If true: throw to monkey 2', '    If false: throw to monkey 3']\n"
     ]
    }
   ],
   "source": [
    "parser = ParseConfig('\\n\\n', ParseConfig('\\n', [\n",
    "    ParseConfig(':', [ParseConfig(' ', [None, int]), None]),  # Monkey index\n",
    "    ParseConfig('Starting items:', [None, ParseConfig(', ', int)]),\n",
    "    ParseConfig('Operation: new = old ', [None, ParseConfig(' ', str)]),\n",
    "    str, str, str\n",
    "]))\n",
    "\n",
    "initial_state = parse_from_file('day_11.txt', parser)\n",
    "\n",
    "print(initial_state[0])"
   ]
  },
  {
   "cell_type": "code",
   "execution_count": 47,
   "metadata": {},
   "outputs": [
    {
     "name": "stdout",
     "output_type": "stream",
     "text": [
      "[[[0]], [[76, 88, 96, 97, 58, 61, 67]], [['*', '19']], [3], '    If true: throw to monkey 2', '    If false: throw to monkey 3']\n"
     ]
    }
   ],
   "source": [
    "parser = ParseConfig('\\n\\n', ParseConfig('\\n', [\n",
    "    ParseConfig(':', [ParseConfig(' ', [None, int]), None]),  # Monkey index\n",
    "    ParseConfig('Starting items:', [None, ParseConfig(', ', int)]),\n",
    "    ParseConfig('Operation: new = old ', [None, ParseConfig(' ', str)]),\n",
    "    ParseConfig('Test: divisible by', [None, int]),\n",
    "    str, str\n",
    "]))\n",
    "\n",
    "initial_state = parse_from_file('day_11.txt', parser)\n",
    "\n",
    "print(initial_state[0])"
   ]
  },
  {
   "cell_type": "code",
   "execution_count": 48,
   "metadata": {},
   "outputs": [
    {
     "name": "stdout",
     "output_type": "stream",
     "text": [
      "[[[0]], [[76, 88, 96, 97, 58, 61, 67]], [['*', '19']], [3], [2], [3]]\n"
     ]
    }
   ],
   "source": [
    "parser = ParseConfig('\\n\\n', ParseConfig('\\n', [\n",
    "    ParseConfig(':', [ParseConfig(' ', [None, int]), None]),  # Monkey index\n",
    "    ParseConfig('Starting items:', [None, ParseConfig(', ', int)]),\n",
    "    ParseConfig('Operation: new = old ', [None, ParseConfig(' ', str)]),\n",
    "    ParseConfig('Test: divisible by', [None, int]),\n",
    "    ParseConfig('If true: throw to monkey', [None, int]),\n",
    "    ParseConfig('If false: throw to monkey', [None, int]),\n",
    "]))\n",
    "\n",
    "initial_state = parse_from_file('day_11.txt', parser)\n",
    "\n",
    "print(initial_state[0])"
   ]
  },
  {
   "cell_type": "code",
   "execution_count": 53,
   "metadata": {},
   "outputs": [
    {
     "name": "stdout",
     "output_type": "stream",
     "text": [
      "<Monkey: id=0, items=[76, 88, 96, 97, 58, 61, 67], on_false=3, on_true=2, operation=<function Monkey._parse_operation.<locals>.operation at 0x0000016EC7E731A0>, test=<function Monkey._parse_test.<locals>.divisor_check at 0x0000016EC7E71E40>>\n"
     ]
    }
   ],
   "source": [
    "class Monkey:\n",
    "    \"\"\"A container for all the business attributed to one monkey\"\"\"\n",
    "    def __init__(self, parser_dump: 'list[list]'):\n",
    "        id, items, operation, test, on_true, on_false = parser_dump\n",
    "        self.id = id[0][0]\n",
    "        self.items = items[0]\n",
    "        self.operation = self._parse_operation(*operation[0])\n",
    "        self.test = self._parse_test(test[0])\n",
    "        self.on_true = on_true[0]\n",
    "        self.on_false = on_false[0]\n",
    "    \n",
    "    def _parse_operation(\n",
    "            self, operator: str, operand: str) -> callable:\n",
    "        \"\"\"\n",
    "        returns the operation as a function by parsing the values specified in\n",
    "        the input.\n",
    "        \"\"\"\n",
    "        def operation(value: int) -> int:\n",
    "            if operand == 'old':\n",
    "                op2 = value\n",
    "            else:\n",
    "                op2 = int(operand)\n",
    "            if operator == '+':\n",
    "                return value + op2\n",
    "            elif operator == '*':\n",
    "                return value * op2\n",
    "            else:\n",
    "                raise ValueError(f'operator not recognised: {operator}')\n",
    "        \n",
    "        return operation\n",
    "\n",
    "    def _parse_test(self, divisor: int) -> callable:\n",
    "        \"\"\"\n",
    "        returns a function that returns true if the an integer input is\n",
    "        divisible by the divisor specified\n",
    "        \"\"\"\n",
    "        def divisor_check(value: int) -> bool:\n",
    "            return value % divisor == 0\n",
    "        \n",
    "        return divisor_check\n",
    "    \n",
    "    def __str__(self) -> str:\n",
    "        string = '<Monkey: '\n",
    "        attributes = []\n",
    "        for attribute in dir(self):\n",
    "            if not attribute.startswith('_'):\n",
    "                attributes.append(f'{attribute}={getattr(self, attribute)}')\n",
    "        string = string + ', '.join(attributes) + '>'\n",
    "        return string\n",
    "\n",
    "monkeys = [Monkey(state) for state in initial_state]\n",
    "\n",
    "print(monkeys[0])"
   ]
  }
 ],
 "metadata": {
  "kernelspec": {
   "display_name": "Python 3.11.0 ('advent-of-code': venv)",
   "language": "python",
   "name": "python3"
  },
  "language_info": {
   "codemirror_mode": {
    "name": "ipython",
    "version": 3
   },
   "file_extension": ".py",
   "mimetype": "text/x-python",
   "name": "python",
   "nbconvert_exporter": "python",
   "pygments_lexer": "ipython3",
   "version": "3.11.0"
  },
  "orig_nbformat": 4,
  "vscode": {
   "interpreter": {
    "hash": "2d3d69b7f7c7447ebb59bd0325e8659c9bdbb7c04d20332a5a8a68af11de2233"
   }
  }
 },
 "nbformat": 4,
 "nbformat_minor": 2
}
