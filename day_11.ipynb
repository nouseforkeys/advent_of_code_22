{
 "cells": [
  {
   "attachments": {},
   "cell_type": "markdown",
   "metadata": {},
   "source": [
    "# Day 11\n",
    "\n",
    "## Part 1\n",
    "\n",
    "- The monkeys operate based on how worried I am about each item\n",
    "- Each monkey has the following attributes:\n",
    "    - Starting items: a list of the worry level per item\n",
    "    - Operation: how my worry level changes as the monkey inspects the item\n",
    "    - Test: How the monkey decides whether/where to throw the item next\n",
    "- After the operation but before the test the worry level is divided by 3\n",
    "- Monkeys go in order of their number. When all the monkeys have gone, that is a round.\n",
    "- Items are added to the end of a monkey slist of items.\n",
    "\n",
    "`Chasing all of the monkeys at once is impossible; you're going to have to focus on the two most active monkeys if you want any hope of getting your stuff back. Count the total number of times each monkey inspects items over 20 rounds:`\n",
    "\n",
    "`Figure out which monkeys to chase by counting how many items they inspect over 20 rounds. What is the level of monkey business after 20 rounds of stuff-slinging simian shenanigans?`"
   ]
  },
  {
   "cell_type": "code",
   "execution_count": 249,
   "metadata": {},
   "outputs": [
    {
     "name": "stdout",
     "output_type": "stream",
     "text": [
      "Monkey 0:\n",
      "  Starting items: 76, 88, 96, 97, 58, 61, 67\n",
      "  Operation: new = old * 19\n",
      "  Test: divisible by 3\n",
      "    If true: throw to monkey 2\n",
      "    If false: throw to monkey 3\n"
     ]
    }
   ],
   "source": [
    "from utils import parse_from_file, ParseConfig\n",
    "\n",
    "file = 'day_11.txt'\n",
    "parser = ParseConfig('\\n\\n', str)\n",
    "\n",
    "initial_state = parse_from_file(file, parser)\n",
    "\n",
    "print(initial_state[0])"
   ]
  },
  {
   "cell_type": "code",
   "execution_count": 250,
   "metadata": {},
   "outputs": [
    {
     "name": "stdout",
     "output_type": "stream",
     "text": [
      "['Monkey 0:', '  Starting items: 76, 88, 96, 97, 58, 61, 67', '  Operation: new = old * 19', '  Test: divisible by 3', '    If true: throw to monkey 2', '    If false: throw to monkey 3']\n"
     ]
    }
   ],
   "source": [
    "# looks like we're in for some parser shenannigans!\n",
    "parser = ParseConfig('\\n\\n', ParseConfig('\\n', str))\n",
    "\n",
    "initial_state = parse_from_file(file, parser)\n",
    "\n",
    "print(initial_state[0])"
   ]
  },
  {
   "cell_type": "code",
   "execution_count": 251,
   "metadata": {},
   "outputs": [
    {
     "name": "stdout",
     "output_type": "stream",
     "text": [
      "[[[0]], '  Starting items: 76, 88, 96, 97, 58, 61, 67', '  Operation: new = old * 19', '  Test: divisible by 3', '    If true: throw to monkey 2', '    If false: throw to monkey 3']\n"
     ]
    }
   ],
   "source": [
    "parser = ParseConfig('\\n\\n', ParseConfig('\\n', [\n",
    "    ParseConfig(':', [ParseConfig(' ', [None, int]), None]),\n",
    "    str, str, str, str, str\n",
    "]))\n",
    "\n",
    "initial_state = parse_from_file(file, parser)\n",
    "\n",
    "print(initial_state[0])"
   ]
  },
  {
   "cell_type": "code",
   "execution_count": 252,
   "metadata": {},
   "outputs": [
    {
     "name": "stdout",
     "output_type": "stream",
     "text": [
      "[[[0]], [[76, 88, 96, 97, 58, 61, 67]], '  Operation: new = old * 19', '  Test: divisible by 3', '    If true: throw to monkey 2', '    If false: throw to monkey 3']\n"
     ]
    }
   ],
   "source": [
    "parser = ParseConfig('\\n\\n', ParseConfig('\\n', [\n",
    "    ParseConfig(':', [ParseConfig(' ', [None, int]), None]),  # Monkey index\n",
    "    ParseConfig('Starting items:', [None, ParseConfig(', ', int)]),\n",
    "    str, str, str, str\n",
    "]))\n",
    "\n",
    "initial_state = parse_from_file(file, parser)\n",
    "\n",
    "print(initial_state[0])"
   ]
  },
  {
   "cell_type": "code",
   "execution_count": 253,
   "metadata": {},
   "outputs": [
    {
     "name": "stdout",
     "output_type": "stream",
     "text": [
      "[[[0]], [[76, 88, 96, 97, 58, 61, 67]], [['*', '19']], '  Test: divisible by 3', '    If true: throw to monkey 2', '    If false: throw to monkey 3']\n"
     ]
    }
   ],
   "source": [
    "parser = ParseConfig('\\n\\n', ParseConfig('\\n', [\n",
    "    ParseConfig(':', [ParseConfig(' ', [None, int]), None]),  # Monkey index\n",
    "    ParseConfig('Starting items:', [None, ParseConfig(', ', int)]),\n",
    "    ParseConfig('Operation: new = old ', [None, ParseConfig(' ', str)]),\n",
    "    str, str, str\n",
    "]))\n",
    "\n",
    "initial_state = parse_from_file(file, parser)\n",
    "\n",
    "print(initial_state[0])"
   ]
  },
  {
   "cell_type": "code",
   "execution_count": 254,
   "metadata": {},
   "outputs": [
    {
     "name": "stdout",
     "output_type": "stream",
     "text": [
      "[[[0]], [[76, 88, 96, 97, 58, 61, 67]], [['*', '19']], [3], '    If true: throw to monkey 2', '    If false: throw to monkey 3']\n"
     ]
    }
   ],
   "source": [
    "parser = ParseConfig('\\n\\n', ParseConfig('\\n', [\n",
    "    ParseConfig(':', [ParseConfig(' ', [None, int]), None]),  # Monkey index\n",
    "    ParseConfig('Starting items:', [None, ParseConfig(', ', int)]),\n",
    "    ParseConfig('Operation: new = old ', [None, ParseConfig(' ', str)]),\n",
    "    ParseConfig('Test: divisible by', [None, int]),\n",
    "    str, str\n",
    "]))\n",
    "\n",
    "initial_state = parse_from_file(file, parser)\n",
    "\n",
    "print(initial_state[0])"
   ]
  },
  {
   "cell_type": "code",
   "execution_count": 255,
   "metadata": {},
   "outputs": [
    {
     "name": "stdout",
     "output_type": "stream",
     "text": [
      "[[[0]], [[76, 88, 96, 97, 58, 61, 67]], [['*', '19']], [3], [2], [3]]\n"
     ]
    }
   ],
   "source": [
    "parser = ParseConfig('\\n\\n', ParseConfig('\\n', [\n",
    "    ParseConfig(':', [ParseConfig(' ', [None, int]), None]),  # Monkey index\n",
    "    ParseConfig('Starting items:', [None, ParseConfig(', ', int)]),\n",
    "    ParseConfig('Operation: new = old ', [None, ParseConfig(' ', str)]),\n",
    "    ParseConfig('Test: divisible by', [None, int]),\n",
    "    ParseConfig('If true: throw to monkey', [None, int]),\n",
    "    ParseConfig('If false: throw to monkey', [None, int]),\n",
    "]))\n",
    "\n",
    "initial_state = parse_from_file(file, parser)\n",
    "\n",
    "print(initial_state[0])"
   ]
  },
  {
   "cell_type": "code",
   "execution_count": 256,
   "metadata": {},
   "outputs": [],
   "source": [
    "class Monkey:\n",
    "    \"\"\"A container for all the business attributed to one monkey\"\"\"\n",
    "    def __init__(self, parser_dump: 'list[list]'):\n",
    "        id, items, operation, test, on_true, on_false = parser_dump\n",
    "        self.id = id[0][0]\n",
    "        self.items = items[0]\n",
    "        self.operation = self._parse_operation(*operation[0])\n",
    "        self.test = self._parse_test(test[0])\n",
    "        self.on_true = on_true[0]\n",
    "        self.on_false = on_false[0]\n",
    "\n",
    "        self.divisor = test[0]\n",
    "        self.inspection_count = 0\n",
    "    \n",
    "    def _parse_operation(\n",
    "            self, operator: str, operand: str) -> callable:\n",
    "        \"\"\"\n",
    "        returns the operation as a function by parsing the values specified in\n",
    "        the input.\n",
    "        \"\"\"\n",
    "        def operation(value: int) -> int:\n",
    "            if operand == 'old':\n",
    "                op2 = value\n",
    "            else:\n",
    "                op2 = int(operand)\n",
    "            if operator == '+':\n",
    "                return value + op2\n",
    "            elif operator == '*':\n",
    "                return value * op2\n",
    "            else:\n",
    "                raise ValueError(f'operator not recognised: {operator}')\n",
    "        \n",
    "        return operation\n",
    "\n",
    "    def _parse_test(self, divisor: int) -> callable:\n",
    "        \"\"\"\n",
    "        returns a function that returns the index of the monkey an item should\n",
    "        go to next\n",
    "        \"\"\"\n",
    "        def divisor_check(value: int) -> int:\n",
    "            return self.on_true if value % divisor == 0 else self.on_false\n",
    "        \n",
    "        return divisor_check\n",
    "    \n",
    "    def inspect(self) -> 'list[tuple[int, int]]':\n",
    "        \"\"\"\n",
    "        operates on a monkey's items in turn and updates the inspection count\n",
    "\n",
    "        all values are cast to integer\n",
    "        \"\"\"\n",
    "        outcomes = list()\n",
    "        for item in self.items:\n",
    "            new_value = int(self.operation(item) / 3)\n",
    "            new_index = self.test(new_value)\n",
    "            outcomes.append((new_index, new_value))\n",
    "            self.inspection_count += 1\n",
    "\n",
    "        self.items = list()\n",
    "\n",
    "        return outcomes\n",
    "\n",
    "    def __str__(self) -> str:\n",
    "        string = f'<{self.__class__}: '\n",
    "        attributes = []\n",
    "        for attribute in dir(self):\n",
    "            if not attribute.startswith('_'):\n",
    "                attributes.append(f'{attribute}={getattr(self, attribute)}')\n",
    "        string = string + ', '.join(attributes) + '>'\n",
    "        return string"
   ]
  },
  {
   "cell_type": "code",
   "execution_count": 257,
   "metadata": {},
   "outputs": [
    {
     "name": "stdout",
     "output_type": "stream",
     "text": [
      "<<class '__main__.Monkey'>: divisor=3, id=0, inspect=<bound method Monkey.inspect of <__main__.Monkey object at 0x000002464B69F950>>, inspection_count=0, items=[76, 88, 96, 97, 58, 61, 67], on_false=3, on_true=2, operation=<function Monkey._parse_operation.<locals>.operation at 0x000002464BD7F600>, test=<function Monkey._parse_test.<locals>.divisor_check at 0x000002464BD7EC00>>\n"
     ]
    }
   ],
   "source": [
    "monkeys = [Monkey(state) for state in initial_state]\n",
    "\n",
    "print(monkeys[0])\n",
    "\n",
    "for round in range(1, 20 + 1):\n",
    "    for monkey in monkeys:\n",
    "        allocations = monkey.inspect()\n",
    "        for monkey_index, item in allocations:\n",
    "            monkeys[monkey_index].items.append(item)"
   ]
  },
  {
   "cell_type": "code",
   "execution_count": 258,
   "metadata": {},
   "outputs": [
    {
     "name": "stdout",
     "output_type": "stream",
     "text": [
      "the monkey business after 20 rounds is: 182293!\n"
     ]
    }
   ],
   "source": [
    "top_monkey = max([monkey.inspection_count for monkey in monkeys])\n",
    "\n",
    "next_top_monkey = max([\n",
    "    monkey.inspection_count for monkey in monkeys\n",
    "    if monkey.inspection_count != top_monkey\n",
    "])\n",
    "\n",
    "print(\n",
    "    f'the monkey business after 20 rounds is: {top_monkey * next_top_monkey}!')"
   ]
  },
  {
   "attachments": {},
   "cell_type": "markdown",
   "metadata": {},
   "source": [
    "## Part 2\n",
    "\n",
    "- worry level is no longer divided by 3 after inspection\n",
    "- simulate for 10000 rounds!\n",
    "\n",
    "`Starting again from the initial state in your puzzle input, what is the level of monkey business after 10000 rounds?`"
   ]
  },
  {
   "cell_type": "code",
   "execution_count": 259,
   "metadata": {},
   "outputs": [],
   "source": [
    "class CarelessMonkey(Monkey):\n",
    "    \"\"\"\n",
    "    This monkey is just like a normal monkey but makes you so worried that\n",
    "    during inspection the total is not divided by 3\n",
    "    \"\"\"\n",
    "    def inspect(self) -> 'list[tuple[int, int]]':\n",
    "        \"\"\"\n",
    "        operates on a monkey's items in turn and updates the inspection count\n",
    "        \"\"\"\n",
    "        outcomes = []\n",
    "        for item in self.items:\n",
    "            new_value = self.operation(item)\n",
    "            new_index = self.test(new_value)\n",
    "            outcomes.append((new_index, new_value))\n",
    "            self.inspection_count += 1\n",
    "\n",
    "        self.items = []\n",
    "\n",
    "        return outcomes\n",
    "    \n",
    "    def _parse_operation(\n",
    "            self, operator: str, operand: str) -> callable:\n",
    "        \"\"\"\n",
    "        returns the operation as a function by parsing the values specified in\n",
    "        the input.\n",
    "\n",
    "        updated for carless monkeys and many more iterations\n",
    "        \"\"\"\n",
    "        if operand == 'old' and operator == '+':\n",
    "            def operation(value: int) -> int:\n",
    "                return value + value\n",
    "        elif operand != 'old' and operator == '+':\n",
    "            int_operand = int(operand)\n",
    "            def operation(value: int) -> int:\n",
    "                return value + int_operand\n",
    "        elif operand == 'old' and operator == '*':\n",
    "            def operation(value: int) -> int:\n",
    "                return value * value\n",
    "        elif operand != 'old' and operator == '*':\n",
    "            int_operand = int(operand)\n",
    "            def operation(value: int) -> int:\n",
    "                return value + int_operand\n",
    "        else:\n",
    "            raise ValueError(f'operator not recognised: {operator}')\n",
    "        \n",
    "        return operation\n",
    "\n",
    "    def _parse_test(self, divisor: int) -> callable:\n",
    "        \"\"\"\n",
    "        returns a function that returns the index of the monkey an item should\n",
    "        go to next\n",
    "        \"\"\"\n",
    "        div = int(divisor)\n",
    "        if div == 2:\n",
    "            def f(value: int) -> bool:\n",
    "                return bin(value)[-1] == '0'\n",
    "        else:\n",
    "            def f(value: int) -> bool:\n",
    "                return value % divisor == 0\n",
    "\n",
    "        def divisor_check(value: int) -> int:\n",
    "            return self.on_true if f(value) else self.on_false\n",
    "        \n",
    "        return divisor_check"
   ]
  },
  {
   "cell_type": "code",
   "execution_count": 260,
   "metadata": {},
   "outputs": [
    {
     "name": "stdout",
     "output_type": "stream",
     "text": [
      "round: 235 36\r"
     ]
    },
    {
     "ename": "KeyboardInterrupt",
     "evalue": "",
     "output_type": "error",
     "traceback": [
      "\u001b[1;31m---------------------------------------------------------------------------\u001b[0m",
      "\u001b[1;31mKeyboardInterrupt\u001b[0m                         Traceback (most recent call last)",
      "Cell \u001b[1;32mIn [260], line 7\u001b[0m\n\u001b[0;32m      5\u001b[0m \u001b[39mfor\u001b[39;00m \u001b[39mround\u001b[39m \u001b[39min\u001b[39;00m \u001b[39mrange\u001b[39m(\u001b[39m1\u001b[39m, \u001b[39m10000\u001b[39m \u001b[39m+\u001b[39m \u001b[39m1\u001b[39m):\n\u001b[0;32m      6\u001b[0m     \u001b[39mfor\u001b[39;00m monkey \u001b[39min\u001b[39;00m careless_monkeys:\n\u001b[1;32m----> 7\u001b[0m         allocations \u001b[39m=\u001b[39m monkey\u001b[39m.\u001b[39;49minspect()\n\u001b[0;32m      8\u001b[0m         \u001b[39mfor\u001b[39;00m monkey_index, item \u001b[39min\u001b[39;00m allocations:\n\u001b[0;32m      9\u001b[0m             careless_monkeys[monkey_index]\u001b[39m.\u001b[39mitems\u001b[39m.\u001b[39mappend(item)\n",
      "Cell \u001b[1;32mIn [259], line 13\u001b[0m, in \u001b[0;36mCarelessMonkey.inspect\u001b[1;34m(self)\u001b[0m\n\u001b[0;32m     11\u001b[0m \u001b[39mfor\u001b[39;00m item \u001b[39min\u001b[39;00m \u001b[39mself\u001b[39m\u001b[39m.\u001b[39mitems:\n\u001b[0;32m     12\u001b[0m     new_value \u001b[39m=\u001b[39m \u001b[39mself\u001b[39m\u001b[39m.\u001b[39moperation(item)\n\u001b[1;32m---> 13\u001b[0m     new_index \u001b[39m=\u001b[39m \u001b[39mself\u001b[39;49m\u001b[39m.\u001b[39;49mtest(new_value)\n\u001b[0;32m     14\u001b[0m     outcomes\u001b[39m.\u001b[39mappend((new_index, new_value))\n\u001b[0;32m     15\u001b[0m     \u001b[39mself\u001b[39m\u001b[39m.\u001b[39minspection_count \u001b[39m+\u001b[39m\u001b[39m=\u001b[39m \u001b[39m1\u001b[39m\n",
      "Cell \u001b[1;32mIn [259], line 68\u001b[0m, in \u001b[0;36mCarelessMonkey._parse_test.<locals>.divisor_check\u001b[1;34m(value)\u001b[0m\n\u001b[0;32m     67\u001b[0m \u001b[39mdef\u001b[39;00m \u001b[39mdivisor_check\u001b[39m(value: \u001b[39mint\u001b[39m) \u001b[39m-\u001b[39m\u001b[39m>\u001b[39m \u001b[39mint\u001b[39m:\n\u001b[1;32m---> 68\u001b[0m     \u001b[39mreturn\u001b[39;00m \u001b[39mself\u001b[39m\u001b[39m.\u001b[39mon_true \u001b[39mif\u001b[39;00m f(value) \u001b[39melse\u001b[39;00m \u001b[39mself\u001b[39m\u001b[39m.\u001b[39mon_false\n",
      "Cell \u001b[1;32mIn [259], line 64\u001b[0m, in \u001b[0;36mCarelessMonkey._parse_test.<locals>.f\u001b[1;34m(value)\u001b[0m\n\u001b[0;32m     62\u001b[0m         \u001b[39mreturn\u001b[39;00m value \u001b[39m%\u001b[39m \u001b[39m3\u001b[39m \u001b[39m==\u001b[39m \u001b[39m0\u001b[39m\n\u001b[0;32m     63\u001b[0m \u001b[39melse\u001b[39;00m:\n\u001b[1;32m---> 64\u001b[0m     \u001b[39mdef\u001b[39;00m \u001b[39mf\u001b[39m(value: \u001b[39mint\u001b[39m) \u001b[39m-\u001b[39m\u001b[39m>\u001b[39m \u001b[39mbool\u001b[39m:\n\u001b[0;32m     65\u001b[0m         \u001b[39mreturn\u001b[39;00m value \u001b[39m%\u001b[39m divisor \u001b[39m==\u001b[39m \u001b[39m0\u001b[39m\n\u001b[0;32m     67\u001b[0m \u001b[39mdef\u001b[39;00m \u001b[39mdivisor_check\u001b[39m(value: \u001b[39mint\u001b[39m) \u001b[39m-\u001b[39m\u001b[39m>\u001b[39m \u001b[39mint\u001b[39m:\n",
      "\u001b[1;31mKeyboardInterrupt\u001b[0m: "
     ]
    }
   ],
   "source": [
    "initial_state = parse_from_file(file, parser)\n",
    "\n",
    "careless_monkeys = [CarelessMonkey(state) for state in initial_state]\n",
    "\n",
    "for round in range(1, 10000 + 1):\n",
    "    for monkey in careless_monkeys:\n",
    "        allocations = monkey.inspect()\n",
    "        for monkey_index, item in allocations:\n",
    "            careless_monkeys[monkey_index].items.append(item)\n",
    "    print(f'round: {round} {sum([len(monkey.items) for monkey in careless_monkeys])}', end='\\r')\n",
    "print()"
   ]
  },
  {
   "cell_type": "code",
   "execution_count": null,
   "metadata": {},
   "outputs": [],
   "source": [
    "top_careless_monkey = max([monkey.inspection_count for monkey in monkeys])\n",
    "\n",
    "next_top_careless_monkey = max([\n",
    "    monkey.inspection_count for monkey in monkeys\n",
    "    if monkey.inspection_count != top_monkey\n",
    "])\n",
    "\n",
    "print(\n",
    "    'the monkey business after 10,000 rounds is: '\n",
    "    f'{top_careless_monkey * next_top_careless_monkey}!')"
   ]
  }
 ],
 "metadata": {
  "kernelspec": {
   "display_name": "Python 3.11.0 ('advent-of-code': venv)",
   "language": "python",
   "name": "python3"
  },
  "language_info": {
   "codemirror_mode": {
    "name": "ipython",
    "version": 3
   },
   "file_extension": ".py",
   "mimetype": "text/x-python",
   "name": "python",
   "nbconvert_exporter": "python",
   "pygments_lexer": "ipython3",
   "version": "3.11.0"
  },
  "orig_nbformat": 4,
  "vscode": {
   "interpreter": {
    "hash": "2d3d69b7f7c7447ebb59bd0325e8659c9bdbb7c04d20332a5a8a68af11de2233"
   }
  }
 },
 "nbformat": 4,
 "nbformat_minor": 2
}
