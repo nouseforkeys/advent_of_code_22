{
 "cells": [
  {
   "attachments": {},
   "cell_type": "markdown",
   "metadata": {},
   "source": [
    "# Day 21\n",
    "\n",
    "## Part 1\n",
    "\n",
    "- Oh no, the monkies are back!\n",
    "- monkies either yell a number or the result of a math operation\n",
    "- operations can be +, -, * or /\n",
    "\n",
    "`What number will the monkey named root yell?`"
   ]
  },
  {
   "cell_type": "code",
   "execution_count": 19,
   "metadata": {},
   "outputs": [
    {
     "name": "stdout",
     "output_type": "stream",
     "text": [
      "[['qfzv', '5'], ['stgm', '2'], ['nzpf', '4'], ['djpv', 'psrp * gzbq'], ['zqlp', '5']]\n"
     ]
    }
   ],
   "source": [
    "from __future__ import annotations\n",
    "from dataclasses import dataclass\n",
    "from utils import parse_from_file, ParseConfig\n",
    "\n",
    "parser = ParseConfig('\\n', ParseConfig(': ', str))\n",
    "\n",
    "monkey_input = parse_from_file('day_21.txt', parser)\n",
    "\n",
    "print(monkey_input[:5])"
   ]
  },
  {
   "cell_type": "code",
   "execution_count": 22,
   "metadata": {},
   "outputs": [
    {
     "name": "stdout",
     "output_type": "stream",
     "text": [
      "aaaa Monkey(output='1') 1\n",
      "bbbb Monkey(output='10') 10\n",
      "cccc Monkey(output='aaaa + bbbb') 11\n",
      "dddd Monkey(output='cccc * bbbb') 110\n"
     ]
    }
   ],
   "source": [
    "@dataclass\n",
    "class Monkey:\n",
    "    \"\"\"\n",
    "    a container for parsing monkey outputs and running calculations\n",
    "    \"\"\"\n",
    "    output: str\n",
    "\n",
    "    def get_value(self, monkies: dict[str:Monkey]) -> int:\n",
    "        \"\"\"\n",
    "        returns the value of this monkey by recursively looking down through\n",
    "        other monkeys to find the answer that pops back up.\n",
    "        \"\"\"\n",
    "        try:\n",
    "            return int(self.output)\n",
    "        except ValueError:\n",
    "            monkey_a, operator, monkey_b = self.output.split(' ')\n",
    "        a, b = [\n",
    "            monkies[monkey].get_value(monkies)\n",
    "            for monkey in (monkey_a, monkey_b)\n",
    "        ]\n",
    "        match operator:\n",
    "            case '+':\n",
    "                return a + b\n",
    "            case '-':\n",
    "                return a - b\n",
    "            case '*':\n",
    "                return a * b\n",
    "            case '/':\n",
    "                return a // b  # use integer division\n",
    "            case '_':\n",
    "                raise ValueError(f'operator: {operator} not recognised')\n",
    "\n",
    "test_monkies = {\n",
    "    'aaaa': Monkey('1'),\n",
    "    'bbbb': Monkey('10'),\n",
    "    'cccc': Monkey('aaaa + bbbb'),\n",
    "    'dddd': Monkey('cccc * bbbb'),\n",
    "}\n",
    "\n",
    "for name, monkey in test_monkies.items():\n",
    "    print(name, monkey, monkey.get_value(test_monkies))"
   ]
  },
  {
   "cell_type": "code",
   "execution_count": 24,
   "metadata": {},
   "outputs": [
    {
     "name": "stdout",
     "output_type": "stream",
     "text": [
      "[('qfzv', Monkey(output='5')), ('stgm', Monkey(output='2')), ('nzpf', Monkey(output='4')), ('djpv', Monkey(output='psrp * gzbq')), ('zqlp', Monkey(output='5'))]\n"
     ]
    }
   ],
   "source": [
    "monkies = {\n",
    "    name: Monkey(value) for name, value in monkey_input\n",
    "}\n",
    "\n",
    "print(list(monkies.items())[:5])"
   ]
  },
  {
   "cell_type": "code",
   "execution_count": 26,
   "metadata": {},
   "outputs": [
    {
     "name": "stdout",
     "output_type": "stream",
     "text": [
      "root will yell: 124765768589550!\n"
     ]
    }
   ],
   "source": [
    "root_yells = monkies['root'].get_value(monkies)\n",
    "\n",
    "print(f'root will yell: {root_yells}!')"
   ]
  }
 ],
 "metadata": {
  "kernelspec": {
   "display_name": "advent-of-code",
   "language": "python",
   "name": "python3"
  },
  "language_info": {
   "codemirror_mode": {
    "name": "ipython",
    "version": 3
   },
   "file_extension": ".py",
   "mimetype": "text/x-python",
   "name": "python",
   "nbconvert_exporter": "python",
   "pygments_lexer": "ipython3",
   "version": "3.11.0"
  },
  "orig_nbformat": 4,
  "vscode": {
   "interpreter": {
    "hash": "2d3d69b7f7c7447ebb59bd0325e8659c9bdbb7c04d20332a5a8a68af11de2233"
   }
  }
 },
 "nbformat": 4,
 "nbformat_minor": 2
}
