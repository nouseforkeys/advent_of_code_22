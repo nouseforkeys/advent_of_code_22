{
 "cells": [
  {
   "attachments": {},
   "cell_type": "markdown",
   "metadata": {},
   "source": [
    "# Day 21\n",
    "\n",
    "## Part 1\n",
    "\n",
    "- Oh no, the monkies are back!\n",
    "- monkies either yell a number or the result of a math operation\n",
    "- operations can be +, -, * or /\n",
    "\n",
    "`What number will the monkey named root yell?`"
   ]
  },
  {
   "cell_type": "code",
   "execution_count": 211,
   "metadata": {},
   "outputs": [
    {
     "name": "stdout",
     "output_type": "stream",
     "text": [
      "[['qfzv', '5'], ['stgm', '2'], ['nzpf', '4'], ['djpv', 'psrp * gzbq'], ['zqlp', '5']]\n"
     ]
    }
   ],
   "source": [
    "from __future__ import annotations\n",
    "from copy import deepcopy\n",
    "from dataclasses import dataclass\n",
    "from matplotlib import pyplot as plt\n",
    "from utils import parse_from_file, ParseConfig\n",
    "\n",
    "parser = ParseConfig('\\n', ParseConfig(': ', str))\n",
    "\n",
    "monkey_input = parse_from_file('day_21.txt', parser)\n",
    "\n",
    "print(monkey_input[:5])"
   ]
  },
  {
   "cell_type": "code",
   "execution_count": 212,
   "metadata": {},
   "outputs": [
    {
     "name": "stdout",
     "output_type": "stream",
     "text": [
      "aaaa Monkey(output='1') 1\n",
      "bbbb Monkey(output='10') 10\n",
      "cccc Monkey(output='aaaa + bbbb') 11\n",
      "dddd Monkey(output='cccc * bbbb') 110\n"
     ]
    }
   ],
   "source": [
    "@dataclass\n",
    "class Monkey:\n",
    "    \"\"\"\n",
    "    a container for parsing monkey outputs and running calculations\n",
    "    \"\"\"\n",
    "    output: str\n",
    "\n",
    "    def get_value(self, monkies: dict[str:Monkey]) -> int:\n",
    "        \"\"\"\n",
    "        returns the value of this monkey by recursively looking down through\n",
    "        other monkeys to find the answer that pops back up.\n",
    "        \"\"\"\n",
    "        try:\n",
    "            return int(self.output)\n",
    "        except ValueError:\n",
    "            monkey_a, operator, monkey_b = self.output.split(' ')\n",
    "        a, b = [\n",
    "            monkies[monkey].get_value(monkies)\n",
    "            for monkey in (monkey_a, monkey_b)\n",
    "        ]\n",
    "        match operator:\n",
    "            case '+':\n",
    "                return a + b\n",
    "            case '-':\n",
    "                return a - b\n",
    "            case '*':\n",
    "                return a * b\n",
    "            case '/':\n",
    "                return a // b  # use integer division\n",
    "            case _:\n",
    "                raise ValueError(f'operator: {operator} not recognised')\n",
    "\n",
    "test_monkies = {\n",
    "    'aaaa': Monkey('1'),\n",
    "    'bbbb': Monkey('10'),\n",
    "    'cccc': Monkey('aaaa + bbbb'),\n",
    "    'dddd': Monkey('cccc * bbbb'),\n",
    "}\n",
    "\n",
    "for name, monkey in test_monkies.items():\n",
    "    print(name, monkey, monkey.get_value(test_monkies))"
   ]
  },
  {
   "cell_type": "code",
   "execution_count": 213,
   "metadata": {},
   "outputs": [
    {
     "name": "stdout",
     "output_type": "stream",
     "text": [
      "[('qfzv', Monkey(output='5')), ('stgm', Monkey(output='2')), ('nzpf', Monkey(output='4')), ('djpv', Monkey(output='psrp * gzbq')), ('zqlp', Monkey(output='5'))]\n"
     ]
    }
   ],
   "source": [
    "monkies = {\n",
    "    name: Monkey(value) for name, value in monkey_input\n",
    "}\n",
    "\n",
    "print(list(monkies.items())[:5])"
   ]
  },
  {
   "cell_type": "code",
   "execution_count": 214,
   "metadata": {},
   "outputs": [
    {
     "name": "stdout",
     "output_type": "stream",
     "text": [
      "root will yell: 124765768589550!\n"
     ]
    }
   ],
   "source": [
    "root_yells = monkies['root'].get_value(monkies)\n",
    "\n",
    "print(f'root will yell: {root_yells}!')"
   ]
  },
  {
   "attachments": {},
   "cell_type": "markdown",
   "metadata": {},
   "source": [
    "## Part 2\n",
    "\n",
    "- the input wasn't quite what it should be:\n",
    "    1. `root` should have said `=` as the operator and should yell if two inputs match\n",
    "    1. `humn` isn't a monkey, it's me! And my job is to figure out what number is required to ensure `root`'s check passes.\n",
    "\n",
    "`What number do you yell to pass root's equality test?`"
   ]
  },
  {
   "cell_type": "code",
   "execution_count": 215,
   "metadata": {},
   "outputs": [
    {
     "name": "stdout",
     "output_type": "stream",
     "text": [
      "originally: Monkey(output='hsdb + mwrd') Monkey(output='2950')\n"
     ]
    }
   ],
   "source": [
    "print('originally:', monkies['root'], monkies['humn'])"
   ]
  },
  {
   "cell_type": "code",
   "execution_count": 216,
   "metadata": {},
   "outputs": [
    {
     "name": "stdout",
     "output_type": "stream",
     "text": [
      "(220, '(110 + (110 + humn))')\n",
      "aaaa TracerMonkey(output='1')\n",
      "bbbb TracerMonkey(output='10')\n",
      "cccc TracerMonkey(output='11')\n",
      "dddd TracerMonkey(output='110')\n",
      "humn TracerMonkey(output='0')\n",
      "eeee TracerMonkey(output='dddd + humn')\n",
      "ffff TracerMonkey(output='dddd + eeee')\n"
     ]
    }
   ],
   "source": [
    "# let's flatten the expression for the two inputs to root as much as possible\n",
    "@dataclass\n",
    "class TracerMonkey(Monkey):\n",
    "    \"\"\"\n",
    "    like a monkey but with tracing capability\n",
    "    \"\"\"\n",
    "    def get_value_and_update(\n",
    "            self, monkies: dict[str:Monkey]) -> int|str:\n",
    "        \"\"\"\n",
    "        finds the value of this monkey but also updates it's output if it can\n",
    "        be simplified (i.e. doesn't include 'humn')\n",
    "        \"\"\"\n",
    "        try:\n",
    "            int(self.output)\n",
    "            return self.get_value(monkies), None\n",
    "        except ValueError:\n",
    "            monkey_a, operator, monkey_b = self.output.split(' ')\n",
    "        (a, source_a), (b, source_b) = [\n",
    "            monkies[monkey].get_value_and_update(monkies)\n",
    "            for monkey in (monkey_a, monkey_b)\n",
    "        ]\n",
    "        match operator:\n",
    "            case '+':\n",
    "                value = a + b\n",
    "            case '-':\n",
    "                value = a - b\n",
    "            case '*':\n",
    "                value = a * b\n",
    "            case '/':\n",
    "                value = a // b  # use integer division\n",
    "            case _:\n",
    "                raise ValueError(f'operator: {operator} not recognised')\n",
    "\n",
    "        if all([source is None for source in (source_a, source_b)]) and \\\n",
    "                all([name != 'humn' for name in (monkey_a, monkey_b)]):\n",
    "            self.output = str(value)\n",
    "            return value, None\n",
    "        humn = 'humn'\n",
    "        source_list = []\n",
    "        if monkey_a == humn:\n",
    "            source_list.append(humn)\n",
    "        elif source_a is None:\n",
    "            source_list.append(str(a))\n",
    "        else:\n",
    "            source_list.append(source_a)\n",
    "        source_list.append(operator)\n",
    "        if monkey_b == humn:\n",
    "            source_list.append(humn)\n",
    "        elif source_b is None:\n",
    "            source_list.append(str(b))\n",
    "        else:\n",
    "            source_list.append(source_b)\n",
    "        sources = '(' + ' '.join(source_list) + ')'\n",
    "\n",
    "        return value, sources\n",
    "\n",
    "test_tracers = {\n",
    "    name: TracerMonkey(deepcopy(monkey.output)) \\\n",
    "    for name, monkey in test_monkies.items()\n",
    "}\n",
    "\n",
    "test_tracers.update({'humn': TracerMonkey('0')})\n",
    "test_tracers.update({'eeee': TracerMonkey('dddd + humn')})\n",
    "test_tracers.update({'ffff': TracerMonkey('dddd + eeee')})\n",
    "\n",
    "print(test_tracers['ffff'].get_value_and_update(test_tracers))\n",
    "\n",
    "for name, monkey in test_tracers.items():\n",
    "    print(name, monkey)"
   ]
  },
  {
   "cell_type": "code",
   "execution_count": 217,
   "metadata": {},
   "outputs": [
    {
     "name": "stdout",
     "output_type": "stream",
     "text": [
      "hsdb 90177205134225 (3 * (476 + ((180354410322238 - (((((194 + ((721 + (((((((((421 + (3 * (((((24 + ((245 + (2 * ((19 * ((((5 * (((((26 + ((((561 + (971 + ((((926 + ((((((((((((((81 + ((192 * (((542 + humn) / 6) - 516)) - 763)) / 11) + 898) * 2) - 262) / 6) + 183) * 18) - 465) * 2) + 388) / 2) - 999) / 2)) * 3) - 387) * 2))) / 2) - 264) / 2)) * 2) - 266) / 12) + 684)) - 148) / 11) + 331)) - 437))) / 5)) * 3) - 965) / 2) - 398))) + 287) / 2) + 26) * 2) - 650) / 7) - 660) / 2)) * 15)) * 2) - 897) + 157) / 2)) / 6)))\n",
      "mwrd 34588563455325 None\n"
     ]
    }
   ],
   "source": [
    "# now for real\n",
    "tracers = {\n",
    "    name: TracerMonkey(deepcopy(monkey.output))\n",
    "    for name, monkey in monkies.items()\n",
    "}\n",
    "\n",
    "monkey_a, monkey_b = tracers['root'].output.split(' ')[::2]\n",
    "\n",
    "for name in (monkey_a, monkey_b):\n",
    "    value, source = tracers[name].get_value_and_update(tracers)\n",
    "    print(name, value, source)\n"
   ]
  },
  {
   "cell_type": "code",
   "execution_count": 218,
   "metadata": {},
   "outputs": [],
   "source": [
    "# save this value in case we need to restart the iterations\n",
    "start_humn = tracers['humn'].get_value(tracers)"
   ]
  },
  {
   "cell_type": "code",
   "execution_count": 219,
   "metadata": {},
   "outputs": [],
   "source": [
    "# assuming it's monotonic, we could try using a control loop to iterate so that\n",
    "# y equals the target\n",
    "tracers['humn'].output = str(start_humn)\n",
    "target = tracers[monkey_b].get_value(tracers)\n",
    "x = [start_humn]\n",
    "y = [tracers[monkey_a].get_value(tracers)]\n",
    "\n",
    "error_factor = -1e-3\n",
    "\n",
    "for _ in range(10000):\n",
    "    temp_x = int(x[-1] + error_factor * (target - y[-1]))\n",
    "    x.append(temp_x)\n",
    "    tracers['humn'].output = str(temp_x)\n",
    "    y.append(tracers[monkey_a].get_value(tracers))"
   ]
  },
  {
   "cell_type": "code",
   "execution_count": 220,
   "metadata": {},
   "outputs": [
    {
     "data": {
      "image/png": "[encoded data removed]",
      "text/plain": [
       "<Figure size 640x480 with 3 Axes>"
      ]
     },
     "metadata": {},
     "output_type": "display_data"
    }
   ],
   "source": [
    "fig, (x_ax, y_ax, error_ax) = plt.subplots(nrows=3, sharex=True)\n",
    "x_ax.plot(x)\n",
    "x_ax.set_title('x value')\n",
    "y_ax.plot(y)\n",
    "y_ax.set_title('y value')\n",
    "error_ax.plot([target - value for value in y])\n",
    "error_ax.plot(error_ax.get_xlim(), [0] * 2, '--')\n",
    "error_ax.set_title('y error')\n",
    "for ax in fig.axes:\n",
    "    ax.grid('ON')"
   ]
  },
  {
   "cell_type": "code",
   "execution_count": 221,
   "metadata": {},
   "outputs": [
    {
     "data": {
      "image/png": "[encoded data removed]",
      "text/plain": [
       "<Figure size 640x480 with 1 Axes>"
      ]
     },
     "metadata": {},
     "output_type": "display_data"
    }
   ],
   "source": [
    "fig, error_ax = plt.subplots()\n",
    "error_ax.plot([target - value for value in y][-500:])\n",
    "error_ax.plot(error_ax.get_xlim(), [0] * 2, '--')\n",
    "error_ax.set_title('y error after iteration 500')\n",
    "error_ax.grid('ON')"
   ]
  },
  {
   "cell_type": "code",
   "execution_count": 222,
   "metadata": {},
   "outputs": [],
   "source": [
    "# not quite there!\n",
    "# perhaps it just needs a little nudge\n",
    "x_stepped = [x[-1]]\n",
    "y_stepped = [y[-1]]\n",
    "\n",
    "while y_stepped[-1] > target:\n",
    "    x_stepped.append(x_stepped[-1] + 1)\n",
    "    tracers['humn'].output = str(x_stepped[-1])\n",
    "    y_stepped.append(tracers[monkey_a].get_value(tracers))\n"
   ]
  },
  {
   "cell_type": "code",
   "execution_count": 223,
   "metadata": {},
   "outputs": [
    {
     "data": {
      "image/png": "[encoded data removed]",
      "text/plain": [
       "<Figure size 640x480 with 1 Axes>"
      ]
     },
     "metadata": {},
     "output_type": "display_data"
    }
   ],
   "source": [
    "fig, error_ax = plt.subplots()\n",
    "error_ax.plot([target - value for value in y_stepped])\n",
    "error_ax.plot(error_ax.get_xlim(), [0] * 2, '--')\n",
    "error_ax.set_title('y error from stepping')\n",
    "error_ax.grid('ON')"
   ]
  },
  {
   "cell_type": "code",
   "execution_count": 225,
   "metadata": {},
   "outputs": [
    {
     "name": "stdout",
     "output_type": "stream",
     "text": [
      "the number I need to yell is: 3059361893920\n"
     ]
    }
   ],
   "source": [
    "# the final stepped x value should be the answer!\n",
    "print(f'the number I need to yell is: {x_stepped[-1]}')"
   ]
  }
 ],
 "metadata": {
  "kernelspec": {
   "display_name": "advent-of-code",
   "language": "python",
   "name": "python3"
  },
  "language_info": {
   "codemirror_mode": {
    "name": "ipython",
    "version": 3
   },
   "file_extension": ".py",
   "mimetype": "text/x-python",
   "name": "python",
   "nbconvert_exporter": "python",
   "pygments_lexer": "ipython3",
   "version": "3.11.0"
  },
  "orig_nbformat": 4,
  "vscode": {
   "interpreter": {
    "hash": "2d3d69b7f7c7447ebb59bd0325e8659c9bdbb7c04d20332a5a8a68af11de2233"
   }
  }
 },
 "nbformat": 4,
 "nbformat_minor": 2
}
