{
 "cells": [
  {
   "attachments": {},
   "cell_type": "markdown",
   "metadata": {},
   "source": [
    "# Day 24\n",
    "\n",
    "## Part 1\n",
    "\n",
    "- map the valley, dodge the blizzards of snow!\n",
    "- the blizzards move forwards in a direction one step at a time each minute\n",
    "    - if a blizzard hits a wall it bounces off next turn\n",
    "    - 2 blizzards can occupy the same spot and will continue as if nothing happened the next turn.\n",
    "- the expedition begins in the only non wall space in the top row\n",
    "- the goal is the only non wall space in the bottom row\n",
    "- each minute the expedition can move to any cardinally adjacent square or not move\n",
    "`What is the fewest number of minutes required to avoid the blizzards and reach the goal?`"
   ]
  },
  {
   "cell_type": "code",
   "execution_count": 38,
   "metadata": {},
   "outputs": [
    {
     "name": "stdout",
     "output_type": "stream",
     "text": [
      "['#', '<', '>', 'v', '^', '<', 'v', 'v', '<', 'v']\n"
     ]
    }
   ],
   "source": [
    "from __future__ import annotations\n",
    "\n",
    "from copy import deepcopy\n",
    "from dataclasses import dataclass\n",
    "from itertools import count\n",
    "from matplotlib import pyplot as plt\n",
    "from utils import parse_from_file, ParseConfig\n",
    "\n",
    "parser = ParseConfig('\\n', ParseConfig('', str))\n",
    "\n",
    "valley = parse_from_file('day_24.txt', parser)\n",
    "\n",
    "print(valley[1][:10])"
   ]
  },
  {
   "cell_type": "code",
   "execution_count": 39,
   "metadata": {},
   "outputs": [
    {
     "name": "stdout",
     "output_type": "stream",
     "text": [
      "[Blizzard(x=1, y=1, step_x=-1, step_y=0), Blizzard(x=2, y=1, step_x=1, step_y=0), Blizzard(x=3, y=1, step_x=0, step_y=1), Blizzard(x=4, y=1, step_x=0, step_y=-1), Blizzard(x=5, y=1, step_x=-1, step_y=0)]\n"
     ]
    }
   ],
   "source": [
    "# to ensure we keep track of overlapping blizzards let's extract all their\n",
    "# positions\n",
    "@dataclass\n",
    "class Blizzard:\n",
    "    x: int\n",
    "    y: int\n",
    "    step_x: int\n",
    "    step_y: int\n",
    "\n",
    "    @property\n",
    "    def position(self) -> tuple[int]:\n",
    "        return (self.x, self.y)\n",
    "    \n",
    "    @position.setter\n",
    "    def position(self, new_position: tuple[int]) -> None:\n",
    "        self.x, self.y = new_position\n",
    "    \n",
    "    @property\n",
    "    def direction(self) -> tuple[int]:\n",
    "        return (self.step_x, self.step_y)\n",
    "    \n",
    "    @property\n",
    "    def step(self) -> Blizzard:\n",
    "        \"\"\"return a copy stepped forward\"\"\"\n",
    "        return Blizzard(\n",
    "            self.x + self.step_x, self.y + self.step_y, *self.direction)\n",
    "    \n",
    "    @property\n",
    "    def rebound(self) -> Blizzard:\n",
    "        \"\"\"return a copy rebounded\"\"\"\n",
    "        return Blizzard(\n",
    "            self.x - self.step_x, self.y - self.step_y,\n",
    "            -self.step_x, -self.step_y\n",
    "        )\n",
    "\n",
    "directions = {'>': (1, 0), 'v': (0, 1), '<': (-1, 0), '^': (0, -1)}\n",
    "\n",
    "starting_blizzards = []\n",
    "for y, row in enumerate(valley):\n",
    "    for x, material in enumerate(row):\n",
    "        if material in ['.', '#']:\n",
    "            continue\n",
    "        starting_blizzards.append(Blizzard(x, y, *directions[material]))\n",
    "\n",
    "print(starting_blizzards[:5])"
   ]
  },
  {
   "cell_type": "code",
   "execution_count": 40,
   "metadata": {},
   "outputs": [
    {
     "name": "stdout",
     "output_type": "stream",
     "text": [
      "['#', '.', '.', '.', '.', '.', '.', '.', '.', '.']\n"
     ]
    }
   ],
   "source": [
    "# movement of the expedition and blizzards and plotting needs an empty base\n",
    "empty_valley = []\n",
    "for row in valley:\n",
    "    empty_valley.append([])\n",
    "    for material in row:\n",
    "        if material in ['#', '.']:\n",
    "            empty_valley[-1].append(material)\n",
    "        else:\n",
    "            empty_valley[-1].append('.')\n",
    "\n",
    "print(empty_valley[1][:10])"
   ]
  },
  {
   "cell_type": "code",
   "execution_count": 41,
   "metadata": {},
   "outputs": [],
   "source": [
    "def get_next_blizzards(\n",
    "    blizzards: list[Blizzard], empty_valley: list[list[str]]\n",
    ") -> tuple[list[Blizzard], set]:\n",
    "    \"\"\"\n",
    "    returns a new list of Blizzards stepped forward accounting for walls and\n",
    "    a set of all positions that are occupied for easy lookup\n",
    "    \"\"\"\n",
    "    new_blizzards = []\n",
    "    for blizzard in blizzards:\n",
    "        if empty_valley[blizzard.y][blizzard.x] == '#':\n",
    "            new_blizzards.append(blizzard.rebound)\n",
    "        else:\n",
    "            new_blizzards.append(blizzard.step)\n",
    "    obstacle_set = set([blizzard.position for blizzard in blizzards])\n",
    "    return new_blizzards, obstacle_set"
   ]
  },
  {
   "cell_type": "code",
   "execution_count": 42,
   "metadata": {},
   "outputs": [
    {
     "name": "stdout",
     "output_type": "stream",
     "text": [
      "start: (1, 0), end: (120, 26)\n"
     ]
    }
   ],
   "source": [
    "for x, material in enumerate(empty_valley[0]):\n",
    "    if material == '.':\n",
    "        start_position = (x, 0)\n",
    "        break\n",
    "\n",
    "for x, material in enumerate(empty_valley[-1]):\n",
    "    if material == '.':\n",
    "        end_position = (x, len(empty_valley) - 1)\n",
    "\n",
    "print(f'start: {start_position}, end: {end_position}')"
   ]
  },
  {
   "cell_type": "code",
   "execution_count": 47,
   "metadata": {},
   "outputs": [],
   "source": [
    "blizzards = [starting_blizzards]\n",
    "layers = [[start_position]]\n",
    "for time_elapsed in count(start=0):\n",
    "    # look at each location in the current layer and determine all possible\n",
    "    # next steps (or not moving)\n",
    "    next_blizzards, obstacle_set = \\\n",
    "        get_next_blizzards(blizzards[-1], empty_valley)\n",
    "    new_layer = []\n",
    "    for position in layers[-1]:\n",
    "        for offset in ((0, 0), (1, 0), (0, 1), (-1, 0), (0, -1)):\n",
    "            x, y = [val + off for val, off in zip(position, offset)]\n",
    "            # check if we've already considered this position\n",
    "            if (x, y) in new_layer:\n",
    "                continue\n",
    "            # check if it's a wall\n",
    "            if empty_valley[y][x] == '#':\n",
    "                continue\n",
    "            # check if there's a blizzard in the way next\n",
    "            if (x, y) in obstacle_set:\n",
    "                continue\n",
    "            # if none of that was true we can go there next so add it\n",
    "            new_layer.append((x, y))\n",
    "\n",
    "    # add the new net to the existing one\n",
    "    blizzards.append(next_blizzards)\n",
    "    layers.append(new_layer)\n",
    "    # now check if we reached the end\n",
    "    if end_position in layers[-1]:\n",
    "        break"
   ]
  },
  {
   "cell_type": "code",
   "execution_count": 49,
   "metadata": {},
   "outputs": [
    {
     "name": "stdout",
     "output_type": "stream",
     "text": [
      "the shortest path to the end takes: 295!\n"
     ]
    }
   ],
   "source": [
    "print(f'the shortest path to the end takes: {len(layers) - 1}!')"
   ]
  }
 ],
 "metadata": {
  "kernelspec": {
   "display_name": "advent-of-code",
   "language": "python",
   "name": "python3"
  },
  "language_info": {
   "codemirror_mode": {
    "name": "ipython",
    "version": 3
   },
   "file_extension": ".py",
   "mimetype": "text/x-python",
   "name": "python",
   "nbconvert_exporter": "python",
   "pygments_lexer": "ipython3",
   "version": "3.11.0"
  },
  "orig_nbformat": 4,
  "vscode": {
   "interpreter": {
    "hash": "2d3d69b7f7c7447ebb59bd0325e8659c9bdbb7c04d20332a5a8a68af11de2233"
   }
  }
 },
 "nbformat": 4,
 "nbformat_minor": 2
}
