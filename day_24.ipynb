{
 "cells": [
  {
   "attachments": {},
   "cell_type": "markdown",
   "metadata": {},
   "source": [
    "# Day 24\n",
    "\n",
    "## Part 1\n",
    "\n",
    "- map the valley, dodge the blizzards of snow!\n",
    "- the blizzards move forwards in a direction one step at a time each minute\n",
    "    - if a blizzard hits a wall ~~it bounces off next turn~~ it disappears and another one forms next to the wall opposite, moving in the same direction.\n",
    "    - 2 blizzards can occupy the same spot and will continue as if nothing happened the next turn.\n",
    "- the expedition begins in the only non wall space in the top row\n",
    "- the goal is the only non wall space in the bottom row\n",
    "- each minute the expedition can move to any cardinally adjacent square or not move\n",
    "`What is the fewest number of minutes required to avoid the blizzards and reach the goal?`"
   ]
  },
  {
   "cell_type": "code",
   "execution_count": 201,
   "metadata": {},
   "outputs": [
    {
     "name": "stdout",
     "output_type": "stream",
     "text": [
      "['#', '<', '>', 'v', '^', '<', 'v', 'v', '<', 'v']\n"
     ]
    }
   ],
   "source": [
    "from __future__ import annotations\n",
    "\n",
    "from copy import deepcopy\n",
    "from dataclasses import dataclass\n",
    "from itertools import count\n",
    "from matplotlib import pyplot as plt\n",
    "from utils import parse_from_file, ParseConfig\n",
    "\n",
    "parser = ParseConfig('\\n', ParseConfig('', str))\n",
    "\n",
    "valley = parse_from_file('day_24.txt', parser)\n",
    "\n",
    "print(valley[1][:10])"
   ]
  },
  {
   "cell_type": "code",
   "execution_count": 202,
   "metadata": {},
   "outputs": [
    {
     "name": "stdout",
     "output_type": "stream",
     "text": [
      "[Blizzard(x=1, y=1, step_x=-1, step_y=0), Blizzard(x=2, y=1, step_x=1, step_y=0), Blizzard(x=3, y=1, step_x=0, step_y=1), Blizzard(x=4, y=1, step_x=0, step_y=-1), Blizzard(x=5, y=1, step_x=-1, step_y=0)]\n"
     ]
    }
   ],
   "source": [
    "# to ensure we keep track of overlapping blizzards let's extract all their\n",
    "# positions\n",
    "@dataclass\n",
    "class Blizzard:\n",
    "    x: int\n",
    "    y: int\n",
    "    step_x: int\n",
    "    step_y: int\n",
    "\n",
    "    @property\n",
    "    def position(self) -> tuple[int]:\n",
    "        return (self.x, self.y)\n",
    "    \n",
    "    @position.setter\n",
    "    def position(self, new_position: tuple[int]) -> None:\n",
    "        self.x, self.y = new_position\n",
    "    \n",
    "    @property\n",
    "    def direction(self) -> tuple[int]:\n",
    "        return (self.step_x, self.step_y)\n",
    "    \n",
    "    @property\n",
    "    def next_position(self) -> tuple[int]:\n",
    "        \"\"\"returns the next position but doesn't go there yet\"\"\"\n",
    "        return (self.x + self.step_x, self.y + self.step_y)\n",
    "\n",
    "    @property\n",
    "    def step(self) -> Blizzard:\n",
    "        \"\"\"return a copy stepped forward\"\"\"\n",
    "        return Blizzard(\n",
    "            self.x + self.step_x, self.y + self.step_y, *self.direction)\n",
    "    \n",
    "    @property\n",
    "    def rebound(self) -> Blizzard:\n",
    "        \"\"\"return a copy rebounded\"\"\"\n",
    "        return Blizzard(\n",
    "            self.x - self.step_x, self.y - self.step_y,\n",
    "            -self.step_x, -self.step_y\n",
    "        )\n",
    "\n",
    "directions = {'>': (1, 0), 'v': (0, 1), '<': (-1, 0), '^': (0, -1)}\n",
    "\n",
    "starting_blizzards = []\n",
    "for y, row in enumerate(valley):\n",
    "    for x, material in enumerate(row):\n",
    "        if material in ['.', '#']:\n",
    "            continue\n",
    "        starting_blizzards.append(Blizzard(x, y, *directions[material]))\n",
    "\n",
    "print(starting_blizzards[:5])"
   ]
  },
  {
   "cell_type": "code",
   "execution_count": 203,
   "metadata": {},
   "outputs": [
    {
     "name": "stdout",
     "output_type": "stream",
     "text": [
      "['#', '.', '.', '.', '.', '.', '.', '.', '.', '.']\n"
     ]
    }
   ],
   "source": [
    "# movement of the expedition and blizzards and plotting needs an empty base\n",
    "empty_valley = []\n",
    "for row in valley:\n",
    "    empty_valley.append([])\n",
    "    for material in row:\n",
    "        if material in ['#', '.']:\n",
    "            empty_valley[-1].append(material)\n",
    "        else:\n",
    "            empty_valley[-1].append('.')\n",
    "\n",
    "print(empty_valley[1][:10])"
   ]
  },
  {
   "cell_type": "code",
   "execution_count": 204,
   "metadata": {},
   "outputs": [],
   "source": [
    "def get_next_blizzards(\n",
    "    blizzards: list[Blizzard], empty_valley: list[list[str]]\n",
    ") -> tuple[list[Blizzard], set]:\n",
    "    \"\"\"\n",
    "    returns a new list of Blizzards stepped forward accounting for walls and\n",
    "    a set of all positions that are occupied for easy lookup\n",
    "    \"\"\"\n",
    "    new_blizzards = []\n",
    "    for blizzard in blizzards:\n",
    "        x, y = blizzard.next_position\n",
    "        if empty_valley[y][x] == '#':\n",
    "            while empty_valley[y][x] == '#':\n",
    "                if blizzard.step_x == 0:\n",
    "                    y = (y + blizzard.step_y) % len(empty_valley)\n",
    "                else:\n",
    "                    x = (x + blizzard.step_x) % len(empty_valley[0])\n",
    "            new_blizzards.append(Blizzard(x, y, *blizzard.direction))\n",
    "        else:\n",
    "            new_blizzards.append(blizzard.step)\n",
    "    obstacle_set = set([blizzard.position for blizzard in blizzards])\n",
    "    return new_blizzards, obstacle_set"
   ]
  },
  {
   "cell_type": "code",
   "execution_count": 205,
   "metadata": {},
   "outputs": [
    {
     "name": "stdout",
     "output_type": "stream",
     "text": [
      "start: (1, 0), end: (120, 26)\n"
     ]
    }
   ],
   "source": [
    "for x, material in enumerate(empty_valley[0]):\n",
    "    if material == '.':\n",
    "        start_position = (x, 0)\n",
    "        break\n",
    "\n",
    "for x, material in enumerate(empty_valley[-1]):\n",
    "    if material == '.':\n",
    "        end_position = (x, len(empty_valley) - 1)\n",
    "\n",
    "print(f'start: {start_position}, end: {end_position}')"
   ]
  },
  {
   "cell_type": "code",
   "execution_count": 206,
   "metadata": {},
   "outputs": [],
   "source": [
    "blizzards = [starting_blizzards]\n",
    "layers = [[start_position]]\n",
    "for time_elapsed in count(start=0):\n",
    "    # look at each location in the current layer and determine all possible\n",
    "    # next steps (or not moving)\n",
    "    next_blizzards, obstacle_set = \\\n",
    "        get_next_blizzards(blizzards[-1], empty_valley)\n",
    "    new_layer = []\n",
    "    for position in layers[-1]:\n",
    "        for offset in ((0, 0), (1, 0), (0, 1), (-1, 0), (0, -1)):\n",
    "            x, y = [val + off for val, off in zip(position, offset)]\n",
    "            # check if we've already considered this position\n",
    "            if (x, y) in new_layer:\n",
    "                continue\n",
    "            # check if it's a wall\n",
    "            if empty_valley[y][x] == '#':\n",
    "                continue\n",
    "            # check if there's a blizzard in the way next\n",
    "            if (x, y) in obstacle_set:\n",
    "                continue\n",
    "            # if none of that was true we can go there next so add it\n",
    "            new_layer.append((x, y))\n",
    "\n",
    "    # add the new net to the existing one\n",
    "    blizzards.append(next_blizzards)\n",
    "    layers.append(new_layer)\n",
    "    # now check if we reached the end\n",
    "    if end_position in layers[-1]:\n",
    "        break"
   ]
  },
  {
   "cell_type": "code",
   "execution_count": 208,
   "metadata": {},
   "outputs": [
    {
     "data": {
      "text/plain": [
       "Text(0.5, 1.0, 'Endfull possibilities')"
      ]
     },
     "execution_count": 208,
     "metadata": {},
     "output_type": "execute_result"
    },
    {
     "data": {
      "image/png": "[encoded data removed]",
      "text/plain": [
       "<Figure size 640x480 with 1 Axes>"
      ]
     },
     "metadata": {},
     "output_type": "display_data"
    }
   ],
   "source": [
    "def plot_layers(layers: list[list[tuple[int]]]) -> list[list[int]]:\n",
    "    \"\"\"\n",
    "    creates a plot with the layers produced\n",
    "    \"\"\"\n",
    "    ground = 0\n",
    "    wall = len(layers)\n",
    "    grid = []\n",
    "    for row in empty_valley:\n",
    "        grid.append([])\n",
    "        for material in row:\n",
    "            match material:\n",
    "                case '#':\n",
    "                    grid[-1].append(wall)\n",
    "                case '.':\n",
    "                    grid[-1].append(ground)\n",
    "    \n",
    "    for layer in layers:\n",
    "        for x, y in layer:\n",
    "            grid[y][x] += 1\n",
    "    \n",
    "    return list(reversed(grid))\n",
    "\n",
    "fig, ax = plt.subplots()\n",
    "ax.pcolormesh(plot_layers(layers))\n",
    "ax.set_title(f'Endfull possibilities')"
   ]
  },
  {
   "cell_type": "code",
   "execution_count": 207,
   "metadata": {},
   "outputs": [
    {
     "name": "stdout",
     "output_type": "stream",
     "text": [
      "the shortest path to the end takes: 295!\n"
     ]
    }
   ],
   "source": [
    "print(f'the shortest path to the end takes: {len(layers) - 2}!')"
   ]
  },
  {
   "cell_type": "code",
   "execution_count": null,
   "metadata": {},
   "outputs": [],
   "source": [
    "# Turns out I had the blizzard wall interation all wrong for part 1 but still\n",
    "# inexplicably managed to get the right answer"
   ]
  },
  {
   "attachments": {},
   "cell_type": "markdown",
   "metadata": {},
   "source": [
    "## Part 2\n",
    "\n",
    "- there and back for snacks then back again again - an elf's tail"
   ]
  },
  {
   "cell_type": "code",
   "execution_count": 209,
   "metadata": {},
   "outputs": [],
   "source": [
    "# let's wrap this up in a func so we can do it again and again\n",
    "def get_layers(\n",
    "    start_pos: tuple[int], end_pos: tuple[int],\n",
    "    initial_blizzards: list[Blizzard]\n",
    ") -> list[tuple[int]]:\n",
    "    \"\"\"\n",
    "    returns the layers from navigating from start to end\n",
    "    \"\"\"\n",
    "    blizzards = [initial_blizzards]\n",
    "    layers = [[start_pos]]\n",
    "    for time_elapsed in count(start=0):\n",
    "        # look at each location in the current layer and determine all possible\n",
    "        # next steps (or not moving)\n",
    "        next_blizzards, obstacle_set = \\\n",
    "            get_next_blizzards(blizzards[-1], empty_valley)\n",
    "        new_layer = []\n",
    "        for position in layers[-1]:\n",
    "            for offset in ((0, 0), (1, 0), (0, 1), (-1, 0), (0, -1)):\n",
    "                x, y = [val + off for val, off in zip(position, offset)]\n",
    "                y = min(y, len(empty_valley) - 1)\n",
    "                # check if we've already considered this position\n",
    "                if (x, y) in new_layer:\n",
    "                    continue\n",
    "                # check if it's a wall\n",
    "                if empty_valley[y][x] == '#':\n",
    "                    continue\n",
    "                # check if there's a blizzard in the way next\n",
    "                if (x, y) in obstacle_set:\n",
    "                    continue\n",
    "                # if none of that was true we can go there next so add it\n",
    "                new_layer.append((x, y))\n",
    "\n",
    "        # add the new net to the existing one\n",
    "        blizzards.append(next_blizzards)\n",
    "        layers.append(new_layer)\n",
    "        # now check if we reached the end\n",
    "        if end_pos in layers[-1]:\n",
    "            break\n",
    "    return layers, blizzards"
   ]
  },
  {
   "cell_type": "code",
   "execution_count": 210,
   "metadata": {},
   "outputs": [],
   "source": [
    "# there \n",
    "trip_layers = [layers]\n",
    "trip_blizzards = [blizzards]\n",
    "# back again\n",
    "l, b = get_layers(end_position, start_position, trip_blizzards[-1][-1])\n",
    "trip_layers.append(l)\n",
    "trip_blizzards.append(b)\n",
    "# there again again\n",
    "l, b = get_layers(start_position, end_position, trip_blizzards[-1][-1])\n",
    "trip_layers.append(l)\n",
    "trip_blizzards.append(b)"
   ]
  },
  {
   "cell_type": "code",
   "execution_count": 211,
   "metadata": {},
   "outputs": [
    {
     "data": {
      "image/png": "[encoded data removed]",
      "text/plain": [
       "<Figure size 640x480 with 1 Axes>"
      ]
     },
     "metadata": {},
     "output_type": "display_data"
    },
    {
     "data": {
      "image/png": "[encoded data removed]",
      "text/plain": [
       "<Figure size 640x480 with 1 Axes>"
      ]
     },
     "metadata": {},
     "output_type": "display_data"
    }
   ],
   "source": [
    "for layers, title in zip(trip_layers[1:], ('back again', 'there again')):\n",
    "    fig, ax = plt.subplots()\n",
    "    ax.pcolormesh(plot_layers(layers))\n",
    "    ax.set_title(title)"
   ]
  },
  {
   "cell_type": "code",
   "execution_count": 212,
   "metadata": {},
   "outputs": [
    {
     "name": "stdout",
     "output_type": "stream",
     "text": [
      "the there-back-there shortest trip takes: 851\n"
     ]
    }
   ],
   "source": [
    "total_length = sum([len(layer_set) - 1 for layer_set in trip_layers]) - 1\n",
    "\n",
    "print(f'the there-back-there shortest trip takes: {total_length}')"
   ]
  }
 ],
 "metadata": {
  "kernelspec": {
   "display_name": "advent-of-code",
   "language": "python",
   "name": "python3"
  },
  "language_info": {
   "codemirror_mode": {
    "name": "ipython",
    "version": 3
   },
   "file_extension": ".py",
   "mimetype": "text/x-python",
   "name": "python",
   "nbconvert_exporter": "python",
   "pygments_lexer": "ipython3",
   "version": "3.11.0"
  },
  "orig_nbformat": 4,
  "vscode": {
   "interpreter": {
    "hash": "2d3d69b7f7c7447ebb59bd0325e8659c9bdbb7c04d20332a5a8a68af11de2233"
   }
  }
 },
 "nbformat": 4,
 "nbformat_minor": 2
}
