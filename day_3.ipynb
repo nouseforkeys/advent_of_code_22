{
 "cells": [
  {
   "cell_type": "markdown",
   "metadata": {},
   "source": [
    "# Day 3\n",
    "\n",
    "## Part 1\n",
    "\n",
    "- Rucksacks have 2 compartmentalised\n",
    "- Items are encoded as a-z and A-Z where lowercase and uppercase denote different items.\n",
    "- The compartmentalised in each rucksack have the same number of items.\n",
    "- Items have a priority where:\n",
    "    - a = 1\n",
    "    - ...\n",
    "    - z = 26\n",
    "    - A = 27\n",
    "    - ...\n",
    "    - Z = 52\n",
    "\n",
    "Find the item type that appears in both compartments of each rucksack. What is the sum of the priorities of those item types?"
   ]
  },
  {
   "cell_type": "code",
   "execution_count": 12,
   "metadata": {},
   "outputs": [
    {
     "name": "stdout",
     "output_type": "stream",
     "text": [
      "rucksacks loaded in: ['LLBPGtltrGPBMMsLcLMMVMpVRhhfCDTwRwRdTfwDllRRRDhC', 'gNFJHJFgtZFJjZJHNNFWZWZwwDjCwSDhfCDbdwjfwDTTDT', 'gmQNZnZNHWnqmQpLtVLMBsPpBqrL', 'HlHldQtHlctzppdQtjdczHhJRnnhGNVmVRJmVjCVFCNh', 'LgWNgggZJZGFhCZr', 'DbqPswwMvDPqzlBNHtzfHdwd', 'tJgtJwwCtNvPHHPtHzDsdRTsBRDDWgWTgT', 'QhLQjLGjZQFlFZmnmGLDrzWfRldrTrzTBRWTzs', 'bFFmFZjhSFHvBCvCvJpb', 'MSGcvnvMGMJgWJDpdndZwBnppfCp']...\n"
     ]
    }
   ],
   "source": [
    "from utils import load_from_file\n",
    "\n",
    "rucksacks = load_from_file('day_3.txt')\n",
    "\n",
    "print(f'rucksacks loaded in: {rucksacks[:10]}...')"
   ]
  },
  {
   "cell_type": "code",
   "execution_count": 13,
   "metadata": {},
   "outputs": [
    {
     "name": "stdout",
     "output_type": "stream",
     "text": [
      "rucksacks comparmentalised: [['LLBPGtltrGPBMMsLcLMMVMpV', 'RhhfCDTwRwRdTfwDllRRRDhC'], ['gNFJHJFgtZFJjZJHNNFWZWZ', 'wwDjCwSDhfCDbdwjfwDTTDT'], ['gmQNZnZNHWnqmQ', 'pLtVLMBsPpBqrL'], ['HlHldQtHlctzppdQtjdczH', 'hJRnnhGNVmVRJmVjCVFCNh'], ['LgWNgggZ', 'JZGFhCZr'], ['DbqPswwMvDPq', 'zlBNHtzfHdwd'], ['tJgtJwwCtNvPHHPtH', 'zDsdRTsBRDDWgWTgT'], ['QhLQjLGjZQFlFZmnmGL', 'DrzWfRldrTrzTBRWTzs'], ['bFFmFZjhSF', 'HvBCvCvJpb'], ['MSGcvnvMGMJgWJ', 'DpdndZwBnppfCp']]...\n"
     ]
    }
   ],
   "source": [
    "# spit the rucksacks into comparments\n",
    "compartments = []\n",
    "for contents in rucksacks:\n",
    "    mid_point = int(len(contents) / 2)\n",
    "    compartments.append([\n",
    "        contents[:mid_point],\n",
    "        contents[mid_point:]\n",
    "    ])\n",
    "\n",
    "print(f'rucksacks comparmentalised: {compartments[:10]}...')"
   ]
  },
  {
   "cell_type": "code",
   "execution_count": 14,
   "metadata": {},
   "outputs": [
    {
     "name": "stdout",
     "output_type": "stream",
     "text": [
      "item: a is priority: 1\n",
      "item: b is priority: 2\n",
      "item: c is priority: 3\n",
      "item: x is priority: 24\n",
      "item: y is priority: 25\n",
      "item: z is priority: 26\n",
      "item: A is priority: 27\n",
      "item: B is priority: 28\n",
      "item: C is priority: 29\n",
      "item: X is priority: 50\n",
      "item: Y is priority: 51\n",
      "item: Z is priority: 52\n"
     ]
    }
   ],
   "source": [
    "def priority(item: str) -> int:\n",
    "    \"\"\"\n",
    "    returns the priority of the item passed\n",
    "    \"\"\"\n",
    "    code = ord(item)\n",
    "    if code >= 97:\n",
    "        return code - 96\n",
    "    else:\n",
    "        return code - 64 + 26\n",
    "    \n",
    "test_string = 'abcxyzABCXYZ'\n",
    "\n",
    "for item in test_string:\n",
    "    print(f'item: {item} is priority: {priority(item)}')"
   ]
  },
  {
   "cell_type": "code",
   "execution_count": 16,
   "metadata": {},
   "outputs": [
    {
     "name": "stdout",
     "output_type": "stream",
     "text": [
      "the total priority of duplicate items is: 7793!\n"
     ]
    }
   ],
   "source": [
    "def find_dupe_priority(comparments: list[str,str]) -> int:\n",
    "    \"\"\"\n",
    "    finds the shared item code and decodes it's priority\n",
    "    \"\"\"\n",
    "    a, b = comparments\n",
    "\n",
    "    for item in a:\n",
    "        if item in b:\n",
    "            return priority(item)\n",
    "\n",
    "total_dupe_priority = sum([\n",
    "    find_dupe_priority(rucksack) for rucksack in compartments])\n",
    "\n",
    "print(f'the total priority of duplicate items is: {total_dupe_priority}!')"
   ]
  }
 ],
 "metadata": {
  "interpreter": {
   "hash": "2d3d69b7f7c7447ebb59bd0325e8659c9bdbb7c04d20332a5a8a68af11de2233"
  },
  "kernelspec": {
   "display_name": "Python 3.11.0 ('advent-of-code': venv)",
   "language": "python",
   "name": "python3"
  },
  "language_info": {
   "codemirror_mode": {
    "name": "ipython",
    "version": 3
   },
   "file_extension": ".py",
   "mimetype": "text/x-python",
   "name": "python",
   "nbconvert_exporter": "python",
   "pygments_lexer": "ipython3",
   "version": "3.11.0"
  },
  "orig_nbformat": 4
 },
 "nbformat": 4,
 "nbformat_minor": 2
}
