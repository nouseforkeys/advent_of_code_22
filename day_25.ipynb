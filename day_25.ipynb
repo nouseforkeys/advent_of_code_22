{
 "cells": [
  {
   "attachments": {},
   "cell_type": "markdown",
   "metadata": {},
   "source": [
    "# Day 25\n",
    "\n",
    "## Part 1\n",
    "\n",
    "- Balloon fuel is totted up in SNAFUs\n",
    "- the numbers are in base 5 instead\n",
    "- they used the symbols: `2`, `1`, `0`, `-`, `=`\n",
    "- `-` has a value of -1 and `=` has a value of -2\n",
    "- we need to find the sum of all the SNAFU numbers in decimal\n",
    "\n",
    "`What SNAFU number do you supply to Bob's console?`\n"
   ]
  },
  {
   "cell_type": "code",
   "execution_count": 6,
   "metadata": {},
   "outputs": [
    {
     "name": "stdout",
     "output_type": "stream",
     "text": [
      "['112==22001=---1====', '2=02', '1===1=--=', '1=2-1212', '10-1122=-1']\n"
     ]
    }
   ],
   "source": [
    "from itertools import count\n",
    "from utils import parse_from_file, ParseConfig\n",
    "\n",
    "parser = ParseConfig('\\n', str)\n",
    "\n",
    "snafu_values = parse_from_file('day_25.txt', parser)\n",
    "\n",
    "print(snafu_values[:5])"
   ]
  },
  {
   "cell_type": "code",
   "execution_count": 7,
   "metadata": {},
   "outputs": [
    {
     "name": "stdout",
     "output_type": "stream",
     "text": [
      "1=-0-2\t1747\n",
      "12111\t906\n",
      "2=0=\t198\n",
      "21\t11\n",
      "2=01\t201\n",
      "111\t31\n",
      "20012\t1257\n",
      "112\t32\n",
      "1=-1=\t353\n",
      "1-12\t107\n",
      "12\t7\n",
      "1=\t3\n",
      "122\t37\n"
     ]
    }
   ],
   "source": [
    "def snafu_to_dec(snafu: str) -> int:\n",
    "    \"\"\"\n",
    "    returns the decimal version of a snafu number\n",
    "    \"\"\"\n",
    "    value = 0\n",
    "    for power, digit in enumerate(reversed(snafu)):\n",
    "        match digit:\n",
    "            case '2':\n",
    "                digit_val = 2\n",
    "            case '1':\n",
    "                digit_val = 1\n",
    "            case '0':\n",
    "                digit_val = 0\n",
    "            case '-':\n",
    "                digit_val = -1\n",
    "            case '=':\n",
    "                digit_val = -2\n",
    "        value += digit_val * (5 ** power)\n",
    "    return value\n",
    "\n",
    "test_snafu = [\n",
    "    '1=-0-2',\n",
    "    '12111',\n",
    "    '2=0=',\n",
    "    '21',\n",
    "    '2=01',\n",
    "    '111',\n",
    "    '20012',\n",
    "    '112',\n",
    "    '1=-1=',\n",
    "    '1-12',\n",
    "    '12',\n",
    "    '1=',\n",
    "    '122',\n",
    "]\n",
    "\n",
    "for snafu in test_snafu:\n",
    "    print(f'{snafu}\\t{snafu_to_dec(snafu)}')"
   ]
  },
  {
   "cell_type": "code",
   "execution_count": 34,
   "metadata": {},
   "outputs": [
    {
     "name": "stdout",
     "output_type": "stream",
     "text": [
      "1=-0-2\t1747\t1=-0-2\n",
      "12111\t906\t12111\n",
      "2=0=\t198\t2=0=\n",
      "21\t11\t21\n",
      "2=01\t201\t2=01\n",
      "111\t31\t111\n",
      "20012\t1257\t20012\n",
      "112\t32\t112\n",
      "1=-1=\t353\t1=-1=\n",
      "1-12\t107\t1-12\n",
      "12\t7\t12\n",
      "1=\t3\t1=\n",
      "122\t37\t122\n"
     ]
    }
   ],
   "source": [
    "def dec_to_snafu(number: int) -> str:\n",
    "    \"\"\"\n",
    "    convets a decimal number to snafu form\n",
    "    \"\"\"\n",
    "    for digits in count(start=0):\n",
    "        max_value = sum([2 * 5 ** power for power in range(digits)])\n",
    "        if max_value >= abs(number):\n",
    "            break\n",
    "    \n",
    "    remainder = number\n",
    "    snafu_list = [0] * digits\n",
    "    index = 0\n",
    "    while remainder != 0:\n",
    "        max_value = sum([2 * 5 ** power for power in range(digits - index - 1)])\n",
    "        if remainder > max_value:\n",
    "            snafu_list[index] += 1\n",
    "        elif remainder < -max_value:\n",
    "            snafu_list[index] -= 1\n",
    "        else:\n",
    "            index += 1\n",
    "        if abs(snafu_list[index]) == 2:\n",
    "            index += 1\n",
    "        remainder = number - sum([\n",
    "            digit * 5 ** power for power, digit\n",
    "            in enumerate(reversed(snafu_list))\n",
    "        ])\n",
    "    snafu_symbols = ('0', '1', '2', '=', '-')\n",
    "    return ''.join([snafu_symbols[digit] for digit in snafu_list])\n",
    "\n",
    "for snafu in test_snafu:\n",
    "    number = snafu_to_dec(snafu)\n",
    "    print(f'{snafu}\\t{number}\\t{dec_to_snafu(number)}')"
   ]
  },
  {
   "cell_type": "code",
   "execution_count": 36,
   "metadata": {},
   "outputs": [
    {
     "name": "stdout",
     "output_type": "stream",
     "text": [
      "the total balloon fuel is: 2-==10===-12=2-1=-=0!\n"
     ]
    }
   ],
   "source": [
    "total_fuel = dec_to_snafu(sum([snafu_to_dec(snafu) for snafu in snafu_values]))\n",
    "\n",
    "print(f'the total balloon fuel is: {total_fuel}!')"
   ]
  }
 ],
 "metadata": {
  "kernelspec": {
   "display_name": "advent-of-code",
   "language": "python",
   "name": "python3"
  },
  "language_info": {
   "codemirror_mode": {
    "name": "ipython",
    "version": 3
   },
   "file_extension": ".py",
   "mimetype": "text/x-python",
   "name": "python",
   "nbconvert_exporter": "python",
   "pygments_lexer": "ipython3",
   "version": "3.11.0"
  },
  "orig_nbformat": 4,
  "vscode": {
   "interpreter": {
    "hash": "2d3d69b7f7c7447ebb59bd0325e8659c9bdbb7c04d20332a5a8a68af11de2233"
   }
  }
 },
 "nbformat": 4,
 "nbformat_minor": 2
}
