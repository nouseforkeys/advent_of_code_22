{
 "cells": [
  {
   "cell_type": "markdown",
   "metadata": {},
   "source": [
    "# Day 2\n",
    "\n",
    "## Part 1\n",
    "\n",
    "Oppenent's moves:\n",
    "- A: Rock\n",
    "- B: Paper\n",
    "- C: Scissors\n",
    "\n",
    "My moves:\n",
    "- X: Rock\n",
    "- Y: Paper\n",
    "- Z: Scissors\n",
    "\n",
    "Scoring:\n",
    "- Rock = 1\n",
    "- Paper = 2\n",
    "- Scissors = 3\n",
    "- Lose = 0\n",
    "- Draw = 3\n",
    "- Win = 6\n",
    "\n",
    "What would your total score be if everything goes exactly according to your strategy guide?"
   ]
  },
  {
   "cell_type": "code",
   "execution_count": 17,
   "metadata": {},
   "outputs": [
    {
     "name": "stdout",
     "output_type": "stream",
     "text": [
      "[['B', 'X'], ['B', 'Z'], ['B', 'Z'], ['A', 'Y'], ['B', 'X'], ['A', 'Y'], ['C', 'Y'], ['A', 'Y'], ['C', 'X'], ['B', 'X']]...\n"
     ]
    }
   ],
   "source": [
    "from utils import load_from_file\n",
    "\n",
    "moves = load_from_file('day_2.txt', cast_as=[str, str], delimiter=' ')\n",
    "\n",
    "print(f'{moves[:10]}...')"
   ]
  },
  {
   "cell_type": "code",
   "execution_count": 18,
   "metadata": {},
   "outputs": [
    {
     "name": "stdout",
     "output_type": "stream",
     "text": [
      "my total score, following the strategy guide is: 15337\n"
     ]
    }
   ],
   "source": [
    "def calc_rps_score(opponent: str, me: str) -> int:\n",
    "    \"\"\"\n",
    "    returns the score from a particular round\n",
    "    \"\"\"\n",
    "    score = {\n",
    "        'X': 1,\n",
    "        'Y': 2,\n",
    "        'Z': 3,\n",
    "    }\n",
    "    state = {\n",
    "        'AX': 3,\n",
    "        'AY': 6,\n",
    "        'AZ': 0,\n",
    "        'BX': 0,\n",
    "        'BY': 3,\n",
    "        'BZ': 6,\n",
    "        'CX': 6,\n",
    "        'CY': 0,\n",
    "        'CZ': 3, \n",
    "    }\n",
    "    return state[opponent + me] + score[me]\n",
    "    \n",
    "\n",
    "scores = [calc_rps_score(opp, me) for opp, me in moves]\n",
    "\n",
    "total_score = sum(scores)\n",
    "\n",
    "print(f'my total score, following the strategy guide is: {total_score}!')"
   ]
  }
 ],
 "metadata": {
  "kernelspec": {
   "display_name": "Python 3.11.0 ('advent-of-code-22': venv)",
   "language": "python",
   "name": "python3"
  },
  "language_info": {
   "codemirror_mode": {
    "name": "ipython",
    "version": 3
   },
   "file_extension": ".py",
   "mimetype": "text/x-python",
   "name": "python",
   "nbconvert_exporter": "python",
   "pygments_lexer": "ipython3",
   "version": "3.11.0"
  },
  "orig_nbformat": 4,
  "vscode": {
   "interpreter": {
    "hash": "68417e919b0e4b56d7cc53f5fb728a454fa0b7c2f4afec00c4a0958dca6f6ed0"
   }
  }
 },
 "nbformat": 4,
 "nbformat_minor": 2
}
