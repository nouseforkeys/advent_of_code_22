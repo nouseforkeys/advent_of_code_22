{
 "cells": [
  {
   "attachments": {},
   "cell_type": "markdown",
   "metadata": {},
   "source": [
    "# Day 17\n",
    "\n",
    "## Part 1\n",
    "\n",
    "- rocks fall! ...everyone hopefuly doesn't die\n",
    "- rocks fall in the same order: `-`, `+`, `J`, `|`, `o`\n",
    "- the rocks don't spin but can translate left and right\n",
    "- this is all in a vertical chamber that is 7 units wide\n",
    "- rocks appear such that it's left edge is 2 units from the left wall and it's bottom is 3 units above the highest rock in the room/the floor.\n",
    "- rocks alternate between being pushed by hot gas and falling\n",
    "- if a rock would move into a wall or the floor or another rock it doesn't\n",
    "- a new rock appears immediately after the last rock stops being able to fall further\n",
    "\n",
    "`How many units tall will the tower of rocks be after 2022 rocks have stopped falling?`"
   ]
  },
  {
   "cell_type": "code",
   "execution_count": null,
   "metadata": {},
   "outputs": [],
   "source": []
  }
 ],
 "metadata": {
  "language_info": {
   "name": "python"
  },
  "orig_nbformat": 4
 },
 "nbformat": 4,
 "nbformat_minor": 2
}
