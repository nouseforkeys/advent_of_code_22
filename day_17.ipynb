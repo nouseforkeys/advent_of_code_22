{
 "cells": [
  {
   "attachments": {},
   "cell_type": "markdown",
   "metadata": {},
   "source": [
    "# Day 17\n",
    "\n",
    "## Part 1\n",
    "\n",
    "- rocks fall! ...everyone hopefuly doesn't die\n",
    "- rocks fall in the same order: `-`, `+`, `J`, `|`, `o`\n",
    "- the rocks don't spin but can translate left and right\n",
    "- this is all in a vertical chamber that is 7 units wide\n",
    "- rocks appear such that it's left edge is 2 units from the left wall and it's bottom is 3 units above the highest rock in the room/the floor.\n",
    "- rocks alternate between being pushed by hot gas and falling\n",
    "- if a rock would move into a wall or the floor or another rock it doesn't\n",
    "- a new rock appears immediately after the last rock stops being able to fall further\n",
    "\n",
    "`How many units tall will the tower of rocks be after 2022 rocks have stopped falling?`"
   ]
  },
  {
   "cell_type": "code",
   "execution_count": 1,
   "metadata": {},
   "outputs": [
    {
     "name": "stdout",
     "output_type": "stream",
     "text": [
      "['>', '>', '>', '>', '<', '>', '>', '>', '<', '<']\n"
     ]
    }
   ],
   "source": [
    "from matplotlib import pyplot as plt\n",
    "from utils import parse_from_file, ParseConfig\n",
    "\n",
    "parser = ParseConfig('', str)\n",
    "\n",
    "rock_moves = parse_from_file('day_17.txt', parser)\n",
    "\n",
    "print(rock_moves[:10])"
   ]
  },
  {
   "cell_type": "code",
   "execution_count": 4,
   "metadata": {},
   "outputs": [
    {
     "name": "stdout",
     "output_type": "stream",
     "text": [
      "[0, 0, 0, 0, 0, 0, 0]\n",
      "[0, 0, 0, 0, 0, 0, 0]\n",
      "[0, 0, 0, 0, 0, 0, 0]\n",
      "[0, 0, 0, 0, 0, 0, 0]\n",
      "[0, 0, 0, 0, 0, 0, 0]\n",
      "[0, 0, 0, 0, 0, 0, 0]\n",
      "[0, 0, 0, 0, 0, 0, 0]\n",
      "[0, 0, 0, 0, 0, 0, 0]\n",
      "[0, 0, 0, 0, 0, 0, 0]\n",
      "[0, 0, 0, 0, 0, 0, 0]\n"
     ]
    }
   ],
   "source": [
    "air = 0\n",
    "static_rock = 1\n",
    "moving_rock = 2\n",
    "\n",
    "chamber_width = 7\n",
    "\n",
    "chamber = [[air for _ in range(chamber_width)] for __ in range(10)]\n",
    "\n",
    "for row in reversed(chamber):\n",
    "    print(row)"
   ]
  }
 ],
 "metadata": {
  "kernelspec": {
   "display_name": "advent-of-code-22",
   "language": "python",
   "name": "python3"
  },
  "language_info": {
   "codemirror_mode": {
    "name": "ipython",
    "version": 3
   },
   "file_extension": ".py",
   "mimetype": "text/x-python",
   "name": "python",
   "nbconvert_exporter": "python",
   "pygments_lexer": "ipython3",
   "version": "3.11.0"
  },
  "orig_nbformat": 4,
  "vscode": {
   "interpreter": {
    "hash": "68417e919b0e4b56d7cc53f5fb728a454fa0b7c2f4afec00c4a0958dca6f6ed0"
   }
  }
 },
 "nbformat": 4,
 "nbformat_minor": 2
}
