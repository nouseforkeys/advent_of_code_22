{
 "cells": [
  {
   "attachments": {},
   "cell_type": "markdown",
   "metadata": {},
   "source": [
    "# Day 17\n",
    "\n",
    "## Part 1\n",
    "\n",
    "- rocks fall! ...everyone hopefuly doesn't die\n",
    "- rocks fall in the same order: `-`, `+`, `J`, `|`, `o`\n",
    "- the rocks don't spin but can translate left and right\n",
    "- this is all in a vertical chamber that is 7 units wide\n",
    "- rocks appear such that it's left edge is 2 units from the left wall and it's bottom is 3 units above the highest rock in the room/the floor.\n",
    "- rocks alternate between being pushed by hot gas and falling\n",
    "- if a rock would move into a wall or the floor or another rock it doesn't\n",
    "- a new rock appears immediately after the last rock stops being able to fall further\n",
    "\n",
    "`How many units tall will the tower of rocks be after 2022 rocks have stopped falling?`"
   ]
  },
  {
   "cell_type": "code",
   "execution_count": 34,
   "metadata": {},
   "outputs": [
    {
     "name": "stdout",
     "output_type": "stream",
     "text": [
      ">>>><>>><<\n"
     ]
    }
   ],
   "source": [
    "from copy import deepcopy\n",
    "from dataclasses import dataclass\n",
    "from itertools import cycle\n",
    "from matplotlib import pyplot as plt\n",
    "import time\n",
    "from utils import parse_from_file, ParseConfig\n",
    "\n",
    "parser = ParseConfig('', str)\n",
    "\n",
    "rock_moves = cycle(parse_from_file('day_17.txt', parser))\n",
    "\n",
    "print(''.join([move for move, _ in zip(deepcopy(rock_moves), range(10))]))"
   ]
  },
  {
   "cell_type": "code",
   "execution_count": 35,
   "metadata": {},
   "outputs": [],
   "source": [
    "air = 0\n",
    "static_rock = 1\n",
    "moving_rock = 2\n",
    "\n",
    "CHAMBER_WIDTH = 7\n",
    "\n",
    "# the coordinates of each rock refereced to the lower left corner\n",
    "rocks = cycle((\n",
    "    ((0, 0), (1, 0), (2, 0), (3, 0)),  # -\n",
    "    ((1, 0), (0, 1), (1, 1), (2, 1), (1, 2)),  # +\n",
    "    ((0, 0), (1, 0), (2, 0), (2, 1), (2, 2)),  # J\n",
    "    ((0, 0), (0, 1), (0, 2), (0, 3)),  # |\n",
    "    ((0, 0), (1, 0), (0, 1), (1, 1))  # o\n",
    "))"
   ]
  },
  {
   "cell_type": "code",
   "execution_count": 36,
   "metadata": {},
   "outputs": [],
   "source": [
    "def chamber_with_rock(\n",
    "    chamber: list[list[int]], rock: tuple[tuple[int]], position: tuple[int]\n",
    ") -> list[list[int]]:\n",
    "    \"\"\"\n",
    "    returns a copy of the chamber with the rock in the position passed for the\n",
    "    purpose of plotting.\n",
    "    \"\"\"\n",
    "    temp_chamber = deepcopy(chamber)\n",
    "    px, py = position\n",
    "    for x, y in rock:\n",
    "        temp_chamber[y + py][x + px] = moving_rock\n",
    "    return temp_chamber"
   ]
  },
  {
   "cell_type": "code",
   "execution_count": 37,
   "metadata": {},
   "outputs": [
    {
     "data": {
      "text/plain": [
       "Text(0.5, 0.98, \"Let's get ready to rrrock!\")"
      ]
     },
     "execution_count": 37,
     "metadata": {},
     "output_type": "execute_result"
    },
    {
     "data": {
      "image/png": "[encoded data removed]",
      "text/plain": [
       "<Figure size 640x480 with 6 Axes>"
      ]
     },
     "metadata": {},
     "output_type": "display_data"
    }
   ],
   "source": [
    "def get_chamber_extension(\n",
    "    chamber: list[list[int]], rock: tuple[tuple[int]]\n",
    ") -> tuple[list[list[int]], tuple[int]]:\n",
    "    \"\"\"\n",
    "    returns the new rows required (not appended in this call) for a new rock\n",
    "    and the coordinates of it's lower left corner\n",
    "    \"\"\"\n",
    "    row_buffer_height = 3\n",
    "    existing_empty_rows = sum(\n",
    "        [all([space == air for space in row]) for row in reversed(chamber)])\n",
    "    rock_height = max([y for _, y in rock]) + 1\n",
    "\n",
    "    extension = [\n",
    "        [air for _ in range(CHAMBER_WIDTH)]\n",
    "        for __ in range(rock_height + row_buffer_height - existing_empty_rows)\n",
    "    ]\n",
    "    start_pos = (2, len(chamber) - existing_empty_rows + row_buffer_height)\n",
    "\n",
    "    return extension, start_pos\n",
    "\n",
    "test_chamber = [\n",
    "    [air, air, static_rock, air, air, air, air],\n",
    "    [air, air, air, air, air, static_rock, air],\n",
    "    [air, air, air, air, air, air, air],\n",
    "]\n",
    "\n",
    "fig, _ = plt.subplots(nrows=1, ncols=6, sharey=True, sharex=True)\n",
    "fig.axes[0].pcolormesh(test_chamber)\n",
    "fig.axes[0].grid('ON')\n",
    "for _, rock, ax in zip(range(5), deepcopy(rocks), fig.axes[1:]):\n",
    "    temp_chamber = deepcopy(test_chamber)\n",
    "    new_rows, start = get_chamber_extension(temp_chamber, rock)\n",
    "    temp_chamber += new_rows\n",
    "    ax.pcolormesh(chamber_with_rock(temp_chamber, rock, start))\n",
    "    ax.grid('ON')\n",
    "    ax.set_xticks(range(1, 8))\n",
    "fig.suptitle('Let\\'s get ready to rrrock!')"
   ]
  },
  {
   "cell_type": "code",
   "execution_count": 38,
   "metadata": {},
   "outputs": [],
   "source": [
    "# wrote this func to help debug\n",
    "def plot_snapshots(snapshots: list[list[list[int]]]):\n",
    "    \"\"\"\n",
    "    creates a plot of the snapshots passed\n",
    "    \"\"\"\n",
    "    fig, axes = plt.subplots(\n",
    "        nrows=1, ncols=len(snapshots), sharey=True, sharex=True)\n",
    "    for ax, snapshot in zip(fig.axes, snapshots):\n",
    "        ax.pcolormesh(snapshot)\n",
    "        ax.grid('ON')\n",
    "        ax.set_xticks(range(1, 8))\n",
    "        ax.set_yticks(range(1, len(snapshot)))\n",
    "    fig.suptitle('Snapshots')"
   ]
  },
  {
   "cell_type": "code",
   "execution_count": 39,
   "metadata": {},
   "outputs": [],
   "source": [
    "def run_rock_sim(\n",
    "    nrocks: int, rock_moves: cycle, chamber_snapshots: bool = False\n",
    ") -> list[list[int]]:\n",
    "    \"\"\"\n",
    "    runs the rock simulation for nrocks\n",
    "\n",
    "    captures a snapshot when each new piece is added if specified\n",
    "    \"\"\"\n",
    "    # ok let's run this and see what we get\n",
    "    chamber = []\n",
    "    snapshots = []\n",
    "    moves = deepcopy(rock_moves)\n",
    "    for _, rock in zip(range(nrocks), deepcopy(rocks)):\n",
    "        # pop a new rock into the chamber\n",
    "        new_rows, (x, y) = get_chamber_extension(chamber, rock)\n",
    "        # print()\n",
    "        keep_falling = True\n",
    "        chamber += new_rows\n",
    "        if chamber_snapshots:\n",
    "            snapshots.append(chamber_with_rock(chamber, rock, (x, y)))\n",
    "        while keep_falling:\n",
    "            # update stopped check\n",
    "            keep_falling = False\n",
    "            # lateral movement\n",
    "            move = next(moves)\n",
    "            if move == '>' and all([]):\n",
    "                for part_x, part_y in rock:\n",
    "                    temp_x = part_x + x + 1\n",
    "                    if temp_x >= CHAMBER_WIDTH:\n",
    "                        # print(move, 'right wall')\n",
    "                        break\n",
    "                    if chamber[y + part_y][temp_x] == static_rock:\n",
    "                        # print(move, 'right rock')\n",
    "                        break\n",
    "                else:\n",
    "                    x += 1\n",
    "            elif move == '<':\n",
    "                for part_x, part_y in rock:\n",
    "                    temp_x = part_x + x - 1\n",
    "                    if temp_x < 0:\n",
    "                        # print(move, 'left wall')\n",
    "                        break\n",
    "                    if chamber[y + part_y][temp_x] == static_rock:\n",
    "                        # print(move, 'left rock')\n",
    "                        break\n",
    "                else:\n",
    "                    x -= 1\n",
    "            # vertical movement\n",
    "            # print(move, x, y)\n",
    "            for part_x, part_y in rock:\n",
    "                temp_y = y + part_y - 1\n",
    "                if temp_y < 0:\n",
    "                    # print('v', 'hit bottom')\n",
    "                    break\n",
    "                if chamber[temp_y][x + part_x] == static_rock:\n",
    "                    # print('v', 'hit rock')\n",
    "                    break\n",
    "            else:\n",
    "                y -= 1\n",
    "                keep_falling = True\n",
    "        # add the moving rock to the chamber\n",
    "        for part_x, part_y in rock:\n",
    "            chamber[y + part_y][x + part_x] = static_rock\n",
    "    if chamber_snapshots:\n",
    "        plot_snapshots(snapshots)\n",
    "    return chamber\n",
    "\n",
    "chamber = run_rock_sim(2022, rock_moves)"
   ]
  },
  {
   "cell_type": "code",
   "execution_count": 40,
   "metadata": {},
   "outputs": [
    {
     "name": "stdout",
     "output_type": "stream",
     "text": [
      "the rock pile reached a height of: 3092!\n"
     ]
    }
   ],
   "source": [
    "_, (_, next_y) = get_chamber_extension(chamber, ((0, 0), ))\n",
    "\n",
    "top_of_the_rocks = next_y - 3\n",
    "\n",
    "print(f'the rock pile reached a height of: {top_of_the_rocks}!')"
   ]
  },
  {
   "attachments": {},
   "cell_type": "markdown",
   "metadata": {},
   "source": [
    "## Part 2\n",
    "\n",
    "- do the same but for `1,000,000,000,000` rocks o.o"
   ]
  },
  {
   "cell_type": "code",
   "execution_count": 41,
   "metadata": {},
   "outputs": [
    {
     "name": "stdout",
     "output_type": "stream",
     "text": [
      "the total number of moves before we repeat is: 10091\n"
     ]
    }
   ],
   "source": [
    "# perhaps we can find a repeating point, after which we get the same thing over\n",
    "# and over and can then just do a bit extra to fill in the end\n",
    "moves = parse_from_file('day_17.txt', parser)\n",
    "total_moves = len(moves)\n",
    "\n",
    "print(f'the total number of moves before we repeat is: {total_moves}')"
   ]
  },
  {
   "cell_type": "code",
   "execution_count": 42,
   "metadata": {},
   "outputs": [],
   "source": [
    "# run and save every time a rock becomes static:\n",
    "# rock number, rock type, resting x coord, rock move index\n",
    "# if we can find a matching set of results at 2 different rock numbers, that's it"
   ]
  },
  {
   "cell_type": "code",
   "execution_count": 70,
   "metadata": {},
   "outputs": [
    {
     "data": {
      "image/png": "[encoded data removed]",
      "text/plain": [
       "<Figure size 640x480 with 2 Axes>"
      ]
     },
     "metadata": {},
     "output_type": "display_data"
    }
   ],
   "source": [
    "@dataclass\n",
    "class RockStats:\n",
    "    rock_type: str\n",
    "    resting_x: int\n",
    "    move_index: int\n",
    "\n",
    "rock_types = cycle(range(5))\n",
    "\n",
    "def run_rock_sim_with_stats(\n",
    "    nrocks: int, start_chamber: list[list[int]], rock_moves: cycle,\n",
    "    start_rock_move: int, rocks: cycle, start_rock_type: int\n",
    ") -> list[list[int]]:\n",
    "    \"\"\"\n",
    "    runs the rock simulation for nrocks\n",
    "\n",
    "    starting chamber, rock_types and moves can be specified to pick up where\n",
    "    we left off\n",
    "    \"\"\"\n",
    "    # ok let's run this and see what we get\n",
    "    chamber = deepcopy(start_chamber)\n",
    "    moves = deepcopy(rock_moves)\n",
    "    for _ in range(start_rock_move):\n",
    "        next(moves)\n",
    "    rocks = deepcopy(rocks)\n",
    "    for _ in range(start_rock_type):\n",
    "        next(rocks)\n",
    "    move_index = start_rock_move\n",
    "    stats = []\n",
    "    for _, rock_type, rock in zip(\n",
    "            range(1, nrocks + 1), deepcopy(rock_types), deepcopy(rocks)):\n",
    "        # pop a new rock into the chamber\n",
    "        new_rows, (x, y) = get_chamber_extension(chamber, rock)\n",
    "        # print()\n",
    "        keep_falling = True\n",
    "        chamber += new_rows\n",
    "\n",
    "        while keep_falling:\n",
    "            # update stopped check\n",
    "            keep_falling = False\n",
    "            # lateral movement\n",
    "            move = next(moves)\n",
    "            move_index += 1\n",
    "            if move_index >= total_moves:\n",
    "                move_index = 0\n",
    "\n",
    "            if move == '>' and all([]):\n",
    "                for part_x, part_y in rock:\n",
    "                    temp_x = part_x + x + 1\n",
    "                    if temp_x >= CHAMBER_WIDTH:\n",
    "                        # print(move, 'right wall')\n",
    "                        break\n",
    "                    if chamber[y + part_y][temp_x] == static_rock:\n",
    "                        # print(move, 'right rock')\n",
    "                        break\n",
    "                else:\n",
    "                    x += 1\n",
    "            elif move == '<':\n",
    "                for part_x, part_y in rock:\n",
    "                    temp_x = part_x + x - 1\n",
    "                    if temp_x < 0:\n",
    "                        # print(move, 'left wall')\n",
    "                        break\n",
    "                    if chamber[y + part_y][temp_x] == static_rock:\n",
    "                        # print(move, 'left rock')\n",
    "                        break\n",
    "                else:\n",
    "                    x -= 1\n",
    "            # vertical movement\n",
    "            # print(move, x, y)\n",
    "            for part_x, part_y in rock:\n",
    "                temp_y = y + part_y - 1\n",
    "                if temp_y < 0:\n",
    "                    # print('v', 'hit bottom')\n",
    "                    break\n",
    "                if chamber[temp_y][x + part_x] == static_rock:\n",
    "                    # print('v', 'hit rock')\n",
    "                    break\n",
    "            else:\n",
    "                y -= 1\n",
    "                keep_falling = True\n",
    "        # add the moving rock to the chamber\n",
    "        stats.append(RockStats(rock_type, x, move_index))\n",
    "        for part_x, part_y in rock:\n",
    "            chamber[y + part_y][x + part_x] = static_rock\n",
    "    return chamber, rocks, moves, stats\n",
    "\n",
    "chamber, rocks, moves, stats = run_rock_sim_with_stats(\n",
    "        2000, [], rock_moves, 0, rocks, 0)\n",
    "plot_snapshots([chamber[:20], chamber[-20:]])"
   ]
  },
  {
   "cell_type": "code",
   "execution_count": 74,
   "metadata": {},
   "outputs": [
    {
     "name": "stdout",
     "output_type": "stream",
     "text": [
      "rocks simulated: 1810000\r"
     ]
    }
   ],
   "source": [
    "# with the modified simulation func we can now check in periodically to see\n",
    "# if we've got any matches\n",
    "def find_matching_stats(stats: list[RockStats]) -> tuple[int]|None:\n",
    "    \"\"\"\n",
    "    returns a tuple of ints if any stats match, else returns None\n",
    "    \"\"\"\n",
    "    for index_a, stat_a in enumerate(stats):\n",
    "        for index_b, stat_b in enumerate(stats):\n",
    "            if stat_a == stat_b:\n",
    "                return index_a, index_b\n",
    "    return None\n",
    "\n",
    "stat_chamber = []\n",
    "stat_rocks = deepcopy(rocks)\n",
    "rock_type = 0\n",
    "stat_moves = deepcopy(moves)\n",
    "move_count = 0\n",
    "stats = []\n",
    "\n",
    "result = None\n",
    "rocks_simulated = 0\n",
    "while result is None:\n",
    "    try:\n",
    "        stat_chamber, stat_rocks, stat_moves, new_stats = \\\n",
    "            run_rock_sim_with_stats(\n",
    "                    10000, [], stat_moves, move_count, rocks, rock_type)\n",
    "    except KeyboardInterrupt:\n",
    "        break\n",
    "    stats += new_stats\n",
    "    results = find_matching_stats(stats)\n",
    "    rocks_simulated += 10000\n",
    "    print(f'rocks simulated: {rocks_simulated}', end='\\r')\n",
    "    move_count = stats[-1].move_index\n",
    "    rock_type = stats[-1].rock_type"
   ]
  },
  {
   "cell_type": "code",
   "execution_count": 72,
   "metadata": {},
   "outputs": [
    {
     "name": "stdout",
     "output_type": "stream",
     "text": [
      "RockStats(rock_type=2, resting_x=2, move_index=5859)\n",
      "RockStats(rock_type=3, resting_x=4, move_index=5863)\n",
      "RockStats(rock_type=4, resting_x=4, move_index=5867)\n",
      "RockStats(rock_type=0, resting_x=0, move_index=5879)\n",
      "RockStats(rock_type=1, resting_x=4, move_index=5883)\n",
      "RockStats(rock_type=2, resting_x=2, move_index=5888)\n",
      "RockStats(rock_type=3, resting_x=4, move_index=5892)\n"
     ]
    },
    {
     "data": {
      "text/plain": [
       "[<matplotlib.lines.Line2D at 0x1ecee3dcb10>]"
      ]
     },
     "execution_count": 72,
     "metadata": {},
     "output_type": "execute_result"
    },
    {
     "data": {
      "image/png": "[encoded data removed]",
      "text/plain": [
       "<Figure size 640x480 with 1 Axes>"
      ]
     },
     "metadata": {},
     "output_type": "display_data"
    }
   ],
   "source": [
    "for stat in stats[997:1004]:\n",
    "    print(stat)\n",
    "fig, ax = plt.subplots()\n",
    "ax.plot([rock.move_index for rock in stats])"
   ]
  }
 ],
 "metadata": {
  "kernelspec": {
   "display_name": "advent-of-code",
   "language": "python",
   "name": "python3"
  },
  "language_info": {
   "codemirror_mode": {
    "name": "ipython",
    "version": 3
   },
   "file_extension": ".py",
   "mimetype": "text/x-python",
   "name": "python",
   "nbconvert_exporter": "python",
   "pygments_lexer": "ipython3",
   "version": "3.11.0 (main, Oct 24 2022, 18:26:48) [MSC v.1933 64 bit (AMD64)]"
  },
  "orig_nbformat": 4,
  "vscode": {
   "interpreter": {
    "hash": "2d3d69b7f7c7447ebb59bd0325e8659c9bdbb7c04d20332a5a8a68af11de2233"
   }
  }
 },
 "nbformat": 4,
 "nbformat_minor": 2
}
