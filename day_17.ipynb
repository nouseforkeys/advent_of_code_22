{
 "cells": [
  {
   "attachments": {},
   "cell_type": "markdown",
   "metadata": {},
   "source": [
    "# Day 17\n",
    "\n",
    "## Part 1\n",
    "\n",
    "- rocks fall! ...everyone hopefuly doesn't die\n",
    "- rocks fall in the same order: `-`, `+`, `J`, `|`, `o`\n",
    "- the rocks don't spin but can translate left and right\n",
    "- this is all in a vertical chamber that is 7 units wide\n",
    "- rocks appear such that it's left edge is 2 units from the left wall and it's bottom is 3 units above the highest rock in the room/the floor.\n",
    "- rocks alternate between being pushed by hot gas and falling\n",
    "- if a rock would move into a wall or the floor or another rock it doesn't\n",
    "- a new rock appears immediately after the last rock stops being able to fall further\n",
    "\n",
    "`How many units tall will the tower of rocks be after 2022 rocks have stopped falling?`"
   ]
  },
  {
   "cell_type": "code",
   "execution_count": 123,
   "metadata": {},
   "outputs": [
    {
     "name": "stdout",
     "output_type": "stream",
     "text": [
      ">>>><>>><<\n"
     ]
    }
   ],
   "source": [
    "from copy import deepcopy\n",
    "from itertools import cycle\n",
    "from matplotlib import pyplot as plt\n",
    "from utils import parse_from_file, ParseConfig\n",
    "\n",
    "parser = ParseConfig('', str)\n",
    "\n",
    "rock_moves = cycle(parse_from_file('day_17.txt', parser))\n",
    "\n",
    "print(''.join([move for move, _ in zip(deepcopy(rock_moves), range(10))]))"
   ]
  },
  {
   "cell_type": "code",
   "execution_count": 124,
   "metadata": {},
   "outputs": [],
   "source": [
    "air = 0\n",
    "static_rock = 1\n",
    "moving_rock = 2\n",
    "\n",
    "CHAMBER_WIDTH = 7\n",
    "\n",
    "# the coordinates of each rock refereced to the lower left corner\n",
    "rocks = cycle((\n",
    "    ((0, 0), (1, 0), (2, 0), (3, 0)),  # -\n",
    "    ((1, 0), (0, 1), (1, 1), (2, 1), (1, 2)),  # +\n",
    "    ((0, 0), (1, 0), (2, 0), (2, 1), (2, 2)),  # J\n",
    "    ((0, 0), (0, 1), (0, 2), (0, 3)),  # |\n",
    "    ((0, 0), (1, 0), (0, 1), (1, 1))  # o\n",
    "))"
   ]
  },
  {
   "cell_type": "code",
   "execution_count": 125,
   "metadata": {},
   "outputs": [],
   "source": [
    "def chamber_with_rock(\n",
    "    chamber: list[list[int]], rock: tuple[tuple[int]], position: tuple[int]\n",
    ") -> list[list[int]]:\n",
    "    \"\"\"\n",
    "    returns a copy of the chamber with the rock in the position passed for the\n",
    "    purpose of plotting.\n",
    "    \"\"\"\n",
    "    temp_chamber = deepcopy(chamber)\n",
    "    px, py = position\n",
    "    for x, y in rock:\n",
    "        temp_chamber[y + py][x + px] = moving_rock\n",
    "    return temp_chamber"
   ]
  },
  {
   "cell_type": "code",
   "execution_count": 126,
   "metadata": {},
   "outputs": [
    {
     "data": {
      "text/plain": [
       "Text(0.5, 0.98, \"Let's get ready to rrrock!\")"
      ]
     },
     "execution_count": 126,
     "metadata": {},
     "output_type": "execute_result"
    },
    {
     "data": {
      "image/png": "[encoded data removed]",
      "text/plain": [
       "<Figure size 640x480 with 6 Axes>"
      ]
     },
     "metadata": {},
     "output_type": "display_data"
    }
   ],
   "source": [
    "def get_chamber_extension(\n",
    "    chamber: list[list[int]], rock: tuple[tuple[int]]\n",
    ") -> tuple[list[list[int]], tuple[int]]:\n",
    "    \"\"\"\n",
    "    returns the new rows required (not appended in this call) for a new rock\n",
    "    and the coordinates of it's lower left corner\n",
    "    \"\"\"\n",
    "    row_buffer_height = 3\n",
    "    existing_empty_rows = sum(\n",
    "        [all([space == air for space in row]) for row in reversed(chamber)])\n",
    "    rock_height = max([y for _, y in rock]) + 1\n",
    "\n",
    "    extension = [\n",
    "        [air for _ in range(CHAMBER_WIDTH)]\n",
    "        for __ in range(rock_height + row_buffer_height - existing_empty_rows)\n",
    "    ]\n",
    "    start_pos = (2, len(chamber) - existing_empty_rows + row_buffer_height)\n",
    "\n",
    "    return extension, start_pos\n",
    "\n",
    "test_chamber = [\n",
    "    [air, air, static_rock, air, air, air, air],\n",
    "    [air, air, air, air, air, static_rock, air],\n",
    "    [air, air, air, air, air, air, air],\n",
    "]\n",
    "\n",
    "fig, _ = plt.subplots(nrows=1, ncols=6, sharey=True, sharex=True)\n",
    "fig.axes[0].pcolormesh(test_chamber)\n",
    "fig.axes[0].grid('ON')\n",
    "for _, rock, ax in zip(range(5), deepcopy(rocks), fig.axes[1:]):\n",
    "    temp_chamber = deepcopy(test_chamber)\n",
    "    new_rows, start = get_chamber_extension(temp_chamber, rock)\n",
    "    temp_chamber += new_rows\n",
    "    ax.pcolormesh(chamber_with_rock(temp_chamber, rock, start))\n",
    "    ax.grid('ON')\n",
    "    ax.set_xticks(range(1, 8))\n",
    "fig.suptitle('Let\\'s get ready to rrrock!')"
   ]
  },
  {
   "cell_type": "code",
   "execution_count": 127,
   "metadata": {},
   "outputs": [],
   "source": [
    "# wrote this func to help debug\n",
    "def plot_snapshots(snapshots: list[list[list[int]]]):\n",
    "    \"\"\"\n",
    "    creates a plot of the snapshots passed\n",
    "    \"\"\"\n",
    "    fig, axes = plt.subplots(\n",
    "        nrows=1, ncols=len(snapshots), sharey=True, sharex=True)\n",
    "    for ax, snapshot in zip(fig.axes, snapshots):\n",
    "        ax.pcolormesh(snapshot)\n",
    "        ax.grid('ON')\n",
    "        ax.set_xticks(range(1, 8))\n",
    "        ax.set_yticks(range(1, len(snapshot)))\n",
    "    fig.suptitle('Snapshots')"
   ]
  },
  {
   "cell_type": "code",
   "execution_count": 128,
   "metadata": {},
   "outputs": [],
   "source": [
    "# ok let's run this and see what we get\n",
    "chamber = []\n",
    "# snapshots = []\n",
    "moves = deepcopy(rock_moves)\n",
    "for iteration, rock in zip(range(2022), deepcopy(rocks)):\n",
    "    # pop a new rock into the chamber\n",
    "    new_rows, (x, y) = get_chamber_extension(chamber, rock)\n",
    "    # print()\n",
    "    keep_falling = True\n",
    "    chamber += new_rows\n",
    "    # snapshots.append(chamber_with_rock(chamber, rock, (x, y)))\n",
    "    while keep_falling:\n",
    "        # update stopped check\n",
    "        keep_falling = False\n",
    "        # lateral movement\n",
    "        move = next(moves)\n",
    "        if move == '>' and all([]):\n",
    "            for part_x, part_y in rock:\n",
    "                temp_x = part_x + x + 1\n",
    "                if temp_x >= CHAMBER_WIDTH:\n",
    "                    # print(move, 'right wall')\n",
    "                    break\n",
    "                if chamber[y + part_y][temp_x] == static_rock:\n",
    "                    # print(move, 'right rock')\n",
    "                    break\n",
    "            else:\n",
    "                x += 1\n",
    "        elif move == '<':\n",
    "            for part_x, part_y in rock:\n",
    "                temp_x = part_x + x - 1\n",
    "                if temp_x < 0:\n",
    "                    # print(move, 'left wall')\n",
    "                    break\n",
    "                if chamber[y + part_y][temp_x] == static_rock:\n",
    "                    # print(move, 'left rock')\n",
    "                    break\n",
    "            else:\n",
    "                x -= 1\n",
    "        # vertical movement\n",
    "        # print(move, x, y)\n",
    "        for part_x, part_y in rock:\n",
    "            temp_y = y + part_y - 1\n",
    "            if temp_y < 0:\n",
    "                # print('v', 'hit bottom')\n",
    "                break\n",
    "            if chamber[temp_y][x + part_x] == static_rock:\n",
    "                # print('v', 'hit rock')\n",
    "                break\n",
    "        else:\n",
    "            y -= 1\n",
    "            keep_falling = True\n",
    "    # add the moving rock to the chamber\n",
    "    for part_x, part_y in rock:\n",
    "        chamber[y + part_y][x + part_x] = static_rock\n",
    "# plot_snapshots(snapshots)"
   ]
  },
  {
   "cell_type": "code",
   "execution_count": 129,
   "metadata": {},
   "outputs": [
    {
     "name": "stdout",
     "output_type": "stream",
     "text": [
      "the rock pile reached a height of: 3092!\n"
     ]
    }
   ],
   "source": [
    "_, (_, next_y) = get_chamber_extension(chamber, ((0, 0), ))\n",
    "\n",
    "top_of_the_rocks = next_y - 3\n",
    "\n",
    "print(f'the rock pile reached a height of: {top_of_the_rocks}!')"
   ]
  }
 ],
 "metadata": {
  "kernelspec": {
   "display_name": "advent-of-code",
   "language": "python",
   "name": "python3"
  },
  "language_info": {
   "codemirror_mode": {
    "name": "ipython",
    "version": 3
   },
   "file_extension": ".py",
   "mimetype": "text/x-python",
   "name": "python",
   "nbconvert_exporter": "python",
   "pygments_lexer": "ipython3",
   "version": "3.11.0"
  },
  "orig_nbformat": 4,
  "vscode": {
   "interpreter": {
    "hash": "2d3d69b7f7c7447ebb59bd0325e8659c9bdbb7c04d20332a5a8a68af11de2233"
   }
  }
 },
 "nbformat": 4,
 "nbformat_minor": 2
}
