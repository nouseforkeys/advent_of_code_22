{
 "cells": [
  {
   "attachments": {},
   "cell_type": "markdown",
   "metadata": {},
   "source": [
    "# Day 20\n",
    "\n",
    "## Part 1\n",
    "\n",
    "- it's hackin time!\n",
    "- decription involves a process called mixing\n",
    "    - a number is moved it's value many items forward or backward in a list\n",
    "    - the list is ciruclar so numbers wrap at both ends\n",
    "- numbers are moved in the order they originally appear in the file\n",
    "- the coordinates for the star fruit grove are found by what the 1000th, 2000th and 3000th values are after the value 0 in the mixed list.\n",
    "- Mix the list only once\n",
    "\n",
    "`What is the sum of the three numbers that form the grove coordinates?`"
   ]
  },
  {
   "cell_type": "code",
   "execution_count": 169,
   "metadata": {},
   "outputs": [
    {
     "name": "stdout",
     "output_type": "stream",
     "text": [
      "[9038, 7675, -2761, -5405, 7871, 9909, -2608, -7534, 6480, 2961]\n"
     ]
    }
   ],
   "source": [
    "from copy import deepcopy\n",
    "from dataclasses import dataclass\n",
    "from matplotlib import pyplot as plt\n",
    "from utils import parse_from_file, ParseConfig\n",
    "\n",
    "parser = ParseConfig('\\n', int)\n",
    "\n",
    "original_list = parse_from_file('day_20.txt', parser)\n",
    "\n",
    "print(original_list[:10])"
   ]
  },
  {
   "cell_type": "code",
   "execution_count": 170,
   "metadata": {},
   "outputs": [
    {
     "name": "stdout",
     "output_type": "stream",
     "text": [
      "[Item(value=9038, index=0), Item(value=7675, index=1), Item(value=-2761, index=2), Item(value=-5405, index=3), Item(value=7871, index=4)]\n"
     ]
    }
   ],
   "source": [
    "@dataclass\n",
    "class Item:\n",
    "    value: int\n",
    "    index: int\n",
    "\n",
    "items = [Item(value, index) for index, value in enumerate(original_list)]\n",
    "\n",
    "print(items[:5])"
   ]
  },
  {
   "cell_type": "code",
   "execution_count": 171,
   "metadata": {},
   "outputs": [],
   "source": [
    "def convert_to_list(item_list: list[Item]) -> list[int]:\n",
    "    \"\"\"\n",
    "    creates a list of the values in order based on the item indecies\n",
    "    \"\"\"\n",
    "    def key(item: Item) -> int:\n",
    "        return item.index\n",
    "\n",
    "    sorted_list = sorted(item_list, key=key)\n",
    "\n",
    "    return [item.value for item in sorted_list]"
   ]
  },
  {
   "cell_type": "code",
   "execution_count": 172,
   "metadata": {},
   "outputs": [
    {
     "name": "stdout",
     "output_type": "stream",
     "text": [
      "[1, 2, -3, 4, 0, 3, -2] -> [1, 2, -3, 4, 0, 3, -2]\n"
     ]
    }
   ],
   "source": [
    "# mix the list!\n",
    "def mix_list(list_items: list[Item]) -> list[Item]:\n",
    "    \"\"\"\n",
    "    returns a mixed version of a list of Items after 1 iteration\n",
    "    \"\"\"\n",
    "    wrap_value = len(list_items) - 1\n",
    "    for index, item in enumerate(list_items):\n",
    "        # find new index and apply clamping to ensure it is within range\n",
    "        new_index = (item.index + item.value)\n",
    "        while new_index <= 0:\n",
    "            new_index += wrap_value\n",
    "        while new_index > wrap_value:\n",
    "            new_index -= wrap_value\n",
    "        # find range of values over which to modify indecies\n",
    "        a, b = min(new_index, item.index), max(new_index, item.index)\n",
    "        if new_index > item.index:\n",
    "            offset = -1\n",
    "            a += 1\n",
    "            b += 1\n",
    "        elif new_index < item.index:\n",
    "            offset = 1\n",
    "        else:  # value is zero\n",
    "            continue\n",
    "        # update other item's indecies\n",
    "        for order, other_item in enumerate(list_items):\n",
    "            if order == index:\n",
    "                continue\n",
    "            if a <= other_item.index < b:\n",
    "                other_item.index += offset\n",
    "        # finally update this item's index\n",
    "        item.index = new_index\n",
    "    return list_items\n",
    "\n",
    "test_input = (1, 2, -3, 3, -2, 0, 4)\n",
    "test_list = [\n",
    "    Item(value, index) for index, value in enumerate(test_input)\n",
    "]\n",
    "mixed = mix_list(test_list)\n",
    "print(convert_to_list(test_list), '->', convert_to_list(mixed))\n"
   ]
  },
  {
   "cell_type": "code",
   "execution_count": 173,
   "metadata": {},
   "outputs": [],
   "source": [
    "# now do it for real\n",
    "mixed_items = mix_list(items)"
   ]
  },
  {
   "cell_type": "code",
   "execution_count": 174,
   "metadata": {},
   "outputs": [
    {
     "name": "stdout",
     "output_type": "stream",
     "text": [
      "[1894, 2894, 3894]\n",
      "[Item(value=8879, index=3894), Item(value=6742, index=1894), Item(value=3938, index=2894)]\n"
     ]
    }
   ],
   "source": [
    "# find 1000th, 2000th and 3000th items after item with value 0\n",
    "for item in items:\n",
    "    if item.value == 0:\n",
    "        zero_index = item.index\n",
    "        break\n",
    "wanted_indecies = [1000 * value + zero_index for value in range(1, 3 + 1)]\n",
    "print(wanted_indecies)\n",
    "wanted_items = []\n",
    "for item in items:\n",
    "    if item.index in wanted_indecies:\n",
    "        wanted_items.append(item)\n",
    "    if len(wanted_items) == len(wanted_indecies):\n",
    "        break\n",
    "print(wanted_items)"
   ]
  },
  {
   "cell_type": "code",
   "execution_count": 175,
   "metadata": {},
   "outputs": [
    {
     "name": "stdout",
     "output_type": "stream",
     "text": [
      "the grove coordinates's sum is: 19559\n"
     ]
    }
   ],
   "source": [
    "grove_coordinates = sum([item.value for item in wanted_items])\n",
    "\n",
    "print(f'the grove coordinates\\'s sum is: {grove_coordinates}')"
   ]
  },
  {
   "attachments": {},
   "cell_type": "markdown",
   "metadata": {},
   "source": [
    "## Part 2\n",
    "\n",
    "- all values must be multiplied by `811589153` before beginning\n",
    "- mixing must occur 10 times\n",
    "- mixing still occurs in the same value order as the initial state\n",
    "\n",
    "`What is the sum of the three numbers that form the grove coordinates?`"
   ]
  },
  {
   "cell_type": "code",
   "execution_count": 176,
   "metadata": {},
   "outputs": [
    {
     "name": "stdout",
     "output_type": "stream",
     "text": [
      "[Item(value=1831, index=0), Item(value=2832, index=1), Item(value=4386, index=2), Item(value=4659, index=3), Item(value=2479, index=4)]\n"
     ]
    }
   ],
   "source": [
    "# let's get a fresh list of items\n",
    "decryption_key = 811589153\n",
    "\n",
    "# the value can be reduced to within the range since we can always extract\n",
    "# the original index by looking at the index in the item list\n",
    "decrypited_items = []\n",
    "mod_value = len(original_list) - 1\n",
    "for index, value in enumerate(original_list):\n",
    "    decrypted_value = (value * decryption_key) % mod_value\n",
    "    decrypited_items.append(Item(decrypted_value, index))\n",
    "\n",
    "print(decrypited_items[:5])"
   ]
  },
  {
   "cell_type": "code",
   "execution_count": 177,
   "metadata": {},
   "outputs": [
    {
     "name": "stdout",
     "output_type": "stream",
     "text": [
      "iteration: 10\r"
     ]
    }
   ],
   "source": [
    "# time to mix!\n",
    "mixing_steps = []\n",
    "mixing_steps.append(convert_to_list(decrypited_items))\n",
    "for iteration in range(1, 10 + 1):\n",
    "    print(f'iteration: {iteration}', end='\\r')\n",
    "    decrypited_items = mix_list(decrypited_items)\n",
    "    mixing_steps.append(convert_to_list(decrypited_items))"
   ]
  },
  {
   "cell_type": "code",
   "execution_count": 178,
   "metadata": {},
   "outputs": [
    {
     "data": {
      "text/plain": [
       "Text(0.5, 1.0, 'Some mixed results...')"
      ]
     },
     "execution_count": 178,
     "metadata": {},
     "output_type": "execute_result"
    },
    {
     "data": {
      "image/png": "[encoded data removed]",
      "text/plain": [
       "<Figure size 640x480 with 1 Axes>"
      ]
     },
     "metadata": {},
     "output_type": "display_data"
    }
   ],
   "source": [
    "fig, ax = plt.subplots()\n",
    "ax.pcolormesh(mixing_steps)\n",
    "ax.set_title('Some mixed results...')"
   ]
  },
  {
   "cell_type": "code",
   "execution_count": 179,
   "metadata": {},
   "outputs": [
    {
     "name": "stdout",
     "output_type": "stream",
     "text": [
      "[1716, 2716, 3716]\n",
      "[-1304223768871, -3867222314045, 6083672290888]\n"
     ]
    }
   ],
   "source": [
    "# find 1000th, 2000th and 3000th items after item with value 0\n",
    "for item in decrypited_items:\n",
    "    if item.value == 0:\n",
    "        zero_index = item.index\n",
    "        break\n",
    "wanted_indecies = [\n",
    "    (1000 * value + zero_index) % len(original_list)\n",
    "    for value in range(1, 3 + 1)\n",
    "]\n",
    "print(wanted_indecies)\n",
    "wanted_values = []\n",
    "for original_index, item in enumerate(decrypited_items):\n",
    "    if item.index in wanted_indecies:\n",
    "        wanted_values.append(original_list[original_index] * decryption_key)\n",
    "    if len(wanted_values) == len(wanted_indecies):\n",
    "        break\n",
    "print(wanted_values)"
   ]
  },
  {
   "cell_type": "code",
   "execution_count": 180,
   "metadata": {},
   "outputs": [
    {
     "name": "stdout",
     "output_type": "stream",
     "text": [
      "the true drove coordinates's sum is: 912226207972\n"
     ]
    }
   ],
   "source": [
    "true_coordinates = sum([value for value in wanted_values])\n",
    "\n",
    "print(f'the true drove coordinates\\'s sum is: {true_coordinates}')"
   ]
  }
 ],
 "metadata": {
  "kernelspec": {
   "display_name": "advent-of-code-22",
   "language": "python",
   "name": "python3"
  },
  "language_info": {
   "codemirror_mode": {
    "name": "ipython",
    "version": 3
   },
   "file_extension": ".py",
   "mimetype": "text/x-python",
   "name": "python",
   "nbconvert_exporter": "python",
   "pygments_lexer": "ipython3",
   "version": "3.11.0"
  },
  "orig_nbformat": 4,
  "vscode": {
   "interpreter": {
    "hash": "68417e919b0e4b56d7cc53f5fb728a454fa0b7c2f4afec00c4a0958dca6f6ed0"
   }
  }
 },
 "nbformat": 4,
 "nbformat_minor": 2
}
