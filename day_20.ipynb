{
 "cells": [
  {
   "attachments": {},
   "cell_type": "markdown",
   "metadata": {},
   "source": [
    "# Day 20\n",
    "\n",
    "## Part 1\n",
    "\n",
    "- it's hackin time!\n",
    "- decription involves a process called mixing\n",
    "    - a number is moved it's value many items forward or backward in a list\n",
    "    - the list is ciruclar so numbers wrap at both ends\n",
    "- numbers are moved in the order they originally appear in the file\n",
    "- the coordinates for the star fruit grove are found by what the 1000th, 2000th and 3000th values are after the value 0 in the mixed list.\n",
    "- Mix the list only once\n",
    "\n",
    "`What is the sum of the three numbers that form the grove coordinates?`"
   ]
  },
  {
   "cell_type": "code",
   "execution_count": 6,
   "metadata": {},
   "outputs": [
    {
     "name": "stdout",
     "output_type": "stream",
     "text": [
      "[9038, 7675, -2761, -5405, 7871, 9909, -2608, -7534, 6480, 2961]\n"
     ]
    }
   ],
   "source": [
    "from dataclasses import dataclass\n",
    "from utils import parse_from_file, ParseConfig\n",
    "\n",
    "parser = ParseConfig('\\n', int)\n",
    "\n",
    "original_list = parse_from_file('day_20.txt', parser)\n",
    "\n",
    "print(original_list[:10])"
   ]
  },
  {
   "cell_type": "code",
   "execution_count": 7,
   "metadata": {},
   "outputs": [
    {
     "name": "stdout",
     "output_type": "stream",
     "text": [
      "[Item(value=9038, index=0), Item(value=7675, index=1), Item(value=-2761, index=2), Item(value=-5405, index=3), Item(value=7871, index=4)]\n"
     ]
    }
   ],
   "source": [
    "@dataclass\n",
    "class Item:\n",
    "    value: int\n",
    "    index: int\n",
    "\n",
    "items = [Item(value, index) for index, value in enumerate(original_list)]\n",
    "\n",
    "print(items[:5])"
   ]
  },
  {
   "cell_type": "code",
   "execution_count": 5,
   "metadata": {},
   "outputs": [],
   "source": [
    "# mix the list!\n",
    "wrap_value = len(items)\n",
    "for index, item in enumerate(items):\n",
    "    new_index = (item.index + item.value) % wrap_value\n",
    "    a, b = min(new_index, item.index), max(new_index, item.index)\n",
    "    # WIP\n"
   ]
  },
  {
   "cell_type": "code",
   "execution_count": null,
   "metadata": {},
   "outputs": [],
   "source": [
    "# find 0\n",
    "for item in items:\n",
    "    if item.value == 0:\n",
    "        zero_index = item.index"
   ]
  }
 ],
 "metadata": {
  "kernelspec": {
   "display_name": "advent-of-code-22",
   "language": "python",
   "name": "python3"
  },
  "language_info": {
   "codemirror_mode": {
    "name": "ipython",
    "version": 3
   },
   "file_extension": ".py",
   "mimetype": "text/x-python",
   "name": "python",
   "nbconvert_exporter": "python",
   "pygments_lexer": "ipython3",
   "version": "3.11.0"
  },
  "orig_nbformat": 4,
  "vscode": {
   "interpreter": {
    "hash": "68417e919b0e4b56d7cc53f5fb728a454fa0b7c2f4afec00c4a0958dca6f6ed0"
   }
  }
 },
 "nbformat": 4,
 "nbformat_minor": 2
}
