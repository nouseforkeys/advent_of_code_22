{
 "cells": [
  {
   "cell_type": "markdown",
   "metadata": {},
   "source": [
    "# Day 6\n",
    "\n",
    "## Part 1\n",
    "\n",
    "- find how many characters it takes to receive 4 unique characters\n",
    "\n",
    "`How many characters need to be processed before the first start-of-packet marker is detected?`"
   ]
  },
  {
   "cell_type": "code",
   "execution_count": 11,
   "metadata": {},
   "outputs": [
    {
     "name": "stdout",
     "output_type": "stream",
     "text": [
      "signal received: lrdrgrcggj...drqdplgcn\n",
      "\n"
     ]
    }
   ],
   "source": [
    "from utils import parse_from_file, ParseConfig\n",
    "\n",
    "\n",
    "signal = parse_from_file('day_6.txt', ParseConfig('\\n\\n', str))[0]\n",
    "\n",
    "print(f'signal received: {signal[:10]}...{signal[-10:]}')"
   ]
  },
  {
   "cell_type": "code",
   "execution_count": 23,
   "metadata": {},
   "outputs": [
    {
     "name": "stdout",
     "output_type": "stream",
     "text": [
      "10\n"
     ]
    }
   ],
   "source": [
    "def find_packet_length(signal: str, marker_length: int) -> int:\n",
    "    \"\"\"\n",
    "    returns the length of signal required to find a unique series of\n",
    "    marker_length characters\n",
    "    \"\"\"\n",
    "    for index, _ in enumerate(signal[marker_length - 1:]):\n",
    "        if len(set(signal[index: marker_length + index])) == \\\n",
    "                marker_length:\n",
    "            return index + marker_length\n",
    "\n",
    "print(find_packet_length('nznrnfrfntjfmvfwmzdfjlvtqnbhcprsg', 4))"
   ]
  },
  {
   "cell_type": "code",
   "execution_count": 24,
   "metadata": {},
   "outputs": [
    {
     "name": "stdout",
     "output_type": "stream",
     "text": [
      "the signal's packet length is: 1920!\n"
     ]
    }
   ],
   "source": [
    "packet_length = find_packet_length(signal, 4)\n",
    "\n",
    "print(f'the signal\\'s packet length is: {packet_length}!')"
   ]
  }
 ],
 "metadata": {
  "kernelspec": {
   "display_name": "Python 3.11.0 ('advent-of-code-22': venv)",
   "language": "python",
   "name": "python3"
  },
  "language_info": {
   "codemirror_mode": {
    "name": "ipython",
    "version": 3
   },
   "file_extension": ".py",
   "mimetype": "text/x-python",
   "name": "python",
   "nbconvert_exporter": "python",
   "pygments_lexer": "ipython3",
   "version": "3.11.0"
  },
  "orig_nbformat": 4,
  "vscode": {
   "interpreter": {
    "hash": "68417e919b0e4b56d7cc53f5fb728a454fa0b7c2f4afec00c4a0958dca6f6ed0"
   }
  }
 },
 "nbformat": 4,
 "nbformat_minor": 2
}
