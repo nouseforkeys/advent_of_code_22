{
 "cells": [
  {
   "cell_type": "markdown",
   "metadata": {},
   "source": [
    "# Day 5\n",
    "\n",
    "## Part 1\n",
    "\n",
    "`After the rearrangement procedure completes, what crate ends up on top of each stack?`"
   ]
  },
  {
   "cell_type": "code",
   "execution_count": 34,
   "metadata": {},
   "outputs": [
    {
     "name": "stdout",
     "output_type": "stream",
     "text": [
      "[M] [H]         [N]                \n",
      "[S] [W]         [F]     [W] [V]    \n",
      "[J] [J]         [B]     [S] [B] [F]\n",
      "[L] [F] [G]     [C]     [L] [N] [N]\n",
      "[V] [Z] [D]     [P] [W] [G] [F] [Z]\n",
      "[F] [D] [C] [S] [W] [M] [N] [H] [H]\n",
      "[N] [N] [R] [B] [Z] [R] [T] [T] [M]\n",
      "[R] [P] [W] [N] [M] [P] [R] [Q] [L]\n",
      " 1   2   3   4   5   6   7   8   9 \n",
      "['move 1 from 7 to 6', 'move 1 from 9 to 4', 'move 4 from 9 to 6', 'move 1 from 2 to 3', 'move 7 from 8 to 6', 'move 1 from 6 to 3', 'move 6 from 2 to 9', 'move 1 from 2 to 9', 'move 3 from 5 to 6', 'move 4 from 5 to 4']\n"
     ]
    }
   ],
   "source": [
    "from utils import parse_from_file, ParseConfig\n",
    "\n",
    "parser = ParseConfig('\\n\\n', [ParseConfig('\\n', str), ParseConfig('\\n', str)])\n",
    "\n",
    "crates, moves = parse_from_file('day_5.txt', parser)\n",
    "\n",
    "print('\\n'.join(crates))\n",
    "print(moves[:10])"
   ]
  },
  {
   "cell_type": "code",
   "execution_count": 35,
   "metadata": {},
   "outputs": [
    {
     "name": "stdout",
     "output_type": "stream",
     "text": [
      "35\n",
      "35\n",
      "35\n",
      "35\n",
      "35\n",
      "35\n",
      "35\n",
      "35\n",
      "35\n"
     ]
    }
   ],
   "source": [
    "crate_lists = []\n",
    "\n",
    "for line in crates:\n",
    "    print(len(line))\n"
   ]
  },
  {
   "cell_type": "code",
   "execution_count": 36,
   "metadata": {},
   "outputs": [
    {
     "name": "stdout",
     "output_type": "stream",
     "text": [
      "[['R', 'N', 'F', 'V', 'L', 'J', 'S', 'M'], ['P', 'N', 'D', 'Z', 'F', 'J', 'W', 'H'], ['W', 'R', 'C', 'D', 'G'], ['N', 'B', 'S'], ['M', 'Z', 'W', 'P', 'C', 'B', 'F', 'N'], ['P', 'R', 'M', 'W'], ['R', 'T', 'N', 'G', 'L', 'S', 'W'], ['Q', 'T', 'H', 'F', 'N', 'B', 'V'], ['L', 'M', 'H', 'Z', 'N', 'F']]\n"
     ]
    }
   ],
   "source": [
    "# they've helpfully padded all lines with spaces so we can just iterate over\n",
    "# all of them easily!\n",
    "\n",
    "crate_lists = []\n",
    "for index, char in enumerate(crates[-1]):\n",
    "    if char.isdigit():\n",
    "        crate_lists.append([\n",
    "            line[index] for line in crates[-2::-1] if line[index] != ' '\n",
    "        ])\n",
    "\n",
    "print(crate_lists)"
   ]
  },
  {
   "cell_type": "code",
   "execution_count": 37,
   "metadata": {},
   "outputs": [],
   "source": [
    "# now to compute the moves\n",
    "for move in moves[:-1]:\n",
    "    count, from_list, to_list = [int(value) for value in move.split(' ')[1::2]]\n",
    "    for _ in range(count):\n",
    "        crate_lists[to_list - 1].append(crate_lists[from_list - 1].pop())\n"
   ]
  },
  {
   "cell_type": "code",
   "execution_count": 38,
   "metadata": {},
   "outputs": [
    {
     "name": "stdout",
     "output_type": "stream",
     "text": [
      "[['F', 'W', 'H', 'G', 'Z', 'H', 'V', 'C', 'S', 'Z', 'N', 'S', 'Q'], ['D', 'W', 'P'], ['N', 'M', 'F', 'J'], ['P'], ['M', 'M', 'V', 'W', 'N', 'T', 'W', 'L'], ['N', 'M'], ['F', 'L', 'W', 'J', 'L', 'T', 'F', 'R', 'N'], ['G', 'P', 'N'], ['B', 'R', 'C', 'Z', 'F', 'B', 'D', 'B', 'S', 'N', 'R', 'H', 'R']]\n"
     ]
    }
   ],
   "source": [
    "top_crates = ''.join([pile[-1] for pile in crate_lists])\n",
    "\n",
    "print(f'the top crate in each pile spells: {top_crates}!')"
   ]
  }
 ],
 "metadata": {
  "kernelspec": {
   "display_name": "Python 3.11.0 ('advent-of-code-22': venv)",
   "language": "python",
   "name": "python3"
  },
  "language_info": {
   "codemirror_mode": {
    "name": "ipython",
    "version": 3
   },
   "file_extension": ".py",
   "mimetype": "text/x-python",
   "name": "python",
   "nbconvert_exporter": "python",
   "pygments_lexer": "ipython3",
   "version": "3.11.0"
  },
  "orig_nbformat": 4,
  "vscode": {
   "interpreter": {
    "hash": "68417e919b0e4b56d7cc53f5fb728a454fa0b7c2f4afec00c4a0958dca6f6ed0"
   }
  }
 },
 "nbformat": 4,
 "nbformat_minor": 2
}
