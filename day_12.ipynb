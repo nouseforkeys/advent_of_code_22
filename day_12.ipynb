{
 "cells": [
  {
   "attachments": {},
   "cell_type": "markdown",
   "metadata": {},
   "source": [
    "## Day 12\n",
    "\n",
    "# Part 1\n",
    "\n",
    "- the 2D height map displays heights as a-z where a is the low end\n",
    "- The starting point is denoted as `S` and has height `a`\n",
    "- the end point is denoted as `E` and has height `z`\n",
    "- can move 1 step each time but the elevation of the next step must be <= 1 more than the current space\n",
    "\n",
    "`What is the fewest steps required to move from your current position to the location that should get the best signal?`"
   ]
  },
  {
   "cell_type": "code",
   "execution_count": 6,
   "metadata": {},
   "outputs": [],
   "source": [
    "from matplotlib import pyplot as plt\n",
    "from utils import parse_from_file, ParseConfig\n",
    "\n",
    "parser = ParseConfig('\\n', ParseConfig('', str))\n",
    "\n",
    "letter_grid = parse_from_file('day_12.txt', parser)"
   ]
  },
  {
   "cell_type": "code",
   "execution_count": 7,
   "metadata": {},
   "outputs": [
    {
     "name": "stdout",
     "output_type": "stream",
     "text": [
      "start at (20, 0) and end at (20, 139)\n"
     ]
    }
   ],
   "source": [
    "def get_start_end_points(letter_grid: 'list[list[str]]') -> tuple:\n",
    "    \"\"\"\n",
    "    retuns (row, col), (row, col) for the start and end points resp.\n",
    "    \"\"\"\n",
    "    S, E = None, None\n",
    "    for row_num, row in enumerate(letter_grid):\n",
    "        for col_num, letter in enumerate(row):\n",
    "            if letter == 'S':\n",
    "                S = row_num, col_num\n",
    "                if (not S is None) and (not E is None):\n",
    "                    return S, E\n",
    "            if letter == 'E':\n",
    "                E = row_num, col_num\n",
    "                if (not S is None) and (not E is None):\n",
    "                    return S, E\n",
    "\n",
    "start, end = get_start_end_points(letter_grid)\n",
    "\n",
    "print(f'start at {start} and end at {end}')"
   ]
  },
  {
   "cell_type": "code",
   "execution_count": 14,
   "metadata": {},
   "outputs": [
    {
     "name": "stdout",
     "output_type": "stream",
     "text": [
      "note that the y axis is flipped because the first row parsed is index 0\n"
     ]
    },
    {
     "data": {
      "image/png": "[encoded data removed]",
      "text/plain": [
       "<Figure size 640x480 with 1 Axes>"
      ]
     },
     "metadata": {},
     "output_type": "display_data"
    }
   ],
   "source": [
    "def letter_to_height(letter: str) -> int:\n",
    "    \"\"\"\n",
    "    converts a letter to it's integer height value.\n",
    "\n",
    "    Additionally S = 1 and E = 26\n",
    "    \"\"\"\n",
    "    if letter == 'S':\n",
    "        return 1\n",
    "    elif letter == 'E':\n",
    "        return 26\n",
    "    else:\n",
    "        return (ord(letter) - ord('a')) + 1\n",
    "\n",
    "def convert_to_num(letter_grid: 'list[list[str]]') -> list[list[int]]:\n",
    "    \"\"\"\n",
    "    returns a copy of the grid passed with letters converted to integers\n",
    "    \"\"\"\n",
    "    int_grid = []\n",
    "    for row in letter_grid:\n",
    "        int_grid.append([letter_to_height(letter) for letter in row])\n",
    "    return int_grid\n",
    "\n",
    "int_grid = convert_to_num(letter_grid)\n",
    "\n",
    "fig, ax = plt.subplots()\n",
    "ax.pcolormesh(int_grid)\n",
    "ax.set_title('The lay of the land')\n",
    "ax.text(start[1], start[0], 'S', color='r')\n",
    "ax.text(end[1], end[0], 'E', color='r')\n",
    "print('note that the y axis is flipped because the first row parsed is index 0')"
   ]
  }
 ],
 "metadata": {
  "kernelspec": {
   "display_name": "Python 3.11.0 ('advent-of-code': venv)",
   "language": "python",
   "name": "python3"
  },
  "language_info": {
   "codemirror_mode": {
    "name": "ipython",
    "version": 3
   },
   "file_extension": ".py",
   "mimetype": "text/x-python",
   "name": "python",
   "nbconvert_exporter": "python",
   "pygments_lexer": "ipython3",
   "version": "3.11.0"
  },
  "orig_nbformat": 4,
  "vscode": {
   "interpreter": {
    "hash": "2d3d69b7f7c7447ebb59bd0325e8659c9bdbb7c04d20332a5a8a68af11de2233"
   }
  }
 },
 "nbformat": 4,
 "nbformat_minor": 2
}
