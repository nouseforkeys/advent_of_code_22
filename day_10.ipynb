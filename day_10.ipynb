{
 "cells": [
  {
   "cell_type": "markdown",
   "metadata": {},
   "source": [
    "# Day 10\n",
    "\n",
    "## Part 1\n",
    "\n",
    "- I'm a mean green screen fixing machine!\n",
    "- the CPU has a single register, X\n",
    "- there are 2 commands:\n",
    "    - `noop`: takes 1 cycle, does nothing\n",
    "    - `addx <V>`: takes 2 cycles, adds V to the value in X after 2 cycles and is blocking\n",
    "\n",
    "`Find the signal strength during the 20th, 60th, 100th, 140th, 180th, and 220th cycles. What is the sum of these six signal strengths?`"
   ]
  },
  {
   "cell_type": "code",
   "execution_count": 15,
   "metadata": {},
   "outputs": [
    {
     "name": "stdout",
     "output_type": "stream",
     "text": [
      "the first few commands are: [['noop'], ['noop'], ['addx', 5], ['addx', 3], ['addx', -2], ['noop'], ['addx', 5], ['addx', 4], ['noop'], ['addx', 3]]\n"
     ]
    }
   ],
   "source": [
    "from matplotlib import pyplot as plt\n",
    "from utils import parse_from_file, ParseConfig\n",
    "\n",
    "parser = ParseConfig('\\n', ParseConfig(' ', [str, int]))\n",
    "\n",
    "commands = parse_from_file('day_10.txt', parser)\n",
    "\n",
    "print(f'the first few commands are: {commands[:10]}')"
   ]
  },
  {
   "cell_type": "code",
   "execution_count": 39,
   "metadata": {},
   "outputs": [
    {
     "name": "stdout",
     "output_type": "stream",
     "text": [
      "(1, 1)\n",
      "(2, 1)\n",
      "(3, 1)\n",
      "(4, 4)\n",
      "(5, 4)\n",
      "(6, -1)\n"
     ]
    }
   ],
   "source": [
    "def run_commands(commands: list[list]) -> list[int]:\n",
    "    \"\"\"\n",
    "    returns the value stored in the x buffer at each cycle\n",
    "    \"\"\"\n",
    "    X_buffer = [1]\n",
    "\n",
    "    for command in commands:\n",
    "        X_buffer.append(X_buffer[-1])\n",
    "        if command[0] == 'noop':\n",
    "            pass\n",
    "        else:\n",
    "            _, V = command\n",
    "            X_buffer.append(X_buffer[-1] + V)\n",
    "    \n",
    "    return X_buffer\n",
    "\n",
    "test_commands = [\n",
    "    ['noop'],\n",
    "    ['addx', 3],\n",
    "    ['addx', -5],\n",
    "]\n",
    "\n",
    "test_buf = run_commands(test_commands)\n",
    "\n",
    "print('\\n'.join([str(item) for item in enumerate(test_buf, 1)]))"
   ]
  },
  {
   "cell_type": "code",
   "execution_count": 40,
   "metadata": {},
   "outputs": [
    {
     "data": {
      "text/plain": [
       "Text(0.5, 0, 'cycle count')"
      ]
     },
     "execution_count": 40,
     "metadata": {},
     "output_type": "execute_result"
    },
    {
     "data": {
      "image/png": "[encoded data removed]",
      "text/plain": [
       "<Figure size 640x480 with 1 Axes>"
      ]
     },
     "metadata": {},
     "output_type": "display_data"
    }
   ],
   "source": [
    "X_buffer = run_commands(commands)\n",
    "cycle_count = range(1, len(X_buffer) + 1)\n",
    "\n",
    "fig, ax = plt.subplots()\n",
    "ax.bar(cycle_count, X_buffer, width=1)\n",
    "ax.grid('ON')\n",
    "ax.set_title('X value')\n",
    "ax.set_xlabel('cycle count')"
   ]
  },
  {
   "cell_type": "code",
   "execution_count": 43,
   "metadata": {},
   "outputs": [
    {
     "name": "stdout",
     "output_type": "stream",
     "text": [
      "the sum of the signal strengths cycle 20 and then every 40th cycle after that is: 13220!\n"
     ]
    }
   ],
   "source": [
    "signal_strength = sum([\n",
    "    value * cycle for cycle, value in zip(cycle_count, X_buffer)\n",
    "    if cycle in (20, 60, 100, 140, 180, 220)\n",
    "])\n",
    "\n",
    "print(\n",
    "    'the sum of the signal strengths cycle 20 and then every 40th cycle after '\n",
    "    f'that is: {signal_strength}!')"
   ]
  }
 ],
 "metadata": {
  "kernelspec": {
   "display_name": "Python 3.11.0 ('advent-of-code-22': venv)",
   "language": "python",
   "name": "python3"
  },
  "language_info": {
   "codemirror_mode": {
    "name": "ipython",
    "version": 3
   },
   "file_extension": ".py",
   "mimetype": "text/x-python",
   "name": "python",
   "nbconvert_exporter": "python",
   "pygments_lexer": "ipython3",
   "version": "3.11.0"
  },
  "orig_nbformat": 4,
  "vscode": {
   "interpreter": {
    "hash": "68417e919b0e4b56d7cc53f5fb728a454fa0b7c2f4afec00c4a0958dca6f6ed0"
   }
  }
 },
 "nbformat": 4,
 "nbformat_minor": 2
}
