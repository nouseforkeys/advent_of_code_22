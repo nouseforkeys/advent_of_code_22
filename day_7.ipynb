{
 "cells": [
  {
   "cell_type": "markdown",
   "metadata": {},
   "source": [
    "# Day 7\n",
    "\n",
    "## Part 1\n",
    "- commands are prepended with `$`\n",
    "- `cd` is cd\n",
    "- `cd /` goes back to the top directory\n",
    "- `ls` is ls\n",
    "    - files are printed as: `<size> <name>`\n",
    "    - directories are printed as: `dir <name>`\n",
    "\n",
    "`Find all of the directories with a total size of at most 100000. What is the sum of the total sizes of those directories?`\n",
    "\n",
    "- Directory sizes are counted independently so the final total can contain the same file several times"
   ]
  },
  {
   "cell_type": "code",
   "execution_count": 6,
   "metadata": {},
   "outputs": [
    {
     "name": "stdout",
     "output_type": "stream",
     "text": [
      "[['$ cd /'], ['dir lhrfs', '193233 mvsjmrtn', 'dir nwh', 'dir pjsd', 'dir qfrrtb', '31987 zzdfcs', '$ cd lhrfs']]\n"
     ]
    }
   ],
   "source": [
    "from utils import parse_from_file, ParseConfig\n",
    "\n",
    "parser = ParseConfig('\\n$ ls\\n', ParseConfig('\\n', str))\n",
    "\n",
    "terminal_output = parse_from_file('day_7.txt', parser)\n",
    "\n",
    "print(terminal_output[:2])"
   ]
  },
  {
   "cell_type": "code",
   "execution_count": null,
   "metadata": {},
   "outputs": [],
   "source": [
    "def get_file_system(terminal_output: list[list[str]]) -> dict:\n",
    "    \"\"\"\n",
    "    maps out a file system from a terminal output\n",
    "    \"\"\"\n",
    "    for block in terminal_output:\n",
    "        "
   ]
  }
 ],
 "metadata": {
  "kernelspec": {
   "display_name": "Python 3.11.0 ('advent-of-code': venv)",
   "language": "python",
   "name": "python3"
  },
  "language_info": {
   "codemirror_mode": {
    "name": "ipython",
    "version": 3
   },
   "file_extension": ".py",
   "mimetype": "text/x-python",
   "name": "python",
   "nbconvert_exporter": "python",
   "pygments_lexer": "ipython3",
   "version": "3.11.0"
  },
  "orig_nbformat": 4,
  "vscode": {
   "interpreter": {
    "hash": "2d3d69b7f7c7447ebb59bd0325e8659c9bdbb7c04d20332a5a8a68af11de2233"
   }
  }
 },
 "nbformat": 4,
 "nbformat_minor": 2
}
