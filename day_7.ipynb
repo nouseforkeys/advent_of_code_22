{
 "cells": [
  {
   "cell_type": "markdown",
   "metadata": {},
   "source": [
    "# Day 7\n",
    "\n",
    "## Part 1\n",
    "- commands are prepended with `$`\n",
    "- `cd` is cd\n",
    "- `cd /` goes back to the top directory\n",
    "- `ls` is ls\n",
    "    - files are printed as: `<size> <name>`\n",
    "    - directories are printed as: `dir <name>`\n",
    "\n",
    "`Find all of the directories with a total size of at most 100000. What is the sum of the total sizes of those directories?`\n",
    "\n",
    "- Directory sizes are counted independently so the final total can contain the same file several times"
   ]
  },
  {
   "cell_type": "code",
   "execution_count": 24,
   "metadata": {},
   "outputs": [
    {
     "name": "stdout",
     "output_type": "stream",
     "text": [
      "[['$ cd /'], ['dir lhrfs', '193233 mvsjmrtn', 'dir nwh', 'dir pjsd', 'dir qfrrtb', '31987 zzdfcs', '$ cd lhrfs'], ['197903 hzl.jdj', '42249 wsbpzmbq.hws', '$ cd ..', '$ cd nwh']]\n"
     ]
    }
   ],
   "source": [
    "from utils import parse_from_file, ParseConfig\n",
    "\n",
    "# using this parser means we get blocks of output where the first lines are the\n",
    "# ls printout and then at the end there are directory changes\n",
    "parser = ParseConfig('\\n$ ls\\n', ParseConfig('\\n', str))\n",
    "\n",
    "terminal_output = parse_from_file('day_7.txt', parser)\n",
    "\n",
    "print(terminal_output[:3])"
   ]
  },
  {
   "cell_type": "code",
   "execution_count": 23,
   "metadata": {},
   "outputs": [
    {
     "name": "stdout",
     "output_type": "stream",
     "text": [
      "/\n",
      "/abc/\n",
      "/abc/def/\n",
      "/abc/\n",
      "/\n",
      "/ghi/\n",
      "/\n"
     ]
    }
   ],
   "source": [
    "def change_directory(cd_command: str, current_dir: str) -> str:\n",
    "    \"\"\"\n",
    "    returns the updated directory\n",
    "    \"\"\"\n",
    "    arg = cd_command.replace('$ cd ', '')  # strip of the command\n",
    "    if arg == '/':\n",
    "        return '/'\n",
    "    elif arg == '..':\n",
    "        return '/'.join(current_dir.split('/')[:-2]) + '/'\n",
    "    else:\n",
    "        return current_dir + arg + '/'\n",
    "\n",
    "test_dir = '/'\n",
    "print(test_dir)\n",
    "test_changes = ['abc', 'def', '..', '..', 'ghi', '/']\n",
    "for arg in test_changes:\n",
    "    test_dir = change_directory(arg, test_dir)\n",
    "    print(test_dir)\n"
   ]
  },
  {
   "cell_type": "code",
   "execution_count": 14,
   "metadata": {},
   "outputs": [
    {
     "name": "stdout",
     "output_type": "stream",
     "text": [
      "changed to: /\n",
      "dir lhrfs\n",
      "193233 mvsjmrtn\n",
      "dir nwh\n",
      "dir pjsd\n",
      "dir qfrrtb\n",
      "31987 zzdfcs\n",
      "$ cd lhrfs\n"
     ]
    },
    {
     "ename": "ValueError",
     "evalue": "too many values to unpack (expected 2)",
     "output_type": "error",
     "traceback": [
      "\u001b[1;31m---------------------------------------------------------------------------\u001b[0m",
      "\u001b[1;31mValueError\u001b[0m                                Traceback (most recent call last)",
      "Cell \u001b[1;32mIn[14], line 26\u001b[0m\n\u001b[0;32m     20\u001b[0m             flat_map\u001b[39m.\u001b[39mupdate({\n\u001b[0;32m     21\u001b[0m                 current_dir: {size: name \u001b[39mfor\u001b[39;00m size, name \u001b[39min\u001b[39;00m dir_map}\n\u001b[0;32m     22\u001b[0m             })\n\u001b[0;32m     24\u001b[0m     \u001b[39mreturn\u001b[39;00m flat_map\n\u001b[1;32m---> 26\u001b[0m \u001b[39mprint\u001b[39m(get_file_system(terminal_output[:\u001b[39m20\u001b[39;49m]))\n",
      "Cell \u001b[1;32mIn[14], line 18\u001b[0m, in \u001b[0;36mget_file_system\u001b[1;34m(terminal_output)\u001b[0m\n\u001b[0;32m     16\u001b[0m \u001b[39mfor\u001b[39;00m line \u001b[39min\u001b[39;00m block:\n\u001b[0;32m     17\u001b[0m     \u001b[39mprint\u001b[39m(line)\n\u001b[1;32m---> 18\u001b[0m     size, name \u001b[39m=\u001b[39m line\u001b[39m.\u001b[39msplit(\u001b[39m'\u001b[39m\u001b[39m \u001b[39m\u001b[39m'\u001b[39m)\n\u001b[0;32m     19\u001b[0m     dir_map\u001b[39m.\u001b[39mappend((size, name))\n\u001b[0;32m     20\u001b[0m flat_map\u001b[39m.\u001b[39mupdate({\n\u001b[0;32m     21\u001b[0m     current_dir: {size: name \u001b[39mfor\u001b[39;00m size, name \u001b[39min\u001b[39;00m dir_map}\n\u001b[0;32m     22\u001b[0m })\n",
      "\u001b[1;31mValueError\u001b[0m: too many values to unpack (expected 2)"
     ]
    }
   ],
   "source": [
    "def get_file_system(terminal_output: list[list[str]]) -> dict:\n",
    "    \"\"\"\n",
    "    maps out a file system from a terminal output\n",
    "    \"\"\"\n",
    "    flat_map = {}\n",
    "    current_dir = '/'\n",
    "    for line in terminal_output:\n",
    "        if line.startswith('$'):\n",
    "            current_dir = change_directory(line, current_dir)\n",
    "            print(f'changed to: {current_dir}')\n",
    "            continue\n",
    "        \n",
    "        # else\n",
    "        if current_dir not in flat_map:\n",
    "            flat_map.update({current_dir: dict()})\n",
    "\n",
    "        # WIP\n",
    "\n",
    "    return flat_map\n",
    "\n",
    "print(get_file_system(terminal_output[:20]))"
   ]
  }
 ],
 "metadata": {
  "kernelspec": {
   "display_name": "Python 3.11.0 ('advent-of-code': venv)",
   "language": "python",
   "name": "python3"
  },
  "language_info": {
   "codemirror_mode": {
    "name": "ipython",
    "version": 3
   },
   "file_extension": ".py",
   "mimetype": "text/x-python",
   "name": "python",
   "nbconvert_exporter": "python",
   "pygments_lexer": "ipython3",
   "version": "3.11.0"
  },
  "orig_nbformat": 4,
  "vscode": {
   "interpreter": {
    "hash": "2d3d69b7f7c7447ebb59bd0325e8659c9bdbb7c04d20332a5a8a68af11de2233"
   }
  }
 },
 "nbformat": 4,
 "nbformat_minor": 2
}
