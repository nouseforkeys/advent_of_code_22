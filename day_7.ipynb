{
 "cells": [
  {
   "cell_type": "markdown",
   "metadata": {},
   "source": [
    "# Day 7\n",
    "\n",
    "## Part 1\n",
    "- commands are prepended with `$`\n",
    "- `cd` is cd\n",
    "- `cd /` goes back to the top directory\n",
    "- `ls` is ls\n",
    "    - files are printed as: `<size> <name>`\n",
    "    - directories are printed as: `dir <name>`\n",
    "\n",
    "`Find all of the directories with a total size of at most 100000. What is the sum of the total sizes of those directories?`\n",
    "\n",
    "- Directory sizes are counted independently so the final total can contain the same file several times"
   ]
  },
  {
   "cell_type": "code",
   "execution_count": 26,
   "metadata": {},
   "outputs": [
    {
     "name": "stdout",
     "output_type": "stream",
     "text": [
      "[['$ cd /'], ['dir lhrfs', '193233 mvsjmrtn', 'dir nwh', 'dir pjsd', 'dir qfrrtb', '31987 zzdfcs', '$ cd lhrfs'], ['197903 hzl.jdj', '42249 wsbpzmbq.hws', '$ cd ..', '$ cd nwh']]\n"
     ]
    }
   ],
   "source": [
    "from utils import parse_from_file, ParseConfig\n",
    "\n",
    "# using this parser means we get blocks of output where the first lines are the\n",
    "# ls printout and then at the end there are directory changes\n",
    "parser = ParseConfig('\\n$ ls\\n', ParseConfig('\\n', str))\n",
    "\n",
    "terminal_output = parse_from_file('day_7.txt', parser)\n",
    "\n",
    "print(terminal_output[:3])"
   ]
  },
  {
   "cell_type": "code",
   "execution_count": 27,
   "metadata": {},
   "outputs": [
    {
     "name": "stdout",
     "output_type": "stream",
     "text": [
      "/\n",
      "/abc/\n",
      "/abc/def/\n",
      "/abc/\n",
      "/\n",
      "/ghi/\n",
      "/\n"
     ]
    }
   ],
   "source": [
    "def change_directory(cd_command: str, current_dir: str) -> str:\n",
    "    \"\"\"\n",
    "    returns the updated directory\n",
    "    \"\"\"\n",
    "    arg = cd_command.replace('$ cd ', '')  # strip of the command\n",
    "    if arg == '/':\n",
    "        return '/'\n",
    "    elif arg == '..':\n",
    "        return '/'.join(current_dir.split('/')[:-2]) + '/'\n",
    "    else:\n",
    "        return current_dir + arg + '/'\n",
    "\n",
    "test_dir = '/'\n",
    "print(test_dir)\n",
    "test_changes = ['abc', 'def', '..', '..', 'ghi', '/']\n",
    "for arg in test_changes:\n",
    "    test_dir = change_directory(arg, test_dir)\n",
    "    print(test_dir)\n"
   ]
  },
  {
   "cell_type": "code",
   "execution_count": 28,
   "metadata": {},
   "outputs": [
    {
     "name": "stdout",
     "output_type": "stream",
     "text": [
      "('/', {'lhrfs': 'dir', 'mvsjmrtn': 193233, 'nwh': 'dir', 'pjsd': 'dir', 'qfrrtb': 'dir', 'zzdfcs': 31987})\n",
      "('/lhrfs/', {'hzl.jdj': 197903, 'wsbpzmbq.hws': 42249})\n",
      "('/nwh/', {'bgrccm.tqh': 63077, 'dznccwl.bnw': 69961, 'pmdj': 'dir', 'rsbvj.jtd': 187013})\n",
      "('/nwh/pmdj/', {'rlgfd.rrd': 292527, 'tbj.grn': 68737, 'wsbpzmbq.hws': 153072})\n",
      "('/pjsd/', {'czzcslm': 'dir', 'dgwpl': 'dir', 'fqg': 'dir', 'lszhdjr': 'dir', 'mmpf': 'dir', 'wtwhzzwz': 'dir', 'zzdfcs': 149748})\n",
      "('/pjsd/czzcslm/', {'bvrnzhd.vzp': 249237, 'ssvqllt.ccv': 16960})\n",
      "('/pjsd/dgwpl/', {'brsbfqbm.hls': 23547, 'ljzrwpv': 'dir'})\n",
      "('/pjsd/dgwpl/ljzrwpv/', {'btnzjtlr': 'dir', 'czr': 'dir'})\n",
      "('/pjsd/dgwpl/ljzrwpv/btnzjtlr/', {'tbj.mwg': 191998})\n",
      "('/pjsd/dgwpl/ljzrwpv/czr/', {'fqg': 'dir'})\n"
     ]
    }
   ],
   "source": [
    "def get_file_system(terminal_output: 'list[list[str]]') -> dict:\n",
    "    \"\"\"\n",
    "    maps out a file system from a terminal output\n",
    "    \"\"\"\n",
    "    flat_map = {}\n",
    "    current_dir = '/'\n",
    "    for block in terminal_output:\n",
    "        for line in block:\n",
    "            if line.startswith('$'):\n",
    "                current_dir = change_directory(line, current_dir)\n",
    "                continue\n",
    "            \n",
    "            # else\n",
    "            if current_dir not in flat_map:\n",
    "                flat_map.update({current_dir: dict()})\n",
    "            \n",
    "            size, name = line.split(' ')\n",
    "            try:\n",
    "                size = int(size)\n",
    "            except ValueError:\n",
    "                pass\n",
    "            flat_map[current_dir].update({name: size})\n",
    "\n",
    "    return flat_map\n",
    "\n",
    "flat_map = get_file_system(terminal_output)\n",
    "\n",
    "print('\\n'.join([str(item) for item in list(flat_map.items())[:10]]))"
   ]
  },
  {
   "cell_type": "code",
   "execution_count": 29,
   "metadata": {},
   "outputs": [
    {
     "name": "stdout",
     "output_type": "stream",
     "text": [
      "/lhrfs/ is 240152 big!\n",
      "/nwh/ is 834387 big!\n"
     ]
    }
   ],
   "source": [
    "def get_dir_size(directory: str, size_lookup: dict, full_set: dict) -> int:\n",
    "    \"\"\"\n",
    "    finds the size of a directory using the size look up first if possible\n",
    "    \"\"\"\n",
    "    if directory in size_lookup:\n",
    "        return size_lookup[directory]\n",
    "    # else\n",
    "    dir_size = 0\n",
    "    for sub_dir, size in full_set[directory].items():\n",
    "        if isinstance(size, int):\n",
    "            dir_size += size\n",
    "        else:\n",
    "            dir_size += get_dir_size(\n",
    "                directory + sub_dir + '/', size_lookup, full_set)\n",
    "\n",
    "    return dir_size\n",
    "    \n",
    "for path in ['/lhrfs/', '/nwh/']:\n",
    "    print(f'{path} is {get_dir_size(path, {}, flat_map)} big!')"
   ]
  },
  {
   "cell_type": "code",
   "execution_count": 30,
   "metadata": {},
   "outputs": [],
   "source": [
    "def find_total_sizes(flat_map: 'dict[dict]') -> dict:\n",
    "    \"\"\"\n",
    "    returns a dictionary of the total sizes of all the directories\n",
    "\n",
    "    uses memoisation!\n",
    "    \"\"\"\n",
    "    dir_sizes = {}\n",
    "    for directory, contents in flat_map.items():\n",
    "        dir_sizes.update(\n",
    "            {directory: get_dir_size(directory, dir_sizes, flat_map)})\n",
    "    \n",
    "    return dir_sizes\n",
    "\n",
    "dir_sizes = find_total_sizes(flat_map)"
   ]
  },
  {
   "cell_type": "code",
   "execution_count": 31,
   "metadata": {},
   "outputs": [
    {
     "name": "stdout",
     "output_type": "stream",
     "text": [
      "the sum of directories's sizes with size less than 100k is 1243729\n"
     ]
    }
   ],
   "source": [
    "# ok finally let's sum the totals!\n",
    "sum_under_100k = sum([size for size in dir_sizes.values() if size < 100000])\n",
    "\n",
    "print(\n",
    "    'the sum of directories\\'s sizes with size less than 100k is '\n",
    "    f'{sum_under_100k}')"
   ]
  },
  {
   "cell_type": "markdown",
   "metadata": {},
   "source": [
    "## Part 2\n",
    "\n",
    "- 30,000,000 is required to update\n",
    "- the total file system has 70,000,000\n",
    "\n",
    "`Find the smallest directory that, if deleted, would free up enough space on the filesystem to run the update. What is the total size of that directory?`"
   ]
  },
  {
   "cell_type": "code",
   "execution_count": 34,
   "metadata": {},
   "outputs": [
    {
     "name": "stdout",
     "output_type": "stream",
     "text": [
      "used storage: 44376732/70000000\n",
      "remaining space: 25623268\n",
      "minimum storage required to be freed up: 4376732\n"
     ]
    }
   ],
   "source": [
    "total_space = 70000000\n",
    "\n",
    "remaining_space = total_space - dir_sizes['/']\n",
    "\n",
    "update_requirement = 30000000\n",
    "\n",
    "minimum_size_to_delete = update_requirement - remaining_space\n",
    "\n",
    "print(f'used storage: {dir_sizes[\"/\"]}/{total_space}')\n",
    "\n",
    "print(f'remaining space: {remaining_space}')\n",
    "\n",
    "print(f'minimum storage required to be freed up: {minimum_size_to_delete}')"
   ]
  },
  {
   "cell_type": "code",
   "execution_count": 36,
   "metadata": {},
   "outputs": [
    {
     "name": "stdout",
     "output_type": "stream",
     "text": [
      "the directory to delete is: /qfrrtb/qlnwhq/sdhqp/\n",
      "its size is: 4443914\n"
     ]
    }
   ],
   "source": [
    "dir_to_delete = '/'\n",
    "for directory, size in dir_sizes.items():\n",
    "    if minimum_size_to_delete <= size < dir_sizes[dir_to_delete]:\n",
    "        dir_to_delete = directory\n",
    "\n",
    "print(f'the directory to delete is: {directory}')\n",
    "print(f'its size is: {dir_sizes[dir_to_delete]}')"
   ]
  }
 ],
 "metadata": {
  "kernelspec": {
   "display_name": "Python 3.10.2 64-bit",
   "language": "python",
   "name": "python3"
  },
  "language_info": {
   "codemirror_mode": {
    "name": "ipython",
    "version": 3
   },
   "file_extension": ".py",
   "mimetype": "text/x-python",
   "name": "python",
   "nbconvert_exporter": "python",
   "pygments_lexer": "ipython3",
   "version": "3.10.2"
  },
  "orig_nbformat": 4,
  "vscode": {
   "interpreter": {
    "hash": "26de051ba29f2982a8de78e945f0abaf191376122a1563185a90213a26c5da77"
   }
  }
 },
 "nbformat": 4,
 "nbformat_minor": 2
}
