{
 "cells": [
  {
   "cell_type": "markdown",
   "metadata": {},
   "source": [
    "# Day 1\n",
    "\n",
    "In case the Elves get hungry and need extra snacks, they need to know which Elf to ask: they'd like to know how many Calories are being carried by the Elf carrying the most Calories. "
   ]
  },
  {
   "cell_type": "code",
   "execution_count": 7,
   "metadata": {},
   "outputs": [
    {
     "name": "stdout",
     "output_type": "stream",
     "text": [
      "The elf carrying the most calories has: 74394\n"
     ]
    }
   ],
   "source": [
    "from matplotlib import pyplot\n",
    "import pandas as pd\n",
    "\n",
    "from utils import load_from_file\n",
    "\n",
    "elf_calories = [[]]\n",
    "\n",
    "for value in load_from_file('day_1.txt'):\n",
    "    try:\n",
    "        elf_calories[-1].append(int(value))\n",
    "    except ValueError:\n",
    "        elf_calories.append(list())\n",
    "\n",
    "highest_calories = max([sum(elf) for elf in elf_calories])\n",
    "\n",
    "print(f'The elf carrying the most calories has: {highest_calories}')"
   ]
  }
 ],
 "metadata": {
  "kernelspec": {
   "display_name": "Python 3.11.0 ('advent-of-code-22': venv)",
   "language": "python",
   "name": "python3"
  },
  "language_info": {
   "codemirror_mode": {
    "name": "ipython",
    "version": 3
   },
   "file_extension": ".py",
   "mimetype": "text/x-python",
   "name": "python",
   "nbconvert_exporter": "python",
   "pygments_lexer": "ipython3",
   "version": "3.11.0"
  },
  "orig_nbformat": 4,
  "vscode": {
   "interpreter": {
    "hash": "68417e919b0e4b56d7cc53f5fb728a454fa0b7c2f4afec00c4a0958dca6f6ed0"
   }
  }
 },
 "nbformat": 4,
 "nbformat_minor": 2
}
