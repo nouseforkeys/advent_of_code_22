{
 "cells": [
  {
   "attachments": {},
   "cell_type": "markdown",
   "metadata": {},
   "source": [
    "# Day 16\n",
    "\n",
    "## Part 2\n",
    "\n",
    "- Oh no... oh volca-no!\n",
    "- 30 minutes before things get spicy\n",
    "- flow rate is in pressure per minute (this bothers me on so many levels!)s\n",
    "- it takes 1 minute to open a valve and 1 minute to follow a tunnel\n",
    "- all valves begin closed\n",
    "- total pressure releaved by a valve = time remaining * flow rate\n",
    "\n",
    "`What is the most pressure you can release?`"
   ]
  },
  {
   "cell_type": "code",
   "execution_count": 22,
   "metadata": {},
   "outputs": [
    {
     "name": "stdout",
     "output_type": "stream",
     "text": [
      "[['ED', [0]], [['PS', 'AW']]]\n",
      "[['RM', [18]], [['KJ']]]\n"
     ]
    }
   ],
   "source": [
    "from dataclasses import dataclass\n",
    "from utils import parse_from_file, ParseConfig\n",
    "\n",
    "def strip_plural(string: str) -> str:\n",
    "    \"\"\"\n",
    "    required to account for usage of valve/valves\n",
    "    \"\"\"\n",
    "    return string.strip('s ')\n",
    "\n",
    "parser = ParseConfig('\\n', ParseConfig('; ', [\n",
    "    ParseConfig(' ', [\n",
    "        None,  # Valve\n",
    "        str,\n",
    "        None, None,  # has flow\n",
    "        ParseConfig('=', [None, int])\n",
    "    ]),\n",
    "    ParseConfig('valve', [None, ParseConfig(', ', strip_plural)])\n",
    "]))\n",
    "\n",
    "valves_and_caves = parse_from_file(\n",
    "    'day_16.txt', parser, unnest_single_items=False)\n",
    "\n",
    "print(valves_and_caves[0])\n",
    "print(valves_and_caves[39])"
   ]
  },
  {
   "cell_type": "code",
   "execution_count": 24,
   "metadata": {},
   "outputs": [
    {
     "name": "stdout",
     "output_type": "stream",
     "text": [
      "[('ED', Valve(name='ED', flow=0, tunnels=['PS', 'AW'])), ('SI', Valve(name='SI', flow=0, tunnels=['AA', 'HX']))]\n"
     ]
    }
   ],
   "source": [
    "# let's pop the input info into a nice structure\n",
    "@dataclass\n",
    "class Valve:\n",
    "    name: str\n",
    "    flow: int\n",
    "    tunnels: list[str]\n",
    "\n",
    "valves = {}\n",
    "for (name, (flow, *_)), (tunnels, *_) in valves_and_caves:\n",
    "    valves.update({name: Valve(name, flow, tunnels)})\n",
    "\n",
    "print([contents for contents in list(valves.items())[:2]])"
   ]
  }
 ],
 "metadata": {
  "kernelspec": {
   "display_name": "advent-of-code-22",
   "language": "python",
   "name": "python3"
  },
  "language_info": {
   "codemirror_mode": {
    "name": "ipython",
    "version": 3
   },
   "file_extension": ".py",
   "mimetype": "text/x-python",
   "name": "python",
   "nbconvert_exporter": "python",
   "pygments_lexer": "ipython3",
   "version": "3.11.0"
  },
  "orig_nbformat": 4,
  "vscode": {
   "interpreter": {
    "hash": "68417e919b0e4b56d7cc53f5fb728a454fa0b7c2f4afec00c4a0958dca6f6ed0"
   }
  }
 },
 "nbformat": 4,
 "nbformat_minor": 2
}
