{
 "cells": [
  {
   "attachments": {},
   "cell_type": "markdown",
   "metadata": {},
   "source": [
    "# Day 16\n",
    "\n",
    "## Part 1\n",
    "\n",
    "- Oh no... oh volca-no!\n",
    "- 30 minutes before things get spicy\n",
    "- flow rate is in pressure per minute (this bothers me on so many levels!)s\n",
    "- it takes 1 minute to open a valve and 1 minute to follow a tunnel\n",
    "- all valves begin closed\n",
    "- total pressure releaved by a valve = time remaining * flow rate\n",
    "\n",
    "`What is the most pressure you can release?`"
   ]
  },
  {
   "cell_type": "code",
   "execution_count": 77,
   "metadata": {},
   "outputs": [
    {
     "name": "stdout",
     "output_type": "stream",
     "text": [
      "[['ED', [0]], [['PS', 'AW']]]\n",
      "[['RM', [18]], [['KJ']]]\n"
     ]
    }
   ],
   "source": [
    "from copy import deepcopy\n",
    "from dataclasses import dataclass\n",
    "from utils import parse_from_file, ParseConfig\n",
    "\n",
    "def strip_plural(string: str) -> str:\n",
    "    \"\"\"\n",
    "    required to account for usage of valve/valves\n",
    "    \"\"\"\n",
    "    return string.strip('s ')\n",
    "\n",
    "parser = ParseConfig('\\n', ParseConfig('; ', [\n",
    "    ParseConfig(' ', [\n",
    "        None,  # Valve\n",
    "        str,\n",
    "        None, None,  # has flow\n",
    "        ParseConfig('=', [None, int])\n",
    "    ]),\n",
    "    ParseConfig('valve', [None, ParseConfig(', ', strip_plural)])\n",
    "]))\n",
    "\n",
    "valves_and_caves = parse_from_file(\n",
    "    'day_16.txt', parser, unnest_single_items=False)\n",
    "\n",
    "print(valves_and_caves[0])\n",
    "print(valves_and_caves[39])"
   ]
  },
  {
   "cell_type": "code",
   "execution_count": 78,
   "metadata": {},
   "outputs": [
    {
     "name": "stdout",
     "output_type": "stream",
     "text": [
      "[('ED', Valve(name='ED', flow=0, tunnels=['PS', 'AW'])), ('SI', Valve(name='SI', flow=0, tunnels=['AA', 'HX']))]\n"
     ]
    }
   ],
   "source": [
    "# let's pop the input info into a nice structure\n",
    "@dataclass\n",
    "class Valve:\n",
    "    name: str\n",
    "    flow: int\n",
    "    tunnels: list[str]|dict[str:int]\n",
    "\n",
    "valves = {}\n",
    "for (name, (flow, *_)), (tunnels, *_) in valves_and_caves:\n",
    "    valves.update({name: Valve(name, flow, tunnels)})\n",
    "\n",
    "print([contents for contents in list(valves.items())[:2]])"
   ]
  },
  {
   "cell_type": "code",
   "execution_count": 79,
   "metadata": {},
   "outputs": [
    {
     "name": "stdout",
     "output_type": "stream",
     "text": [
      "50\n"
     ]
    }
   ],
   "source": [
    "# first we need a way to calculate the score of a given route\n",
    "def calculate_score(route: tuple[str|None], route_length: int) -> int:\n",
    "    \"\"\"\n",
    "    returns the score of a route\n",
    "\n",
    "    in a route, strings represent moving between tunnels and None\n",
    "    represents turning on a tap\n",
    "    \"\"\"\n",
    "    last_stop = route[0]\n",
    "    score = 0\n",
    "    # the first item in a route is the starting point so don't count it\n",
    "    for time_elapsed, event in enumerate(route[1:route_length], 1):\n",
    "        if event is None:\n",
    "            time_remaining = route_length - time_elapsed\n",
    "            score += time_remaining * valves[last_stop].flow\n",
    "        else:\n",
    "            last_stop = event\n",
    "    return score\n",
    "\n",
    "route = ('AA', ) * 27 + ('OW', None, 'AA', 'AA')\n",
    "print(calculate_score(route, 30))\n",
    "# travel to AA: +0\n",
    "# ...\n",
    "# travel to OW: +0\n",
    "# activate OW: +0\n",
    "# travel to AA: +0 (+25)\n",
    "# travel to AA: +0 (+25)\n",
    "# so the total should be 50"
   ]
  },
  {
   "cell_type": "code",
   "execution_count": 80,
   "metadata": {},
   "outputs": [
    {
     "name": "stdout",
     "output_type": "stream",
     "text": [
      "AA {'PB': 2, 'HX': 2, 'GJ': 3, 'AY': 3, 'PH': 2}\n",
      "HH {'SV': 3, 'FY': 3, 'HX': 2}\n"
     ]
    }
   ],
   "source": [
    "# before we try all possible routes we can prune our net a little\n",
    "\n",
    "# lots of nets have flow 0 so let's remove them and give each tunnel a weight\n",
    "# to travel to all the tunnels with flow > 0\n",
    "\n",
    "def get_paths(route: tuple[str]) -> dict[str:int]:\n",
    "    \"\"\"\n",
    "    returns the travel cost to all non-zero flow valves from the valve passed\n",
    "    \"\"\"\n",
    "    valve = valves[route[-1]]\n",
    "    if valve.flow > 0 and len(route) > 1:\n",
    "        return {valve.name: len(route) - 1}\n",
    "    # get all routes to non zero flow nodes from all tunnels form this one\n",
    "    shortest_routes = {}\n",
    "    for option in valve.tunnels:\n",
    "        # if we've already been there then don't bother checking\n",
    "        # travel weights are all 1 so if it's in list it's quicker that way\n",
    "        if option in route:\n",
    "            continue\n",
    "        temp = get_paths(route + (option, ))\n",
    "        # update our best estimates of distance\n",
    "        for desination, cost in temp.items():\n",
    "            # replace an existing cost if we find a shorter route\n",
    "            if desination in shortest_routes:\n",
    "                if cost < shortest_routes[desination]:\n",
    "                    shortest_routes[desination] = cost\n",
    "            else:\n",
    "                shortest_routes.update({desination: cost})\n",
    "    return shortest_routes\n",
    "\n",
    "valves_to_test = ('AA', 'HH')\n",
    "for valve in valves_to_test:\n",
    "    print(valve, get_paths((valve, )))"
   ]
  },
  {
   "cell_type": "code",
   "execution_count": 81,
   "metadata": {},
   "outputs": [
    {
     "name": "stdout",
     "output_type": "stream",
     "text": [
      "Valve(name='LX', flow=22, tunnels={'AW': 2, 'IN': 3})\n",
      "Valve(name='PB', flow=4, tunnels={'BE': 3, 'HX': 2, 'AY': 2, 'GJ': 3, 'PH': 4})\n",
      "Valve(name='PH', flow=11, tunnels={'GJ': 2, 'AW': 2, 'PB': 4, 'HX': 4, 'AY': 2})\n",
      "Valve(name='SV', flow=24, tunnels={'QR': 2, 'HH': 3})\n",
      "Valve(name='BE', flow=5, tunnels={'HX': 2, 'PB': 3, 'QR': 3, 'OW': 3})\n",
      "Valve(name='AW', flow=21, tunnels={'PH': 2, 'LX': 2, 'GJ': 3, 'AY': 3})\n",
      "Valve(name='FY', flow=17, tunnels={'HH': 3, 'RM': 2})\n",
      "Valve(name='HH', flow=12, tunnels={'SV': 3, 'FY': 3, 'HX': 2})\n",
      "Valve(name='AA', flow=0, tunnels={'PB': 2, 'HX': 2, 'GJ': 3, 'AY': 3, 'PH': 2})\n",
      "Valve(name='HX', flow=14, tunnels={'QR': 3, 'HH': 2, 'PB': 2, 'GJ': 5, 'AY': 5, 'PH': 4, 'BE': 2})\n",
      "Valve(name='GJ', flow=3, tunnels={'PB': 3, 'AW': 3, 'PH': 2, 'AY': 3, 'HX': 5})\n",
      "Valve(name='RM', flow=18, tunnels={'FY': 2})\n",
      "Valve(name='QR', flow=20, tunnels={'SV': 2, 'HX': 3, 'BE': 3, 'OW': 2})\n",
      "Valve(name='AY', flow=6, tunnels={'PB': 2, 'AW': 3, 'HX': 5, 'GJ': 3, 'PH': 2})\n",
      "Valve(name='OW', flow=25, tunnels={'BE': 3, 'IN': 2, 'QR': 2})\n",
      "Valve(name='IN', flow=16, tunnels={'OW': 2, 'LX': 3})\n"
     ]
    }
   ],
   "source": [
    "# lets reduce the whole set now\n",
    "reduced_valves = {}\n",
    "for name, valve in valves.items():\n",
    "    if valve.flow == 0 and not name == 'AA':\n",
    "        continue\n",
    "    new_valve = deepcopy(valve)\n",
    "    new_valve.tunnels = get_paths((name, ))\n",
    "    reduced_valves.update({name: new_valve})\n",
    "    print(new_valve)"
   ]
  },
  {
   "cell_type": "code",
   "execution_count": 82,
   "metadata": {},
   "outputs": [],
   "source": [
    "# we need a check for which valves have been activated given a route\n",
    "def is_activated(valve: str, route: tuple[str|None]):\n",
    "    \"\"\"\n",
    "    returns true if route contains (..., valve, None,...)\n",
    "    \"\"\"\n",
    "    for step1, step2 in zip(route[:-1], route[1:]):\n",
    "        if step1 == valve and step2 is None:\n",
    "            return True\n",
    "    return False"
   ]
  },
  {
   "cell_type": "code",
   "execution_count": 83,
   "metadata": {},
   "outputs": [],
   "source": [
    "# take a copy so we can re-run just this cell if need be\n",
    "reduced_valves_copy = deepcopy(reduced_valves)\n",
    "\n",
    "def get_scores(sub_route: tuple[str|None], total_time_left: int) -> dict:\n",
    "    \"\"\"\n",
    "    returns a dictionary of the scores from completing the sub-route passed\n",
    "    \"\"\"\n",
    "    # exit condition\n",
    "    if len(sub_route) > total_time_left:\n",
    "        return {sub_route: calculate_score(sub_route, total_time_left)}\n",
    "\n",
    "    if sub_route[-1] is None:\n",
    "        last_stop = sub_route[-2]\n",
    "    else:\n",
    "        last_stop = sub_route[-1]\n",
    "    try:\n",
    "        # figure out our options\n",
    "        options = reduced_valves_copy[last_stop].tunnels\n",
    "    except KeyError as e:\n",
    "        print(sub_route)\n",
    "        for _, valve in reduced_valves_copy.items():\n",
    "            print(valve)\n",
    "        raise e\n",
    "\n",
    "    scores = {}\n",
    "    # if this valve has not yet been acivated, activate it\n",
    "    if not is_activated(last_stop, sub_route) and last_stop != 'AA':\n",
    "        scores.update(get_scores(sub_route + (None, ), total_time_left))\n",
    "    # else get scores from travelling to a new valve\n",
    "    # it appears to be always better to activate a node than travel\n",
    "    # hence let's not even bother checking routes that don't do this\n",
    "    else:\n",
    "        for option, cost in options.items():\n",
    "            scores.update(\n",
    "                get_scores(sub_route + (option, ) * cost, total_time_left))\n",
    "\n",
    "    return scores\n",
    "\n",
    "\n",
    "scores = get_scores(('AA',), 30)"
   ]
  },
  {
   "cell_type": "code",
   "execution_count": 84,
   "metadata": {},
   "outputs": [
    {
     "name": "stdout",
     "output_type": "stream",
     "text": [
      "('AA', 'PH', 'PH', None, 'AW', 'AW', None, 'LX', 'LX', None, 'IN', 'IN', 'IN', None, 'OW', 'OW', None, 'QR', 'QR', None, 'SV', 'SV', None, 'HH', 'HH', 'HH', None, 'HX', 'HX', None, 'QR', 'QR', 'QR')\n",
      "the most pressure we can relieve is 2359!\n"
     ]
    }
   ],
   "source": [
    "best_route, best_score = None, None\n",
    "for route, score in scores.items():\n",
    "    if best_route is None:\n",
    "        best_route, best_score = route, score\n",
    "    elif score > best_score:\n",
    "        best_route, best_score = route, score\n",
    "print(best_route)\n",
    "print(f'the most pressure we can relieve is {best_score}!')"
   ]
  },
  {
   "attachments": {},
   "cell_type": "markdown",
   "metadata": {},
   "source": [
    "## Part 2\n",
    "\n",
    "- I can teach an elephant to help for the low low cost of only `4 minutes`\n",
    "- An elephant can go it's own route and turn on valves as well\n",
    "\n",
    "`With you and an elephant working together for 26 minutes, what is the most pressure you could release?`"
   ]
  },
  {
   "cell_type": "code",
   "execution_count": null,
   "metadata": {},
   "outputs": [],
   "source": []
  },
  {
   "cell_type": "code",
   "execution_count": 85,
   "metadata": {},
   "outputs": [],
   "source": [
    "# it is presumably still the most beneficial to always open a valve before\n",
    "# moving on\n",
    "\n",
    "# additionally it's probably also to always separate ways to the elephant to\n",
    "# divide and conquer "
   ]
  },
  {
   "cell_type": "code",
   "execution_count": 86,
   "metadata": {},
   "outputs": [],
   "source": [
    "# with both of us working it may be useful to check if all valves have been\n",
    "# opened\n",
    "def all_valves_open(me: tuple[str|None], elephant: tuple[str|None]) -> bool:\n",
    "    \"\"\"\n",
    "    returns true if between both of us all non-zero flow valves have been\n",
    "    opened\n",
    "    \"\"\"\n",
    "    for name, valve in reduced_valves.items():\n",
    "        if not (is_activated(name, me) or is_activated(name, elephant)):\n",
    "            return False\n",
    "    return True"
   ]
  },
  {
   "cell_type": "code",
   "execution_count": 87,
   "metadata": {},
   "outputs": [],
   "source": [
    "\n",
    "# with that in mind we need a modified score finding function\n",
    "def get_dual_scores(\n",
    "    me: tuple[str|None], elephant: tuple[str|None], total_time_left: int\n",
    ") -> dict[tuple|int]:\n",
    "    \"\"\"\n",
    "    returns a dictionary of scores of the combined routes possible following\n",
    "    on from what we've already done.\n",
    "    \"\"\"\n",
    "    # exit condition\n",
    "    if len(me) > total_time_left or all_valves_open(me, elephant):\n",
    "        return [(me, elephant)]\n",
    "\n",
    "    if me[-1] is None:\n",
    "        my_last_stop = me[-2]\n",
    "    else:\n",
    "        my_last_stop = me[-1]\n",
    "\n",
    "    my_options = reduced_valves_copy[my_last_stop].tunnels\n",
    "\n",
    "    if elephant[-1] is None:\n",
    "        elephant_last = elephant[-2]\n",
    "    else:\n",
    "        elephant_last = elephant[-1]\n",
    "\n",
    "    my_options = reduced_valves_copy[my_last_stop].tunnels\n",
    "    elephant_opts = reduced_valves_copy[elephant_last].tunnels\n",
    "\n",
    "    scores = {}\n",
    "    my_stop_is_active = (\n",
    "        is_activated(my_last_stop, me) or is_activated(my_last_stop, elephant)\n",
    "    )\n",
    "    elephant_stop_active = (\n",
    "        is_activated(elephant_last, me) or is_activated(elephant_last, elephant)\n",
    "    )\n",
    "    # choose my next move\n",
    "    if not my_stop_is_active and my_last_stop != 'AA':\n",
    "        my_next_moves = [me + (None, )]\n",
    "    else:\n",
    "        my_next_moves = [me + (option, ) * cost for option, cost in my_options.items()]\n",
    "    # choose the elephant's next move\n",
    "    if not elephant_stop_active and elephant_last != my_last_stop:\n",
    "        elephant_next_moves = {my_next: [elephant + (None, )] for my_next in my_next_moves}\n",
    "    else:\n",
    "        elephant_next_moves = {}\n",
    "        for my_option in my_next_moves:\n",
    "            temp = []\n",
    "            for option, cost in elephant_opts.items():\n",
    "                elephant_option = elephant + (option, ) * cost\n",
    "                if elephant_option != my_option:\n",
    "                    temp.append(elephant_option)\n",
    "            elephant_next_moves.update({my_option: temp})\n",
    "\n",
    "    scores = []\n",
    "    for my_next_move in my_next_moves:\n",
    "        # print(my_next_move)\n",
    "        # print(elephant_next_moves)\n",
    "        for elephant_next_move in elephant_next_moves[my_next_move]:\n",
    "            scores.extend(get_dual_scores(\n",
    "                my_next_move, elephant_next_move, total_time_left))\n",
    "\n",
    "    return scores\n",
    "\n",
    "dual_scores = get_dual_scores(('AA', ), ('AA', ), 12)"
   ]
  },
  {
   "cell_type": "code",
   "execution_count": 88,
   "metadata": {},
   "outputs": [
    {
     "name": "stdout",
     "output_type": "stream",
     "text": [
      "(('AA', 'PH', 'PH', None, 'AW', 'AW', None, 'LX', 'LX', None, 'AW', 'AW', 'PH', 'PH'), ('AA', 'HX', 'HX', None, 'QR', 'QR', 'QR', None, 'OW', 'OW', None, 'IN', 'IN', None))\n",
      "the most pressure we can relieve is 2357!\n"
     ]
    }
   ],
   "source": [
    "best_route, best_score = None, None\n",
    "for route in dual_scores:\n",
    "    m, e = route\n",
    "    score = calculate_score(m, 26) + calculate_score(e, 26)\n",
    "    if best_route is None:\n",
    "        best_route, best_score = route, score\n",
    "        continue\n",
    "    if score > best_score:\n",
    "        best_route, best_score = route, score\n",
    "print(best_route)\n",
    "print(f'the most pressure we can relieve is {best_score}!')"
   ]
  }
 ],
 "metadata": {
  "kernelspec": {
   "display_name": "advent-of-code-22",
   "language": "python",
   "name": "python3"
  },
  "language_info": {
   "codemirror_mode": {
    "name": "ipython",
    "version": 3
   },
   "file_extension": ".py",
   "mimetype": "text/x-python",
   "name": "python",
   "nbconvert_exporter": "python",
   "pygments_lexer": "ipython3",
   "version": "3.11.0"
  },
  "orig_nbformat": 4,
  "vscode": {
   "interpreter": {
    "hash": "68417e919b0e4b56d7cc53f5fb728a454fa0b7c2f4afec00c4a0958dca6f6ed0"
   }
  }
 },
 "nbformat": 4,
 "nbformat_minor": 2
}
