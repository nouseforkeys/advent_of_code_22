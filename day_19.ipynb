{
 "cells": [
  {
   "attachments": {},
   "cell_type": "markdown",
   "metadata": {},
   "source": [
    "# Day 19\n",
    "\n",
    "## Part 1\n",
    "\n",
    "- to crack geodes we need geode-cracking obsidian robots\n",
    "- to get obsidian we need robots water-proofed with clay\n",
    "- to get clay we need clay-collecting robots\n",
    "- all robots need ore, which is gathered by ore-collecitng robots (with big drills)\n",
    "- I have one of those ore-collecing robots already!\n",
    "- robots can collect 1 unit of resource per minute\n",
    "- it takes 1 minute to build a robot but resourses are consumed the instant the robot construction begins\n",
    "- we have to choose a blueprint (from the input) and stick with it for the run\n",
    "- a blueprint's quality is its ID number times the number of geodes we can mine using it in `24 minutes`\n",
    "\n",
    "` What do you get if you add up the quality level of all of the blueprints in your list?`"
   ]
  },
  {
   "cell_type": "code",
   "execution_count": 11,
   "metadata": {},
   "outputs": [
    {
     "name": "stdout",
     "output_type": "stream",
     "text": [
      "Blueprint(id=1, ore_bot=OreRobot(ore=4), clay_bot=ClayRobot(ore=4), obsidian_bot=ObsidianRobot(ore=4, clay=8), geode_bot=GeodeRobot(ore=2, obsidian=18))\n"
     ]
    }
   ],
   "source": [
    "from __future__ import annotations\n",
    "\n",
    "from copy import deepcopy\n",
    "from dataclasses import dataclass\n",
    "from utils import parse_from_file, ParseConfig\n",
    "\n",
    "@dataclass\n",
    "class Robot:\n",
    "    ore: int\n",
    "\n",
    "@dataclass\n",
    "class OreRobot(Robot):\n",
    "    pass\n",
    "\n",
    "@dataclass\n",
    "class ClayRobot(Robot):\n",
    "    pass\n",
    "\n",
    "@dataclass\n",
    "class ObsidianRobot(Robot):\n",
    "    clay: int\n",
    "\n",
    "@dataclass\n",
    "class GeodeRobot(Robot):\n",
    "    obsidian: int\n",
    "\n",
    "@dataclass\n",
    "class Blueprint:\n",
    "    id: int\n",
    "    ore_bot: OreRobot\n",
    "    clay_bot: ClayRobot\n",
    "    obsidian_bot: ObsidianRobot\n",
    "    geode_bot: GeodeRobot\n",
    "\n",
    "parser = ParseConfig('\\n', ParseConfig(': ', [\n",
    "    ParseConfig(' ', [None, int]),\n",
    "    ParseConfig('.', [\n",
    "        ParseConfig(' ', [None]*4 + [int] + [None]),\n",
    "        ParseConfig(' ', [None]*5 + [int] + [None]),\n",
    "        ParseConfig(' ', [None]*5 + [int] + [None]*2 + [int] + [None]),\n",
    "        ParseConfig(' ', [None]*5 + [int] + [None]*2 + [int] + [None]),\n",
    "        None\n",
    "    ])\n",
    "]))\n",
    "\n",
    "blueprint_values = parse_from_file(\n",
    "        'day_19.txt', parser, unnest_single_items=True)\n",
    "\n",
    "blueprints = []\n",
    "for id, (ore, clay, obsidian, geode) in blueprint_values:\n",
    "    blueprints.append(Blueprint(\n",
    "        id,\n",
    "        OreRobot(ore),\n",
    "        ClayRobot(clay),\n",
    "        ObsidianRobot(*obsidian),\n",
    "        GeodeRobot(*geode)\n",
    "    ))\n",
    "\n",
    "print(blueprints[0])"
   ]
  },
  {
   "cell_type": "code",
   "execution_count": 16,
   "metadata": {},
   "outputs": [
    {
     "ename": "NotImplementedError",
     "evalue": "",
     "output_type": "error",
     "traceback": [
      "\u001b[1;31m---------------------------------------------------------------------------\u001b[0m",
      "\u001b[1;31mNotImplementedError\u001b[0m                       Traceback (most recent call last)",
      "Cell \u001b[1;32mIn [16], line 41\u001b[0m\n\u001b[0;32m     37\u001b[0m                 new_layer\u001b[39m.\u001b[39mappend(option\u001b[39m.\u001b[39mhashable)\n\u001b[0;32m     39\u001b[0m     \u001b[39mreturn\u001b[39;00m [[State(state) \u001b[39mfor\u001b[39;00m state \u001b[39min\u001b[39;00m layer] \u001b[39mfor\u001b[39;00m layer \u001b[39min\u001b[39;00m layers]\n\u001b[1;32m---> 41\u001b[0m \u001b[39mprint\u001b[39m(get_layers(start, blueprints[\u001b[39m0\u001b[39;49m]))\n",
      "Cell \u001b[1;32mIn [16], line 33\u001b[0m, in \u001b[0;36mget_layers\u001b[1;34m(start, blueprint)\u001b[0m\n\u001b[0;32m     31\u001b[0m new_layer \u001b[39m=\u001b[39m []\n\u001b[0;32m     32\u001b[0m \u001b[39mfor\u001b[39;00m values \u001b[39min\u001b[39;00m layers[\u001b[39m-\u001b[39m\u001b[39m1\u001b[39m]:\n\u001b[1;32m---> 33\u001b[0m     options \u001b[39m=\u001b[39m State(\u001b[39m*\u001b[39;49mvalues)\u001b[39m.\u001b[39;49mget_options(blueprint)\n\u001b[0;32m     34\u001b[0m     \u001b[39mfor\u001b[39;00m option \u001b[39min\u001b[39;00m options:\n\u001b[0;32m     35\u001b[0m         \u001b[39mif\u001b[39;00m option\u001b[39m.\u001b[39mhashable \u001b[39min\u001b[39;00m new_layer:\n",
      "Cell \u001b[1;32mIn [16], line 21\u001b[0m, in \u001b[0;36mState.get_options\u001b[1;34m(self, blueprint)\u001b[0m\n\u001b[0;32m     17\u001b[0m \u001b[39mdef\u001b[39;00m \u001b[39mget_options\u001b[39m(\u001b[39mself\u001b[39m, blueprint: Blueprint) \u001b[39m-\u001b[39m\u001b[39m>\u001b[39m \u001b[39mlist\u001b[39m[State]:\n\u001b[0;32m     18\u001b[0m     \u001b[39m\"\"\"\u001b[39;00m\n\u001b[0;32m     19\u001b[0m \u001b[39m    returns a list of possible states for a given blueprint\u001b[39;00m\n\u001b[0;32m     20\u001b[0m \u001b[39m    \"\"\"\u001b[39;00m\n\u001b[1;32m---> 21\u001b[0m     \u001b[39mraise\u001b[39;00m \u001b[39mNotImplementedError\u001b[39;00m()\n",
      "\u001b[1;31mNotImplementedError\u001b[0m: "
     ]
    }
   ],
   "source": [
    "@dataclass\n",
    "class State:\n",
    "    ore: int\n",
    "    clay: int\n",
    "    obsidian: int\n",
    "    geodes: int\n",
    "    ore_bots: int\n",
    "    clay_bots: int\n",
    "    obsidian_bots: int\n",
    "    geode_bots: int\n",
    "\n",
    "    @property\n",
    "    def hashable(self) -> tuple[int]:\n",
    "        return self.ore, self.clay, self.obsidian, self.geodes, \\\n",
    "            self.ore_bots, self.clay_bots, self.obsidian_bots, self.geode_bots\n",
    "    \n",
    "    def get_options(self, blueprint: Blueprint) -> list[State]:\n",
    "        \"\"\"\n",
    "        returns a list of possible states for a given blueprint\n",
    "        \"\"\"\n",
    "        raise NotImplementedError()\n",
    "\n",
    "start = State(0, 0, 0, 0, 1, 0, 0, 0)\n",
    "\n",
    "def get_layers(start: State, blueprint: Blueprint) -> list[list[State]]:\n",
    "    \"\"\"\n",
    "    returns a list of all possible states at each iteration\n",
    "    \"\"\"\n",
    "    layers = [[start.hashable]]\n",
    "    for _ in range(24):\n",
    "        new_layer = []\n",
    "        for values in layers[-1]:\n",
    "            options = State(*values).get_options(blueprint)\n",
    "            for option in options:\n",
    "                if option.hashable in new_layer:\n",
    "                    continue\n",
    "                new_layer.append(option.hashable)\n",
    "    \n",
    "    return [[State(state) for state in layer] for layer in layers]\n",
    "\n",
    "print(get_layers(start, blueprints[0]))"
   ]
  }
 ],
 "metadata": {
  "kernelspec": {
   "display_name": "advent-of-code",
   "language": "python",
   "name": "python3"
  },
  "language_info": {
   "codemirror_mode": {
    "name": "ipython",
    "version": 3
   },
   "file_extension": ".py",
   "mimetype": "text/x-python",
   "name": "python",
   "nbconvert_exporter": "python",
   "pygments_lexer": "ipython3",
   "version": "3.11.0"
  },
  "orig_nbformat": 4,
  "vscode": {
   "interpreter": {
    "hash": "2d3d69b7f7c7447ebb59bd0325e8659c9bdbb7c04d20332a5a8a68af11de2233"
   }
  }
 },
 "nbformat": 4,
 "nbformat_minor": 2
}
