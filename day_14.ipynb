{
 "cells": [
  {
   "attachments": {},
   "cell_type": "markdown",
   "metadata": {},
   "source": [
    "# Day 14\n",
    "\n",
    "## Part 1\n",
    "\n",
    "- Falling sand is coming in from `(500,0)`\n",
    "- Paths define rock formations\n",
    "- Sand falls down if it can\n",
    "- If blocked from below, sand falls down and left\n",
    "- if blocked from down and left, it falls down and right\n",
    "- if blocked from down and right it stops\n",
    "\n",
    "`How many units of sand come to rest before sand starts flowing into the abyss below?`"
   ]
  },
  {
   "cell_type": "code",
   "execution_count": 13,
   "metadata": {},
   "outputs": [
    {
     "name": "stdout",
     "output_type": "stream",
     "text": [
      "[[[500, 30], [504, 30]], [[503, 28], [507, 28]], [[477, 136], [477, 133], [477, 136], [479, 136], [479, 135], [479, 136], [481, 136], [481, 127], [481, 136], [483, 136], [483, 131], [483, 136], [485, 136], [485, 129], [485, 136], [487, 136], [487, 135], [487, 136]]]\n"
     ]
    }
   ],
   "source": [
    "from matplotlib import pyplot as plt\n",
    "from utils import parse_from_file, ParseConfig\n",
    "\n",
    "parser = ParseConfig('\\n', ParseConfig(' -> ', ParseConfig(',', int)))\n",
    "\n",
    "rock_formations = parse_from_file('day_14.txt', parser)\n",
    "\n",
    "print(rock_formations[:3])"
   ]
  },
  {
   "cell_type": "code",
   "execution_count": 14,
   "metadata": {},
   "outputs": [
    {
     "name": "stdout",
     "output_type": "stream",
     "text": [
      "grid bounds: ((0, 161), (578, 0))\n"
     ]
    }
   ],
   "source": [
    "# lets create a grid to store the state of the cave\n",
    "\n",
    "# first let's find the bounds of the grid\n",
    "left, down, up, right = 0, 0, 0, 0\n",
    "for formation in rock_formations:\n",
    "    for x, y in formation:\n",
    "        left = min(x, left)\n",
    "        right = max(x, right)\n",
    "        up = min(y, up)\n",
    "        down = max(y, down)\n",
    "\n",
    "print(f'grid bounds: {(left, down), (right, up)}')\n",
    "\n",
    "def coord_to_index(x: int, y: int) -> tuple[int]:\n",
    "    \"\"\"\n",
    "    converts cave coordinates to list indecies\n",
    "    \"\"\"\n",
    "    return x - left, y - up\n",
    "\n",
    "sand = 2\n",
    "rock = 1\n",
    "air = 0\n",
    "\n",
    "# ok lets fill a grid that large with air\n",
    "grid = []\n",
    "for _ in range(down - up + 1):\n",
    "    grid.append(list())\n",
    "    for _ in range(right - left + 1):\n",
    "        grid[-1].append(air)"
   ]
  },
  {
   "cell_type": "code",
   "execution_count": 15,
   "metadata": {},
   "outputs": [],
   "source": [
    "# now let's fill in the rock formations\n",
    "for formation in rock_formations:\n",
    "    for (start_x, start_y), (end_x, end_y) in \\\n",
    "            zip(formation[:-1], formation[1:]):\n",
    "        # print(formation, (start_x, start_y), (end_x, end_y))\n",
    "        if start_y == end_y:\n",
    "            low, y = coord_to_index(min(start_x, end_x), start_y)\n",
    "            high, y =  coord_to_index(max(start_x, end_x), start_y)\n",
    "            for x in range(low, high + 1):\n",
    "                grid[y][x] = rock\n",
    "        else:\n",
    "            x, low = coord_to_index(start_x, min(start_y, end_y))\n",
    "            x, high =  coord_to_index(start_x, max(start_y, end_y))\n",
    "            for y in range(low, high + 1):\n",
    "                grid[y][x] = rock"
   ]
  },
  {
   "cell_type": "code",
   "execution_count": 16,
   "metadata": {},
   "outputs": [
    {
     "data": {
      "text/plain": [
       "Text(0.5, 1.0, 'the grid... a digital frontier')"
      ]
     },
     "execution_count": 16,
     "metadata": {},
     "output_type": "execute_result"
    },
    {
     "data": {
      "image/png": "[encoded data removed]",
      "text/plain": [
       "<Figure size 640x480 with 1 Axes>"
      ]
     },
     "metadata": {},
     "output_type": "display_data"
    }
   ],
   "source": [
    "# let's see what we're dealing with\n",
    "fig, ax = plt.subplots()\n",
    "# to get the colours consistent we'll temporarily add a sand to (0,0)\n",
    "temp = grid[0][0]\n",
    "grid[0][0] = sand\n",
    "# plot the grid in reverse to make things the right way up\n",
    "ax.pcolormesh(list(reversed(grid)))\n",
    "grid[0][0] = temp\n",
    "ax.set_title('the grid... a digital frontier')"
   ]
  },
  {
   "cell_type": "code",
   "execution_count": 17,
   "metadata": {},
   "outputs": [
    {
     "name": "stdout",
     "output_type": "stream",
     "text": [
      "508 161 (508, 161)\n"
     ]
    }
   ],
   "source": [
    "# ok, now let's add sand!\n",
    "falling_sand = []\n",
    "\n",
    "continue_iterating = True\n",
    "while continue_iterating:\n",
    "    falling_sand.append((500, 0))\n",
    "    updated_sand = []\n",
    "    for grain in falling_sand:\n",
    "        x, y = coord_to_index(*grain)\n",
    "        try:\n",
    "            if grid[y + 1][x] == air:\n",
    "                updated_sand.append((x, y + 1))\n",
    "            elif grid[y + 1][x - 1] == air:\n",
    "                updated_sand.append((x - 1, y + 1))\n",
    "            elif grid[y + 1][x + 1] == air:\n",
    "                updated_sand.append((x + 1, y + 1))\n",
    "            else:\n",
    "                grid[y][x] = sand\n",
    "        except IndexError:\n",
    "            print(x, y, coord_to_index(x, y), )\n",
    "            continue_iterating = False\n",
    "            break\n",
    "    falling_sand = updated_sand"
   ]
  },
  {
   "cell_type": "code",
   "execution_count": 18,
   "metadata": {},
   "outputs": [
    {
     "data": {
      "text/plain": [
       "Text(0.5, 1.0, \"it's coarse and it's rough and it gets everywhere!\")"
      ]
     },
     "execution_count": 18,
     "metadata": {},
     "output_type": "execute_result"
    },
    {
     "data": {
      "image/png": "[encoded data removed]",
      "text/plain": [
       "<Figure size 640x480 with 1 Axes>"
      ]
     },
     "metadata": {},
     "output_type": "display_data"
    }
   ],
   "source": [
    "# the final state looks like...\n",
    "fig, ax = plt.subplots()\n",
    "# plot the grid in reverse to make things the right way up\n",
    "ax.pcolormesh(list(reversed([row[450:] for row in grid])))\n",
    "ax.set_title('it\\'s coarse and it\\'s rough and it gets everywhere!')"
   ]
  },
  {
   "cell_type": "code",
   "execution_count": 19,
   "metadata": {},
   "outputs": [
    {
     "name": "stdout",
     "output_type": "stream",
     "text": [
      "the total sand that stays on the grid is: 1406!\n"
     ]
    }
   ],
   "source": [
    "total_static_sand = sum([\n",
    "    sum([material == sand for material in row]) for row in grid\n",
    "])\n",
    "\n",
    "print(f'the total sand that stays on the grid is: {total_static_sand}!')"
   ]
  },
  {
   "cell_type": "code",
   "execution_count": null,
   "metadata": {},
   "outputs": [],
   "source": []
  }
 ],
 "metadata": {
  "kernelspec": {
   "display_name": "advent-of-code-22",
   "language": "python",
   "name": "python3"
  },
  "language_info": {
   "codemirror_mode": {
    "name": "ipython",
    "version": 3
   },
   "file_extension": ".py",
   "mimetype": "text/x-python",
   "name": "python",
   "nbconvert_exporter": "python",
   "pygments_lexer": "ipython3",
   "version": "3.11.0"
  },
  "orig_nbformat": 4,
  "vscode": {
   "interpreter": {
    "hash": "68417e919b0e4b56d7cc53f5fb728a454fa0b7c2f4afec00c4a0958dca6f6ed0"
   }
  }
 },
 "nbformat": 4,
 "nbformat_minor": 2
}
