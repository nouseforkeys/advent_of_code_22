{
 "cells": [
  {
   "attachments": {},
   "cell_type": "markdown",
   "metadata": {},
   "source": [
    "# Day 13\n",
    "\n",
    "## Part 1\n",
    "\n",
    "- compare 2 signals\n",
    "- first is `left` then `right`\n",
    "- if both values are `int`:\n",
    "    - the smaller value should be first\n",
    "- if both values are `list`:\n",
    "    - compare each value in turn as above\n",
    "    - if `left` is shorter than `right` this is correct\n",
    "- if one is `int` and one is `list` convert the `int` to a single item `list` and compare\n",
    "- packets are enumerated from 1\n",
    "\n",
    "`Determine which pairs of packets are already in the right order. What is the sum of the indices of those pairs?`"
   ]
  },
  {
   "cell_type": "code",
   "execution_count": 38,
   "metadata": {},
   "outputs": [
    {
     "name": "stdout",
     "output_type": "stream",
     "text": [
      "start [\n",
      "substring [[10,[],[9,8,6,[2,7,0,8]],[],[[4,6,2,1,4],6,5]]\n",
      "start [\n",
      "substring [10,[],[9,8,6,[2,7,0,8]],[],[[4,6,2,1,4],6,5]\n",
      "start 10,[\n",
      "substring [\n"
     ]
    },
    {
     "ename": "ValueError",
     "evalue": "invalid literal for int() with base 10: ''",
     "output_type": "error",
     "traceback": [
      "\u001b[1;31m---------------------------------------------------------------------------\u001b[0m",
      "\u001b[1;31mValueError\u001b[0m                                Traceback (most recent call last)",
      "Cell \u001b[1;32mIn [38], line 30\u001b[0m\n\u001b[0;32m     26\u001b[0m     \u001b[39mreturn\u001b[39;00m output\n\u001b[0;32m     29\u001b[0m test_string \u001b[39m=\u001b[39m \u001b[39m'\u001b[39m\u001b[39m[[10,[],[9,8,6,[2,7,0,8]],[],[[4,6,2,1,4],6,5]]]\u001b[39m\u001b[39m'\u001b[39m\n\u001b[1;32m---> 30\u001b[0m \u001b[39mprint\u001b[39m(parse_recursive_lists(test_string))\n",
      "Cell \u001b[1;32mIn [38], line 23\u001b[0m, in \u001b[0;36mparse_recursive_lists\u001b[1;34m(string)\u001b[0m\n\u001b[0;32m     21\u001b[0m             level \u001b[39m-\u001b[39m\u001b[39m=\u001b[39m \u001b[39m1\u001b[39m\n\u001b[0;32m     22\u001b[0m     \u001b[39mprint\u001b[39m(\u001b[39m'\u001b[39m\u001b[39msubstring\u001b[39m\u001b[39m'\u001b[39m, string[start:end])\n\u001b[1;32m---> 23\u001b[0m     output\u001b[39m.\u001b[39mappend(parse_recursive_lists(string[start \u001b[39m+\u001b[39;49m \u001b[39m1\u001b[39;49m:end]))\n\u001b[0;32m     24\u001b[0m \u001b[39melse\u001b[39;00m:\n\u001b[0;32m     25\u001b[0m     output\u001b[39m.\u001b[39mappend(\u001b[39mint\u001b[39m(segment\u001b[39m.\u001b[39mstrip(\u001b[39m'\u001b[39m\u001b[39m]\u001b[39m\u001b[39m'\u001b[39m)))\n",
      "Cell \u001b[1;32mIn [38], line 23\u001b[0m, in \u001b[0;36mparse_recursive_lists\u001b[1;34m(string)\u001b[0m\n\u001b[0;32m     21\u001b[0m             level \u001b[39m-\u001b[39m\u001b[39m=\u001b[39m \u001b[39m1\u001b[39m\n\u001b[0;32m     22\u001b[0m     \u001b[39mprint\u001b[39m(\u001b[39m'\u001b[39m\u001b[39msubstring\u001b[39m\u001b[39m'\u001b[39m, string[start:end])\n\u001b[1;32m---> 23\u001b[0m     output\u001b[39m.\u001b[39mappend(parse_recursive_lists(string[start \u001b[39m+\u001b[39;49m \u001b[39m1\u001b[39;49m:end]))\n\u001b[0;32m     24\u001b[0m \u001b[39melse\u001b[39;00m:\n\u001b[0;32m     25\u001b[0m     output\u001b[39m.\u001b[39mappend(\u001b[39mint\u001b[39m(segment\u001b[39m.\u001b[39mstrip(\u001b[39m'\u001b[39m\u001b[39m]\u001b[39m\u001b[39m'\u001b[39m)))\n",
      "Cell \u001b[1;32mIn [38], line 23\u001b[0m, in \u001b[0;36mparse_recursive_lists\u001b[1;34m(string)\u001b[0m\n\u001b[0;32m     21\u001b[0m             level \u001b[39m-\u001b[39m\u001b[39m=\u001b[39m \u001b[39m1\u001b[39m\n\u001b[0;32m     22\u001b[0m     \u001b[39mprint\u001b[39m(\u001b[39m'\u001b[39m\u001b[39msubstring\u001b[39m\u001b[39m'\u001b[39m, string[start:end])\n\u001b[1;32m---> 23\u001b[0m     output\u001b[39m.\u001b[39mappend(parse_recursive_lists(string[start \u001b[39m+\u001b[39;49m \u001b[39m1\u001b[39;49m:end]))\n\u001b[0;32m     24\u001b[0m \u001b[39melse\u001b[39;00m:\n\u001b[0;32m     25\u001b[0m     output\u001b[39m.\u001b[39mappend(\u001b[39mint\u001b[39m(segment\u001b[39m.\u001b[39mstrip(\u001b[39m'\u001b[39m\u001b[39m]\u001b[39m\u001b[39m'\u001b[39m)))\n",
      "Cell \u001b[1;32mIn [38], line 25\u001b[0m, in \u001b[0;36mparse_recursive_lists\u001b[1;34m(string)\u001b[0m\n\u001b[0;32m     23\u001b[0m         output\u001b[39m.\u001b[39mappend(parse_recursive_lists(string[start \u001b[39m+\u001b[39m \u001b[39m1\u001b[39m:end]))\n\u001b[0;32m     24\u001b[0m     \u001b[39melse\u001b[39;00m:\n\u001b[1;32m---> 25\u001b[0m         output\u001b[39m.\u001b[39mappend(\u001b[39mint\u001b[39;49m(segment\u001b[39m.\u001b[39;49mstrip(\u001b[39m'\u001b[39;49m\u001b[39m]\u001b[39;49m\u001b[39m'\u001b[39;49m)))\n\u001b[0;32m     26\u001b[0m \u001b[39mreturn\u001b[39;00m output\n",
      "\u001b[1;31mValueError\u001b[0m: invalid literal for int() with base 10: ''"
     ]
    }
   ],
   "source": [
    "from utils import parse_from_file, ParseConfig\n",
    "\n",
    "def parse_recursive_lists(string: str) -> 'list[list]':\n",
    "    \"\"\"\n",
    "    returns a multi-dimensional list object of the string passed\n",
    "    \"\"\"\n",
    "    output = list()\n",
    "    segments = string.split(',')\n",
    "    for index, segment in enumerate(segments):\n",
    "        if segment.startswith('['):\n",
    "            start = len(''.join(segments[:index])) + index\n",
    "            print('start', string[:start + 1])\n",
    "            level = 1\n",
    "            end = start\n",
    "            while level > 0 or end == start:\n",
    "                # print(level, end, string[end])\n",
    "                end += 1\n",
    "                if string[end] == '[':\n",
    "                    level += 1\n",
    "                elif string[end] == ']':\n",
    "                    level -= 1\n",
    "            print('substring', string[start:end])\n",
    "            output.append(parse_recursive_lists(string[start + 1:end]))\n",
    "        else:\n",
    "            output.append(int(segment.strip(']')))\n",
    "    return output\n",
    "\n",
    "\n",
    "test_string = '[[10,[],[9,8,6,[2,7,0,8]],[],[[4,6,2,1,4],6,5]]]'\n",
    "print(parse_recursive_lists(test_string))\n"
   ]
  },
  {
   "cell_type": "code",
   "execution_count": null,
   "metadata": {},
   "outputs": [],
   "source": [
    "\n",
    "parser = ParseConfig('\\n\\n', ParseConfig('\\n', ))\n",
    "\n",
    "signal_pairs = parse_from_file('day_13.txt', parser)\n",
    "\n",
    "print(signal_pairs[:10])"
   ]
  }
 ],
 "metadata": {
  "kernelspec": {
   "display_name": "Python 3.11.0 ('advent-of-code': venv)",
   "language": "python",
   "name": "python3"
  },
  "language_info": {
   "codemirror_mode": {
    "name": "ipython",
    "version": 3
   },
   "file_extension": ".py",
   "mimetype": "text/x-python",
   "name": "python",
   "nbconvert_exporter": "python",
   "pygments_lexer": "ipython3",
   "version": "3.11.0"
  },
  "orig_nbformat": 4,
  "vscode": {
   "interpreter": {
    "hash": "2d3d69b7f7c7447ebb59bd0325e8659c9bdbb7c04d20332a5a8a68af11de2233"
   }
  }
 },
 "nbformat": 4,
 "nbformat_minor": 2
}
