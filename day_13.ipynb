{
 "cells": [
  {
   "attachments": {},
   "cell_type": "markdown",
   "metadata": {},
   "source": [
    "# Day 13\n",
    "\n",
    "## Part 1\n",
    "\n",
    "- compare 2 signals\n",
    "- first is `left` then `right`\n",
    "- if both values are `int`:\n",
    "    - the smaller value should be first\n",
    "- if both values are `list`:\n",
    "    - compare each value in turn as above\n",
    "    - if `left` is shorter than `right` this is correct\n",
    "- if one is `int` and one is `list` convert the `int` to a single item `list` and compare\n",
    "- packets are enumerated from 1\n",
    "\n",
    "`Determine which pairs of packets are already in the right order. What is the sum of the indices of those pairs?`"
   ]
  },
  {
   "cell_type": "code",
   "execution_count": 29,
   "metadata": {},
   "outputs": [
    {
     "name": "stdout",
     "output_type": "stream",
     "text": [
      "['', '', '10,', '],', '9,8,6,', '2,7,0,8]],', '],', '', '4,6,2,1,4],6,5]]]']\n",
      "None\n"
     ]
    }
   ],
   "source": [
    "from utils import parse_from_file, ParseConfig\n",
    "\n",
    "def parse_recursive_lists(string: str) -> 'list[list]':\n",
    "    \"\"\"\n",
    "    returns a multi-dimensional list object of the string passed\n",
    "    \"\"\"\n",
    "    print(string.split('['))\n",
    "        \n",
    "\n",
    "test_string = '[[10,[],[9,8,6,[2,7,0,8]],[],[[4,6,2,1,4],6,5]]]'\n",
    "print(parse_recursive_lists(test_string))\n"
   ]
  },
  {
   "cell_type": "markdown",
   "metadata": {},
   "source": []
  },
  {
   "cell_type": "code",
   "execution_count": null,
   "metadata": {},
   "outputs": [],
   "source": [
    "\n",
    "parser = ParseConfig('\\n\\n', ParseConfig('\\n', ))\n",
    "\n",
    "signal_pairs = parse_from_file('day_13.txt', parser)\n",
    "\n",
    "print(signal_pairs[:10])"
   ]
  }
 ],
 "metadata": {
  "kernelspec": {
   "display_name": "advent-of-code-22",
   "language": "python",
   "name": "python3"
  },
  "language_info": {
   "codemirror_mode": {
    "name": "ipython",
    "version": 3
   },
   "file_extension": ".py",
   "mimetype": "text/x-python",
   "name": "python",
   "nbconvert_exporter": "python",
   "pygments_lexer": "ipython3",
   "version": "3.11.0"
  },
  "orig_nbformat": 4,
  "vscode": {
   "interpreter": {
    "hash": "68417e919b0e4b56d7cc53f5fb728a454fa0b7c2f4afec00c4a0958dca6f6ed0"
   }
  }
 },
 "nbformat": 4,
 "nbformat_minor": 2
}
