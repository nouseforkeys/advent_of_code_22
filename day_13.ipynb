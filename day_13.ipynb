{
 "cells": [
  {
   "attachments": {},
   "cell_type": "markdown",
   "metadata": {},
   "source": [
    "# Day 13\n",
    "\n",
    "## Part 1\n",
    "\n",
    "- compare 2 signals\n",
    "- first is `left` then `right`\n",
    "- if both values are `int`:\n",
    "    - the smaller value should be first\n",
    "- if both values are `list`:\n",
    "    - compare each value in turn as above\n",
    "    - if `left` is shorter than `right` this is correct\n",
    "- if one is `int` and one is `list` convert the `int` to a single item `list` and compare\n",
    "- packets are enumerated from 1\n",
    "\n",
    "`Determine which pairs of packets are already in the right order. What is the sum of the indices of those pairs?`"
   ]
  },
  {
   "cell_type": "code",
   "execution_count": 95,
   "metadata": {},
   "outputs": [
    {
     "name": "stdout",
     "output_type": "stream",
     "text": [
      "[[10, [], [9, 8, 6, [2, 7, 0, 8]], [], [[4, 6, 2, 1, 4], 6, 5]]]\n"
     ]
    }
   ],
   "source": [
    "from utils import parse_from_file, ParseConfig\n",
    "\n",
    "def parse_recursive_lists(string: str) -> 'list[list]':\n",
    "    \"\"\"\n",
    "    returns a multi-dimensional list object of the string passed\n",
    "    \"\"\"\n",
    "    output = list()\n",
    "    if string == '':\n",
    "        return output\n",
    "    segments = string.split(',')\n",
    "    skip_forward = 0\n",
    "    for index, segment in enumerate(segments):\n",
    "        if skip_forward != 0:\n",
    "            skip_forward -= 1\n",
    "            continue\n",
    "        if segment.startswith('['):\n",
    "            start = len(''.join(segments[:index])) + index\n",
    "            # print('start', start, string[:start], string[start])\n",
    "            level = 0\n",
    "            end = start\n",
    "            while (level > 0 or end == start) and end < len(string) - 1:\n",
    "                # print(level, end, string[end])\n",
    "                if string[end] == '[':\n",
    "                    level += 1\n",
    "                elif string[end] == ']':\n",
    "                    level -= 1\n",
    "                end += 1\n",
    "                # print(level)\n",
    "            substring = string[start+1:end-1+level]\n",
    "            # print('substring', substring, level, start, end)\n",
    "            skip_forward = len(substring.split(',')) - 1\n",
    "            output.append(parse_recursive_lists(substring))\n",
    "        else:\n",
    "            output.append(int(segment.strip(']')))\n",
    "    return output\n",
    "\n",
    "\n",
    "def list_parser_entry(string: str) -> list[list]:\n",
    "    \"\"\"\n",
    "    entry point for the recursive parser - removes one list layer at the end\n",
    "    \"\"\"\n",
    "    return parse_recursive_lists(string)[0]\n",
    "\n",
    "\n",
    "test_string = '[[10,[],[9,8,6,[2,7,0,8]],[],[[4,6,2,1,4],6,5]]]'\n",
    "print(list_parser_entry(test_string))\n"
   ]
  },
  {
   "cell_type": "code",
   "execution_count": 98,
   "metadata": {},
   "outputs": [
    {
     "name": "stdout",
     "output_type": "stream",
     "text": [
      "[[[7, 6, 3, 6, 10], [[[5, 3, 6, 7, 7]], 2, 1, 2, 6]], [[], [8, [8, 6, 5], [[5, 1, 8]], 7], []]]\n",
      "\n",
      "[[[10, [], [9, 8, 6, [2, 7, 0, 8]], [], [[4, 6, 2, 1, 4], 6, 5]]], [[4, 5, 1, [[0, 0], [6, 10], 4, 5], 10], [[2, 4, 6, 1, [6, 8]], [[2, 0, 10]], [[5, 10], [6, 4, 5, 6], [8, 9, 2]]], [[[], 10, 0, 7, 7], [[9, 9, 7, 3, 8]]], [[[7], 3, 8], [6, 3], 1, 5]]]\n",
      "\n",
      "[[[0, [[9, 6, 4, 5]], []]], [[10, 9, [[5, 7], 4, [5, 8, 0, 9, 8], [0, 10], [3, 1]], 4]]]\n"
     ]
    }
   ],
   "source": [
    "\n",
    "parser = ParseConfig('\\n\\n', ParseConfig('\\n', list_parser_entry))\n",
    "\n",
    "signal_pairs = parse_from_file('day_13.txt', parser)\n",
    "\n",
    "print('\\n\\n'.join([str(pair) for pair in signal_pairs[:3]]))"
   ]
  }
 ],
 "metadata": {
  "kernelspec": {
   "display_name": "Python 3.11.0 ('advent-of-code': venv)",
   "language": "python",
   "name": "python3"
  },
  "language_info": {
   "codemirror_mode": {
    "name": "ipython",
    "version": 3
   },
   "file_extension": ".py",
   "mimetype": "text/x-python",
   "name": "python",
   "nbconvert_exporter": "python",
   "pygments_lexer": "ipython3",
   "version": "3.11.0"
  },
  "orig_nbformat": 4,
  "vscode": {
   "interpreter": {
    "hash": "2d3d69b7f7c7447ebb59bd0325e8659c9bdbb7c04d20332a5a8a68af11de2233"
   }
  }
 },
 "nbformat": 4,
 "nbformat_minor": 2
}
