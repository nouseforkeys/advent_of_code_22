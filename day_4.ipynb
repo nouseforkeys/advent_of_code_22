{
 "cells": [
  {
   "cell_type": "markdown",
   "metadata": {},
   "source": [
    "# Day 4\n",
    "\n",
    "## Part 1\n",
    "\n",
    "- Pairs of elves are cleaning sections of the camp\n",
    "\n",
    "`In how many assignment pairs does one range fully contain the other?`"
   ]
  },
  {
   "cell_type": "code",
   "execution_count": 21,
   "metadata": {},
   "outputs": [
    {
     "name": "stdout",
     "output_type": "stream",
     "text": [
      "pairs: [['17-99', '18-24'], ['14-91', '22-91'], ['63-76', '66-83'], ['17-57', '17-28'], ['77-88', '14-78'], ['15-92', '14-15'], ['23-23', '24-40'], ['14-42', '41-42'], ['23-74', '21-24'], ['6-94', '94-94']]...\n"
     ]
    }
   ],
   "source": [
    "from utils import load_from_file\n",
    "\n",
    "pairs = load_from_file('day_4.txt', cast_as=[str, str], delimiter=',')\n",
    "\n",
    "print(f'pairs: {pairs[:10]}...')"
   ]
  },
  {
   "cell_type": "code",
   "execution_count": 22,
   "metadata": {},
   "outputs": [
    {
     "name": "stdout",
     "output_type": "stream",
     "text": [
      "pair ranges: [[[17, 99], [18, 24]], [[14, 91], [22, 91]], [[63, 76], [66, 83]], [[17, 57], [17, 28]], [[77, 88], [14, 78]], [[15, 92], [14, 15]], [[23, 23], [24, 40]], [[14, 42], [41, 42]], [[23, 74], [21, 24]], [[6, 94], [94, 94]]]\n"
     ]
    }
   ],
   "source": [
    "def get_range(range_string: str) -> 'list[int]':\n",
    "    \"\"\"\n",
    "    takes in a dash delimited range and returns a list of the 2 values as ints\n",
    "    \"\"\"\n",
    "    return [int(value) for value in range_string.split('-')]\n",
    "\n",
    "pair_ranges = []\n",
    "for range_a, range_b in pairs:\n",
    "    pair_ranges.append([\n",
    "        get_range(range_a),\n",
    "        get_range(range_b)\n",
    "    ])\n",
    "\n",
    "print(f'pair ranges: {pair_ranges[:10]}')"
   ]
  },
  {
   "cell_type": "code",
   "execution_count": 23,
   "metadata": {},
   "outputs": [
    {
     "name": "stdout",
     "output_type": "stream",
     "text": [
      "the total number of fully contained ranges is: 550!\n"
     ]
    }
   ],
   "source": [
    "def does_fully_contain(ranges: 'list[list[int]]') -> bool:\n",
    "    \"\"\"\n",
    "    returns true if one of the ranges specified fully contains the other\n",
    "    \"\"\"\n",
    "    range_a, range_b = ranges\n",
    "    a1, a2 = range_a\n",
    "    b1, b2 = range_b\n",
    "    return (\n",
    "        (b1 >= a1 and b2 <= a2) or (b1 <= a1 and b2 >= a2)\n",
    "    )\n",
    "\n",
    "total_fully_contained = sum(\n",
    "    [does_fully_contain(ranges) for ranges in pair_ranges]\n",
    ")\n",
    "\n",
    "print(\n",
    "    f'the total number of fully contained ranges is: {total_fully_contained}!')"
   ]
  },
  {
   "cell_type": "markdown",
   "metadata": {},
   "source": [
    "## Part 2\n",
    "\n",
    "`In how many assignment pairs do the ranges overlap?`"
   ]
  },
  {
   "cell_type": "code",
   "execution_count": 24,
   "metadata": {},
   "outputs": [
    {
     "name": "stdout",
     "output_type": "stream",
     "text": [
      "the total number of overlapping ranges is: 931!\n"
     ]
    }
   ],
   "source": [
    "def does_overlap(ranges: 'list[list[int]]') -> bool:\n",
    "    \"\"\"\n",
    "    returns true if the 2nd range overlaps the first\n",
    "\n",
    "    this doesnt catch if the 2nd range completely contains the first\n",
    "    \"\"\"\n",
    "    range_a, range_b = ranges\n",
    "    a1, a2 = range_a\n",
    "    for b in range_b:\n",
    "        if a1 <= b <= a2:\n",
    "            return True\n",
    "    return False\n",
    "\n",
    "total_overlapping = sum([\n",
    "    does_overlap(ranges) or does_fully_contain(ranges)\n",
    "    for ranges in pair_ranges\n",
    "])\n",
    "\n",
    "print(f'the total number of overlapping ranges is: {total_overlapping}!')"
   ]
  }
 ],
 "metadata": {
  "kernelspec": {
   "display_name": "Python 3.11.0 ('advent-of-code-22': venv)",
   "language": "python",
   "name": "python3"
  },
  "language_info": {
   "codemirror_mode": {
    "name": "ipython",
    "version": 3
   },
   "file_extension": ".py",
   "mimetype": "text/x-python",
   "name": "python",
   "nbconvert_exporter": "python",
   "pygments_lexer": "ipython3",
   "version": "3.11.0"
  },
  "orig_nbformat": 4,
  "vscode": {
   "interpreter": {
    "hash": "68417e919b0e4b56d7cc53f5fb728a454fa0b7c2f4afec00c4a0958dca6f6ed0"
   }
  }
 },
 "nbformat": 4,
 "nbformat_minor": 2
}
